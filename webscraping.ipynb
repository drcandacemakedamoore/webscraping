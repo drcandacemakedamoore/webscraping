{
 "cells": [
  {
   "cell_type": "markdown",
   "metadata": {},
   "source": [
    "# Practical Basics of web scraping by Dr. Candace Makeda Moore, MD"
   ]
  },
  {
   "cell_type": "markdown",
   "metadata": {},
   "source": [
    "## The following a pre-written look at web scraping  basics, in the form of a notebook to do analysis of entries on a website. The principles here can be applied across numerous websites. By the end of the notebook you should see that webscraping is easy and does not require paying exorbitant amounts for specialized software."
   ]
  },
  {
   "cell_type": "markdown",
   "metadata": {},
   "source": [
    "<div class=\"alert alert-danger\">Must know critical concenpts are in red</div>"
   ]
  },
  {
   "cell_type": "markdown",
   "metadata": {},
   "source": [
    "<div class=\"alert alert-warning\"> <b>Some advanced commentary/note with practical implications</b>  </div>"
   ]
  },
  {
   "cell_type": "markdown",
   "metadata": {},
   "source": [
    "<div class=\"alert alert-success\"> <b>This notebook does not cover much esoteric material such as automata theory, or a deep explanation of the meaning of the internet. A few notes on theory are made only when very interesting or relevant. This is a practical notebook. In green are notes for beginners to programming. If you are a beginner to Jupyter, you should scroll through running EVERY SINGLE CELL. I put in a hyperlinked table of contents, but most notebooks build sequentially, so in order not to cause errors, just run every cell.</b>  </div>"
   ]
  },
  {
   "cell_type": "markdown",
   "metadata": {},
   "source": [
    "The goals of this specific project include discussing the web, and a demo of scraping it. \n",
    "\n",
    "Contents:\n",
    "\n",
    "- <a href='#the_destination0'>Step 0: Install and import libraries</a>\n",
    "- <a href='#the_destination1'>Step 1: Let's talk web</a>\n",
    "- <a href='#the_destination2'>Step 2: Let's actually scrape </a>\n",
    "- <a href='#the_destination3'>Step 3: So what?</a>\n",
    "- <a href='#the_destination4'>Step 4: Scrape multiple pages</a>\n",
    "- <a href='#the_destination5'>Step 5: Explore what you scraped</a>"
   ]
  },
  {
   "cell_type": "markdown",
   "metadata": {},
   "source": [
    "<a id='the_destination0'></a>\n",
    "## Step 0. Install and import libraries "
   ]
  },
  {
   "cell_type": "markdown",
   "metadata": {},
   "source": [
    "I did not have every library installed in a place Jupyter could run them from. When I tried to run my code I realized I did not have plotly or wordcloud  so I will install them here:"
   ]
  },
  {
   "cell_type": "code",
   "execution_count": 88,
   "metadata": {},
   "outputs": [
    {
     "data": {
      "text/plain": [
       "['Collecting BeautifulSoup',\n",
       " '  Using cached https://files.pythonhosted.org/packages/40/f2/6c9f2f3e696ee6a1fb0e4d7850617e224ed2b0b1e872110abffeca2a09d4/BeautifulSoup-3.2.2.tar.gz',\n",
       " '    Complete output from command python setup.py egg_info:',\n",
       " '    Traceback (most recent call last):',\n",
       " '      File \"<string>\", line 1, in <module>',\n",
       " '      File \"C:\\\\Users\\\\makeda\\\\AppData\\\\Local\\\\Temp\\\\pip-install-xjzg8xeu\\\\BeautifulSoup\\\\setup.py\", line 3',\n",
       " '        \"You\\'re trying to run a very old release of Beautiful Soup under Python 3. This will not work.\"<>\"Please use Beautiful Soup 4, available through the pip package \\'beautifulsoup4\\'.\"',\n",
       " '                                                                                                        ^',\n",
       " '    SyntaxError: invalid syntax',\n",
       " '    ',\n",
       " '    ----------------------------------------',\n",
       " 'Command \"python setup.py egg_info\" failed with error code 1 in C:\\\\Users\\\\makeda\\\\AppData\\\\Local\\\\Temp\\\\pip-install-xjzg8xeu\\\\BeautifulSoup\\\\']"
      ]
     },
     "execution_count": 88,
     "metadata": {},
     "output_type": "execute_result"
    }
   ],
   "source": [
    "!! pip install BeautifulSoup\n"
   ]
  },
  {
   "cell_type": "markdown",
   "metadata": {},
   "source": [
    "<div class=\"alert alert-success\"> <b>Your machine may not have the same libraries on it as my machine. Changes are if you lack programming skills, you have a machine with few things installed other than the operating system and programs. Generally speaking, you will then have to check what you have. I suggest you find a nerdy friend who writes command line, and loves infrastructure issues, and have them check. Command line is text that you usually write into a command line interface</b>  </div>"
   ]
  },
  {
   "cell_type": "markdown",
   "metadata": {},
   "source": [
    "<div class=\"alert alert-success\">If you find your code failing (producing errors), double down on what I wrote above.</div>"
   ]
  },
  {
   "cell_type": "markdown",
   "metadata": {},
   "source": [
    "Next I load my basic data and webscraping libraries/packages that I like:"
   ]
  },
  {
   "cell_type": "code",
   "execution_count": 89,
   "metadata": {},
   "outputs": [],
   "source": [
    "# the libraries important to webscrape\n",
    "\n",
    "from bs4 import BeautifulSoup\n",
    "\n",
    "import requests"
   ]
  },
  {
   "cell_type": "code",
   "execution_count": 90,
   "metadata": {},
   "outputs": [],
   "source": [
    "# step to load up the right libraries\n",
    "# although this can vary we will probably always use pandas, numpy, re, nltk and matplotlib \n",
    "\n",
    "#fundamental data analytics libraries and packages\n",
    "import pandas as pd\n",
    "import numpy as np\n",
    "import matplotlib \n",
    "import matplotlib.pyplot as plt"
   ]
  },
  {
   "cell_type": "code",
   "execution_count": 91,
   "metadata": {},
   "outputs": [],
   "source": [
    "# NLP libraries and packages\n",
    "import re\n",
    "import nltk\n",
    "from nltk.stem import SnowballStemmer\n",
    "from nltk.stem import WordNetLemmatizer\n",
    "from nltk import wordpunct_tokenize\n",
    "from nltk.corpus import stopwords\n",
    "# we will need some specific functions from nltk to tokenize stuff.\n",
    "from nltk.tokenize import sent_tokenize, word_tokenize "
   ]
  },
  {
   "cell_type": "code",
   "execution_count": 5,
   "metadata": {},
   "outputs": [],
   "source": [
    "#fancy visualization and other fancy libraries and packages\n",
    "from wordcloud import WordCloud,STOPWORDS\n",
    "from collections import Counter\n",
    "\n",
    "import datetime as dt\n",
    "from IPython.display import Markdown, display\n",
    "from plotly.offline import download_plotlyjs, init_notebook_mode, plot, iplot\n",
    "import plotly.graph_objs as go\n",
    "import seaborn as sns"
   ]
  },
  {
   "cell_type": "code",
   "execution_count": 6,
   "metadata": {},
   "outputs": [],
   "source": [
    "#import advanced analytics and NLP packages\n",
    "import scipy\n",
    "from scipy import stats as st\n",
    "#from sklearn.feature_extraction.text import CountVectorizer"
   ]
  },
  {
   "cell_type": "markdown",
   "metadata": {},
   "source": [
    "\n",
    "<a id='the_destination1'></a>\n",
    "## Step 1. Let's talk web"
   ]
  },
  {
   "cell_type": "markdown",
   "metadata": {},
   "source": [
    "<div class=\"alert alert-warning\">Tim Berners-Lee and other geniuses at CERN, invented a lot of what we now know as the web. They came up with HTML, HTTP and browsers. Browsers were software to view web documents- which were written in HTML.The rules for transferring files are HTTP (Hypertext Transfer Protocol) although technically the majority of websites today use an enhanced data transfer protocol called HTTPS, it's built on the same ideas with more security.  Tim Berners-Lee's first browser was called WorldWideWeb, sound familiar?</div>"
   ]
  },
  {
   "cell_type": "markdown",
   "metadata": {},
   "source": [
    "<div class=\"alert alert-danger\">To get a website we use a function convenniently called get. </div>"
   ]
  },
  {
   "cell_type": "markdown",
   "metadata": {},
   "source": [
    "<div class=\"alert alert-success\">These days websites are really complicated. As an example I'll use a page on Radiopaedia. After reading about 30 lines you will see my point, and you may want to just scroll down to the next cell.</div>"
   ]
  },
  {
   "cell_type": "code",
   "execution_count": 7,
   "metadata": {
    "scrolled": false
   },
   "outputs": [
    {
     "name": "stdout",
     "output_type": "stream",
     "text": [
      "<!DOCTYPE html>\n",
      "\n",
      "<html lang=\"en-US\">\n",
      "<head>\n",
      "  <meta charset=\"utf-8\">\n",
      "\n",
      "  <meta name=\"viewport\" content=\"width=device-width, initial-scale=1\">\n",
      "  <meta name='svg-x-verification' content='48e9d9559ad07a2808d130ec4755503bfa7af2d9'/>\n",
      "  <title>Articles | Radiopaedia.org</title>\n",
      "  \n",
      "  \n",
      "  \n",
      "  \n",
      "  \n",
      "    <meta name=\"robots\" content=\"\" />\n",
      "\n",
      "  <link rel=\"apple-touch-icon-precomposed\" href=\"https://prod-assets-static.radiopaedia.org/assets/apple-touch-icon-precomposed-85b12b5f6a2dbe4b308242a52b900b97c3c3d4623199c03dccd0e084d6868aa0.png\">\n",
      "    <meta name=\"twitter:card\" content=\"summary\">\n",
      "    <meta name=\"twitter:site\" content=\"@radiopaedia\">\n",
      "    <meta name=\"twitter:title\" content=\"Articles | Radiopaedia.org\">\n",
      "\n",
      "    <meta name=\"og:site_name\" content=\"Radiopaedia\">\n",
      "    <meta name=\"og:title\" content=\"Articles | Radiopaedia.org\">\n",
      "\n",
      "  <link rel=\"alternate\" hreflang=\"en-GB\" href=\"https://radiopaedia.org//encyclopaedia/all/all?lang=gb\" />\n",
      "  <link rel=\"alternate\" hreflang=\"en-US\" href=\"https://radiopaedia.org//encyclopaedia/all/all?lang=us\" />\n",
      "  <link rel=\"alternate\" hreflang=\"x-default\" href=\"https://radiopaedia.org//encyclopaedia/all/all\" />\n",
      "\n",
      "  <link rel=\"stylesheet\" type=\"text/css\" href=\"//fonts.googleapis.com/css?family=Open+Sans:400,600,700|Lora|Bangers|Gloria+Hallelujah|Special+Elite\">\n",
      "\n",
      "  \n",
      "  <link rel=\"stylesheet\" media=\"screen\" href=\"https://prod-assets-static.radiopaedia.org/assets/application-565889eb666da62f3e8a5f4ba12961611260e950c0581392569ee44f1bb71371.css\" />\n",
      "  \n",
      "    \n",
      "\n",
      "  <script src=\"https://prod-assets-static.radiopaedia.org/assets/fallbacks/jquery.min-9cb0f463f19758437948bdeafd5559f116fd214dc058534e18831475361eb4ca.js\"></script>\n",
      "<script src=\"https://prod-assets-static.radiopaedia.org/assets/fallbacks/jquery-migrate.min-141091610b19ee1b830e0e42764f639854155ce29812427919219ff1506cfe93.js\"></script>\n",
      "<script src=\"https://prod-assets-static.radiopaedia.org/assets/fallbacks/moment.min-33cddcacf0db055ed1f8f45c7e63e84c52ddaf231836e232a64c1568df299ecc.js\"></script>\n",
      "<script src=\"https://prod-assets-static.radiopaedia.org/assets/polyfill/core-js-379af0d2e9bbade9ab8a7862e3b62bde9fbb78dde8529b59e8998143fb84c7c9.js\"></script>\n",
      "<script src=\"https://prod-assets-static.radiopaedia.org/assets/polyfill/canvas-toBlob-3136b9380ca0d0c2bab1b8a388158fba78bdc95f9792b39f2c2873f22ef7ba5b.js\"></script>\n",
      "  \n",
      "  <script\n",
      "    src=\"//cdn.snigelweb.com/sncmp/latest/sncmp_stub.min.js\"\n",
      "    type=\"text/javascript\"\n",
      "  ></script>\n",
      "\n",
      "  <script>\n",
      "    if ('__cmp' in window) {\n",
      "      __cmp('disableDefaultCSS', null, function(result){} );\n",
      "      __cmp('setLogo', \"https://prod-assets-static.radiopaedia.org/assets/logo-invert-303e55be0c4cff6eb81bef7e949c7f0fb97fc882bf53affebf162cf1f41c53c3.png\", function(result){});\n",
      "      __cmp('setPrivacyPolicy', \"//radiopaedia.org/terms?lang=us#privacy-policy\", function(result){});\n",
      "      __cmp('setPublisherPurposesVersion', 1, function(result) {});\n",
      "    }\n",
      "  </script>\n",
      "\n",
      "  <script\n",
      "    async\n",
      "    type=\"text/javascript\"\n",
      "    src=\"//cdn.snigelweb.com/pub/radiopaedia.org/20200615/snhb-radiopaedia.org.min.js\"\n",
      "  ></script>\n",
      "\n",
      "\n",
      "\n",
      "  \n",
      "  <script src=\"https://prod-assets-static.radiopaedia.org/assets/common-a52395ba23df211e00f7c7768ee3a6bf4129d0f6fedc53d4d28942a5405aafc1.js\"></script>\n",
      "  \n",
      "  <script>\n",
      "  window.RECAPTCHA_SITE_KEY = \"6Lfp4FMUAAAAAHUWtWkqLfxWM4eUUPTcd9wZu5i8\";\n",
      "</script>\n",
      "\n",
      "\n",
      "\n",
      "    <!-- UAT DMD key -->\n",
      "\n",
      "    <script>\n",
      "      (function(w,d,s,m,n,t){\n",
      "        w[m]=w[m]||{init:function(){(w[m].q=w[m].q||[]).push(arguments);},ready:function(c){if('function'!=typeof c){return;}(w[m].c=w[m].c||[]).push(c);c=w[m].c;\n",
      "        n.onload=n.onreadystatechange=function(){if(!n.readyState||/loaded|complete/.test(n.readyState)){n.onload=n.onreadystatechange=null;if(t.parentNode&&n.parentNode){t.parentNode.removeChild(n);}\n",
      "        while(c.length){(c.shift())();}}};}},w[m].d=1*new Date();n=d.createElement(s);t=d.getElementsByTagName(s)[0];n.async=1;n.src='//www.medtargetsystem.com/javascript/beacon.js';\n",
      "        n.setAttribute(\"data-aim\",m);t.parentNode.insertBefore(n,t);\n",
      "      })(window,document,'script','AIM');\n",
      "    </script>\n",
      "\n",
      "    <script>\n",
      "      function AIMonHCPIdentitifed(json) {\n",
      "        localStorage.setItem('aim-npi', json.npi_number)\n",
      "        localStorage.setItem('aim-speciality-code', json.dmd_specialty_code)\n",
      "      }\n",
      "      AIM.init('118-503-EA8A36BD', {callback: 'AIMonHCPIdentitifed'});\n",
      "    </script>\n",
      "\n",
      "  <script\n",
      "    src=\"https://securepubads.g.doubleclick.net/tag/js/gpt.js\"\n",
      "    async=\"async\"\n",
      "  ></script>\n",
      "\n",
      "  <script>\n",
      "    var googletag = googletag || {};\n",
      "    googletag.cmd = googletag.cmd || [];\n",
      "\n",
      "    window.snhb = window.snhb || {};\n",
      "    snhb.queue = snhb.queue || [];\n",
      "\n",
      "    // Per https://docs.snigelweb.com/gen2gdpr/guides/guide_02.php\n",
      "    snhb.options = {\n",
      "      logOutputEnabled : false,\n",
      "      debugOutputEnabled: false,\n",
      "      allOutputEnabled: false,\n",
      "      gdpr: {\n",
      "        reconsiderationAppealIntervalSeconds: 0,\n",
      "        mainGeo: \"us\", // 'eu' or 'us'\n",
      "      }\n",
      "\n",
      "    };\n",
      "\n",
      "    googletag.cmd.push(function() {\n",
      "      googletag.pubads().disableInitialLoad();\n",
      "      googletag.pubads().enableSingleRequest();\n",
      "      googletag.pubads().collapseEmptyDivs();\n",
      "\n",
      "\n",
      "      googletag.pubads()\n",
      "          .setTargeting(\"page\", [\"/articles\",\"/encyclopaedia/all/all\"])\n",
      "          .setTargeting(\"tag\", [\"radiology\",\"diagnosticimaging\"])\n",
      "          .setTargeting(\"cat\", [\"radiology\",\"diagnosticimaging\"])\n",
      "\n",
      "        .setTargeting(\"env\", \"production\")\n",
      "        .setTargeting(\"dc_ref\", \"https://radiopaedia.org/encyclopaedia/all/all?lang=us\")\n",
      "        .setTargeting(\"redirect\",\"false\");\n",
      "\n",
      "      try {\n",
      "        var npi_number = localStorage.getItem('aim-npi');\n",
      "        if (npi_number) {\n",
      "          googletag.pubads().setTargeting('NPI', [npi_number])\n",
      "          googletag.pubads().setTargeting('AIMNPI', \"\" + !!npi_number)\n",
      "        }\n",
      "      } catch (e) {};\n",
      "      try {\n",
      "        var specialty = localStorage.getItem('aim-speciality-code');\n",
      "        if (specialty) {\n",
      "          googletag.pubads().setTargeting('Specialty', [specialty])\n",
      "          googletag.pubads().setTargeting('HasSpecialty', 'true')\n",
      "        } else {\n",
      "          googletag.pubads().setTargeting('HasSpecialty', 'false')\n",
      "        }\n",
      "      } catch (e) {};\n",
      "\n",
      "      var slots = [\n",
      "        googletag.\n",
      "          defineSlot(\"/2190163/Announcement\", [[370,30]], \"div-gpt-ad-Announcement\").\n",
      "          setTargeting(\"pos\", \"announcement\").\n",
      "          addService(googletag.pubads()),\n",
      "      ]\n",
      "\n",
      "        slots.push(\n",
      "          googletag.\n",
      "            defineSlot(\"/2190163/Interstitial\", [[1,1]], \"div-gpt-ad-interstitial\").\n",
      "            setTargeting(\"pos\", \"interstitial\").\n",
      "            addService(googletag.pubads())\n",
      "        )\n",
      "      snhb.queue.push(function(){\n",
      "        snhb.addAdditionalAdSlotsToRefresh(slots);\n",
      "      });\n",
      "\n",
      "      $(document).on('pjax:success', function() {\n",
      "        snhb.startAuction();\n",
      "      });\n",
      "\n",
      "    });\n",
      "  </script>\n",
      "\n",
      "\n",
      "  <link rel=\"alternate\" type=\"application/atom+xml\" title=\"Radiopaedia Blog RSS Feed\" href=\"https://radiopaedia.org/blog.atom?lang=us\" />\n",
      "\n",
      "    \n",
      "    \n",
      "    \n",
      "  <!-- Analytics has to be rendered or your session grows indefinitely -->\n",
      "  <script type=\"text/javascript\">\n",
      "var Analytical = {\n",
      "  track: function(page) {\n",
      "\n",
      "  },\n",
      "  event: function(name, data) {\n",
      "    if (typeof data === 'undefined') { data = {}; }\n",
      "\n",
      "  }\n",
      "};\n",
      "</script>\n",
      "\n",
      "  <script>window.env = \"production\" </script>\n",
      "  <meta name=\"csrf-param\" content=\"authenticity_token\" />\n",
      "<meta name=\"csrf-token\" content=\"b2F7OubIegVgDPPVWbG3+xjGgTW3p4ERbXdpWY+uHVlyAc1gqotb4rGcoNO77HfAh6oaIPBevYR8oZ/YoChAvg==\" />\n",
      "  \n",
      "\n",
      "</head>\n",
      "\n",
      "<body id=\"\" class=\"encyclopedia articles onecol\" data-touch-browser=\"false\">\n",
      "    <!-- Google Tag Manager -->\n",
      "  <noscript><iframe src=\"//www.googletagmanager.com/ns.html?id=GTM-PGTH8F\"\n",
      "  height=\"0\" width=\"0\" style=\"display:none;visibility:hidden\"></iframe></noscript>\n",
      "  <script>(function(w,d,s,l,i){w[l]=w[l]||[];w[l].push({'gtm.start':\n",
      "  new Date().getTime(),event:'gtm.js'});var f=d.getElementsByTagName(s)[0],\n",
      "  j=d.createElement(s),dl=l!='dataLayer'?'&l='+l:'';j.async=true;j.src=\n",
      "  '//www.googletagmanager.com/gtm.js?id='+i+dl;f.parentNode.insertBefore(j,f);\n",
      "  })(window,document,'script','dataLayer','GTM-PGTH8F');</script>\n",
      "  <!-- End Google Tag Manager -->\n",
      "\n",
      "    \n",
      "  <div class=\"hamburger-menu popup-menu visible-xs\"><div class=\"popup-menu-search-form\"><form class=\"form-inline\" action=\"/search?lang=us\" accept-charset=\"UTF-8\" method=\"get\"><input name=\"utf8\" type=\"hidden\" value=\"&#x2713;\" /><a aria-label=\"Close\" class=\"popup-menu-close-link js-hamburger-menu-close-link\" href=\"#\"><span aria-hidden=\"true\">&times;</span></a><div class=\"popup-menu-search-form-submit\"><button class=\"btn btn-default\" type=\"submit\" value=\"Search\"><span class=\"icon icon-small icon-search\"></span></button></div><div class=\"popup-menu-search-form-field\"><input type=\"text\" name=\"q\" id=\"q\" class=\"form-control js-popup-menu-search-input\" placeholder=\"Search Radiopaedia.org\" /></div><input type=\"hidden\" name=\"scope\" id=\"scope\" value=\"all\" /></form></div><div class=\"row hamburger-menu-row\"><div class=\"col-xs-6 hamburger-menu-item\"><a class=\"text-uppercase\" href=\"/articles?lang=us\">Articles</a></div><div class=\"col-xs-6 hamburger-menu-item hamburger-menu-item-right\"><a class=\"text-uppercase\" href=\"/sessions/new?lang=us\">Log In</a></div></div><div class=\"row hamburger-menu-row\"><div class=\"col-xs-6 hamburger-menu-item\"><a class=\"text-uppercase\" href=\"/cases?lang=us\">Cases</a></div><div class=\"col-xs-6 hamburger-menu-item hamburger-menu-item-right\"><a class=\"text-uppercase\" href=\"/users/sign_up?lang=us\">Sign Up</a></div></div><div class=\"row hamburger-menu-row\"><div class=\"col-xs-6 hamburger-menu-item\"><a class=\"text-uppercase\" href=\"/courses?lang=us\">Courses</a></div></div><div class=\"row hamburger-menu-row\"><div class=\"col-xs-6 hamburger-menu-item\"><a class=\"text-uppercase\" href=\"/encyclopaedia/quizzes/all?lang=us\">Quiz</a></div></div><div class=\"row hamburger-menu-row\"><div class=\"col-xs-6 hamburger-menu-item\"><a class=\"text-uppercase\" href=\"/blog?lang=us\">Blog</a></div></div><div class=\"row hamburger-menu-row\"><div class=\"col-xs-6 hamburger-menu-item\"><a class=\"text-uppercase\" href=\"/supporters?lang=us\">Donate</a></div></div><div class=\"row hamburger-menu-row\"><div class=\"col-xs-6 hamburger-menu-item\"><a class=\"text-uppercase\" href=\"/about?lang=us\">About</a></div></div><div class=\"row hamburger-menu-row\"><div class=\"col-xs-6 hamburger-menu-item\"></div></div><div class=\"row hamburger-menu-row\"></div></div><div class=\"search-menu popup-menu visible-xs\"><div class=\"popup-menu-search-form\"><form class=\"form-inline\" action=\"/search?lang=us\" accept-charset=\"UTF-8\" method=\"get\"><input name=\"utf8\" type=\"hidden\" value=\"&#x2713;\" /><a aria-label=\"Close\" class=\"popup-menu-close-link js-search-menu-close-link\" href=\"#\"><span aria-hidden=\"true\">&times;</span></a><div class=\"popup-menu-search-form-submit\"><button class=\"btn btn-default\" type=\"submit\" value=\"Search\"><span class=\"icon icon-small icon-search\"></span></button></div><div class=\"popup-menu-search-form-field\"><input type=\"text\" name=\"q\" id=\"q\" class=\"form-control js-popup-menu-search-input\" placeholder=\"Search Radiopaedia.org\" /></div><input type=\"hidden\" name=\"scope\" id=\"scope\" value=\"all\" /></form></div><div class=\"search-menu-page-overlay js-search-menu-close-link\"></div></div><nav class=\"navbar navbar-inverse visible-xs mobile-nav navbar-fixed-top navbar-fixed-sticky-override\"><div class=\"container\"><div class=\"row\"><a class=\"col-xs-2 mobile-nav-hamburger-link js-hamburger-menu-open-link\" href=\"#menu\"><div class=\"link-container\"><span aria-hidden=\"true\" class=\"link-icon\"></span><span class=\"text-uppercase\">Menu</span></div></a><a class=\"col-xs-8 site-logo\" href=\"/?lang=us\"><img alt=\"Radiopaedia.org\" src=\"https://prod-assets-static.radiopaedia.org/assets/logo@2x-3d7eac98e1582cae458ec9731dcf854650cf5be699ec71768f76c6d60c15cfb5.png\" /></a><a class=\"col-xs-2 mobile-nav-search-link js-search-menu-open-link\" href=\"#search\"><div class=\"link-container\"><span aria-hidden=\"true\" class=\"link-icon\"></span><span class=\"text-uppercase\">Search</span></div></a></div></div></nav>\n",
      "  \n",
      "\n",
      "  <div class=\"container container-with-shadow\">\n",
      "    <div class=\"header-and-ad-banner\"><div class=\"row visible-sm visible-md visible-lg ad-banner-desktop-row\"><div class=\"ad-banner-desktop-link\"><span class=\"pull-left\">ADVERTISEMENT: Radiopaedia is free thanks to our supporters and advertisers.</span><span class=\"pull-right\">Become a Gold Supporter and see no ads.</span></div><div class=\"ad-banner-desktop-leaderboard\"><div class=\"ad-banner-desktop-container\">  <div\n",
      "    id='snhb-radiopaedia_header_leaderboard-0'\n",
      "    class='ad-container'\n",
      "  ></div>\n",
      "\n",
      "    <span class='bt-uid-tg' data-uid='5bae3ce061-158' style='display: none !important'></span>\n",
      "</div></div></div><div class=\"visible-xs\"><div class=\"primary-nav\"><div class=\"row\"><div class=\"primary-nav-item  col-xs-3\"><a class=\"primary-nav-item-link \" href=\"/articles?lang=us\">Articles</a></div><div class=\"primary-nav-item  col-xs-3\"><a class=\"primary-nav-item-link \" href=\"/cases?lang=us\">Cases</a></div><div class=\"primary-nav-item  col-xs-3\"><a class=\"primary-nav-item-link \" href=\"/courses?lang=us\">Courses</a></div><div class=\"primary-nav-item  col-xs-3\"><a class=\"primary-nav-item-link js-login-modal\" href=\"/sessions/new?lang=us\">Log In</a></div></div></div></div><div class=\"site-header row hidden-xs\"><div class=\"wrapper\"><div class=\"clearfix\"><a class=\"site-header-logo-link\" href=\"/?lang=us\"><img alt=\"Radiopaedia.org\" src=\"https://prod-assets-static.radiopaedia.org/assets/logo@2x-3d7eac98e1582cae458ec9731dcf854650cf5be699ec71768f76c6d60c15cfb5.png\" /></a><div id='div-gpt-ad-Announcement' class='ad-container'>\n",
      "    <script type='text/javascript'>\n",
      "        googletag.cmd.push(function() {\n",
      "            googletag.display('div-gpt-ad-Announcement');\n",
      "        });\n",
      "    </script>\n",
      "</div>\n",
      "\n",
      "<div id=\"user_menu\" class=\"right\"><ul class=\"user-menu text-uppercase\"><li class=\"first\"><a class=\"js-login-modal btn btn-link btn-sm\" href=\"/sessions/new?lang=us&amp;return_to=%2F%2Fencyclopaedia%2Fall%2Fall%3Flang%3Dus\">Log in</a></li><li class=\"last\"><a class=\"js-signup-modal btn btn-primary btn-sm\" href=\"/users/sign_up?lang=us\">Sign up</a></li></ul></div><div class=\"white-popup white-popup-block white-popup-block-bright mfp-hide new-bootstrap-and-form-styles global md\" id=\"signup-modal\"><div\n",
      "    \n",
      "    class=\"SignupModal\"\n",
      ">\n",
      "    <div class=\"hidden data\">{&quot;url&quot;:&quot;/signup-modal-props.json?lang=us\\u0026email=&quot;}</div>\n",
      "</div></div></div><div class=\"row\"><div class=\"col-sm-12 ie8-float-left\"><div class=\"site-header-nav site-header-nav-primary\"><a class=\"main site-header-link site-header-link-primary active\" href=\"/encyclopaedia/all/all?lang=us\">Articles</a><a class=\"main site-header-link site-header-link-primary\" href=\"/encyclopaedia/cases/all?lang=us\">Cases</a><a class=\"main site-header-link site-header-link-primary\" href=\"/courses?lang=us\">Courses</a><a class=\"quiz site-header-link site-header-link-primary\" href=\"/encyclopaedia/quizzes/all?lang=us\">Quiz</a></div></div></div><div class=\"row\"><div class=\"col-sm-12 ie8-float-left\"><div class=\"site-header-nav site-header-nav-secondary\"><a class=\"main site-header-link site-header-link-secondary\" href=\"/about?lang=us\">About</a><a class=\"main site-header-link site-header-link-secondary\" href=\"/blog?lang=us&amp;system=all\">Blog</a><a class=\"main site-header-link site-header-link-secondary\" href=\"/supporters?lang=us&amp;system=all\">Go ad-free</a></div><div class=\"search-bar\" id=\"search\"><form class=\"site-search\" action=\"/search?lang=us\" accept-charset=\"UTF-8\" method=\"get\"><input name=\"utf8\" type=\"hidden\" value=\"&#x2713;\" /><div class=\"clear\"><input type=\"text\" name=\"q\" id=\"q\" value=\"\" class=\"search-input text\" placeholder=\"Search Radiopaedia.org\" /><button class=\"btn btn-default search-button submit btn-call-to-action\" type=\"submit\">Search <i class=\"glyphicon glyphicon-search\"></i></button><input type=\"hidden\" name=\"scope\" id=\"scope\" value=\"all\" /><input type=\"hidden\" name=\"lang\" id=\"lang\" value=\"us\" /></div></form></div></div></div></div></div></div>\n",
      "    <div class=\"row\"><div class=\"notification\">\n",
      "  <b>Radiopaedia Courses 25% Discount</b> in response to COVID-19 ends on October 31  <a href=\"https://radiopaedia.org/courses#library\">EXPLORE OUR COURSES</a>\n",
      "</div>\n",
      "<div id=\"flash_container\"><div id=\"flashError\"></div><div id=\"flashSuccess\"></div><div id=\"flashNotice\"></div><div id=\"flashAlert\"></div></div></div>\n",
      "    \n",
      "\n",
      "    <div id=\"main\" class=\"row\">\n",
      "      \n",
      "      <div class=\"wrapper clear\">\n",
      "\n",
      "        <div class=\"content-typography\" id=\"content\"><h1 class=\"header-title\">Articles</h1><p>Articles are a collaborative effort to provide a single canonical page on all topics relevant to the practice of radiology. As such, articles are written and edited by countless <a href=\"/supporters?lang=us\">contributing members</a> over a period of time. A global group of <a href=\"/editors?lang=us\">dedicated editors</a> oversee accuracy, consulting with <a href=\"/expert-advisers?lang=us\">expert advisers</a>, and constantly reviewing additions. </p><p><a class=\"btn btn-primary btn-call-to-action js-login-modal\" data-login-url=\"/sessions/new?return_to=%2Farticles%2Fnew\" data-login-reason=\"To add an article you need to log in.\" href=\"/articles/new?lang=us\">Create new article</a></p><div class=\"row\">\n",
      "<!-- Sidebar filter options -->\n",
      "  <div class=\"col-xs-12 col-sm-12 col-md-5 content-filter-wrapper no-padding\"><div class=\"col-xs-3 col-sm-7 visible-xs visible-sm content-filter-overlay js-close-content-filter\"></div><div class=\"col-xs-9 col-sm-5 col-md-12 content-filter\"><div class=\"content-filter-spanner\"><div class=\"content-filter-current-filters\"><a class=\"content-filter-current-filter-count\" href=\"#\"><i class=\"glyphicon glyphicon-cog open-content-filter-link-icon\"></i><span class=\"open-content-filter-link-text\">Filter</span></a><a class=\"btn btn-default js-close-content-filter content-filter-close-button\" href=\"javascript:;\">Done</a></div><div class=\"content-filter-section-wrapper\"><div id=\"by-system\" class=\"content-filter-section\"><h2 class=\"content-filter-section-heading\" data-toggle=\"collapse\" data-target=\"#by-system .content-filter-section-options\"><a href=\"#collapse-by-system\"><span class=\"content-filter-section-heading-icon\">+</span><span class=\"content-filter-section-heading-title\">Systems</span></a></h2><ul class=\"content-filter-section-options collapse \"><li class=\"selected\"><a rel=\"nofollow\" class=\"js-pjax-link\" href=\"/encyclopaedia/all/all?lang=us&amp;page=1\">All Systems</a></li> <li class=\"\"><a rel=\"nofollow\" class=\"js-pjax-link\" href=\"/encyclopaedia/all/breast?lang=us&amp;page=1\">Breast</a></li> <li class=\"\"><a rel=\"nofollow\" class=\"js-pjax-link\" href=\"/encyclopaedia/all/cardiac?lang=us&amp;page=1\">Cardiac</a></li> <li class=\"\"><a rel=\"nofollow\" class=\"js-pjax-link\" href=\"/encyclopaedia/all/central-nervous-system?lang=us&amp;page=1\">Central Nervous System</a></li> <li class=\"\"><a rel=\"nofollow\" class=\"js-pjax-link\" href=\"/encyclopaedia/all/chest?lang=us&amp;page=1\">Chest</a></li> <li class=\"\"><a rel=\"nofollow\" class=\"js-pjax-link\" href=\"/encyclopaedia/all/forensic?lang=us&amp;page=1\">Forensic</a></li> <li class=\"\"><a rel=\"nofollow\" class=\"js-pjax-link\" href=\"/encyclopaedia/all/gastrointestinal?lang=us&amp;page=1\">Gastrointestinal</a></li> <li class=\"\"><a rel=\"nofollow\" class=\"js-pjax-link\" href=\"/encyclopaedia/all/gynaecology?lang=us&amp;page=1\">Gynecology</a></li> <li class=\"\"><a rel=\"nofollow\" class=\"js-pjax-link\" href=\"/encyclopaedia/all/haematology?lang=us&amp;page=1\">Hematology</a></li> <li class=\"\"><a rel=\"nofollow\" class=\"js-pjax-link\" href=\"/encyclopaedia/all/head-neck?lang=us&amp;page=1\">Head &amp; Neck</a></li> <li class=\"\"><a rel=\"nofollow\" class=\"js-pjax-link\" href=\"/encyclopaedia/all/hepatobiliary?lang=us&amp;page=1\">Hepatobiliary</a></li> <li class=\"\"><a rel=\"nofollow\" class=\"js-pjax-link\" href=\"/encyclopaedia/all/interventional?lang=us&amp;page=1\">Interventional</a></li> <li class=\"\"><a rel=\"nofollow\" class=\"js-pjax-link\" href=\"/encyclopaedia/all/musculoskeletal?lang=us&amp;page=1\">Musculoskeletal</a></li> <li class=\"\"><a rel=\"nofollow\" class=\"js-pjax-link\" href=\"/encyclopaedia/all/obstetrics?lang=us&amp;page=1\">Obstetrics</a></li> <li class=\"\"><a rel=\"nofollow\" class=\"js-pjax-link\" href=\"/encyclopaedia/all/oncology?lang=us&amp;page=1\">Oncology</a></li> <li class=\"\"><a rel=\"nofollow\" class=\"js-pjax-link\" href=\"/encyclopaedia/all/paediatrics?lang=us&amp;page=1\">Pediatrics</a></li> <li class=\"\"><a rel=\"nofollow\" class=\"js-pjax-link\" href=\"/encyclopaedia/all/spine?lang=us&amp;page=1\">Spine</a></li> <li class=\"\"><a rel=\"nofollow\" class=\"js-pjax-link\" href=\"/encyclopaedia/all/trauma?lang=us&amp;page=1\">Trauma</a></li> <li class=\"\"><a rel=\"nofollow\" class=\"js-pjax-link\" href=\"/encyclopaedia/all/urogenital?lang=us&amp;page=1\">Urogenital</a></li> <li class=\"\"><a rel=\"nofollow\" class=\"js-pjax-link\" href=\"/encyclopaedia/all/vascular?lang=us&amp;page=1\">Vascular</a></li></ul></div><div id=\"by-section\" class=\"content-filter-section\"><h2 class=\"content-filter-section-heading\" data-toggle=\"collapse\" data-target=\"#by-section .content-filter-section-options\"><a href=\"#collapse-by-section\"><span class=\"content-filter-section-heading-icon\">+</span><span class=\"content-filter-section-heading-title\">Article Sections</span></a></h2><ul class=\"content-filter-section-options collapse \"><li class=\"selected\"><a rel=\"nofollow\" class=\"js-pjax-link\" href=\"/encyclopaedia/all/all?lang=us&amp;page=1\">All Sections</a></li> <li class=\"\"><a rel=\"nofollow\" class=\"js-pjax-link\" href=\"/encyclopaedia/anatomy/all?lang=us&amp;page=1\">Anatomy</a></li> <li class=\"\"><a rel=\"nofollow\" class=\"js-pjax-link\" href=\"/encyclopaedia/approach/all?lang=us&amp;page=1\">Approach</a></li> <li class=\"\"><a rel=\"nofollow\" class=\"js-pjax-link\" href=\"/encyclopaedia/artificial-intelligence/all?lang=us&amp;page=1\">Artificial Intelligence</a></li> <li class=\"\"><a rel=\"nofollow\" class=\"js-pjax-link\" href=\"/encyclopaedia/classifications/all?lang=us&amp;page=1\">Classifications</a></li> <li class=\"\"><a rel=\"nofollow\" class=\"js-pjax-link\" href=\"/encyclopaedia/gamuts/all?lang=us&amp;page=1\">Gamuts</a></li> <li class=\"\"><a rel=\"nofollow\" class=\"js-pjax-link\" href=\"/encyclopaedia/physics/all?lang=us&amp;page=1\">Imaging Technology</a></li> <li class=\"\"><a rel=\"nofollow\" class=\"js-pjax-link\" href=\"/encyclopaedia/interventional-radiology/all?lang=us&amp;page=1\">Interventional Radiology</a></li> <li class=\"\"><a rel=\"nofollow\" class=\"js-pjax-link\" href=\"/encyclopaedia/mnemonics/all?lang=us&amp;page=1\">Mnemonics</a></li> <li class=\"\"><a rel=\"nofollow\" class=\"js-pjax-link\" href=\"/encyclopaedia/pathology/all?lang=us&amp;page=1\">Pathology</a></li> <li class=\"\"><a rel=\"nofollow\" class=\"js-pjax-link\" href=\"/encyclopaedia/radiography/all?lang=us&amp;page=1\">Radiography</a></li> <li class=\"\"><a rel=\"nofollow\" class=\"js-pjax-link\" href=\"/encyclopaedia/signs/all?lang=us&amp;page=1\">Signs</a></li> <li class=\"\"><a rel=\"nofollow\" class=\"js-pjax-link\" href=\"/encyclopaedia/staging/all?lang=us&amp;page=1\">Staging</a></li> <li class=\"\"><a rel=\"nofollow\" class=\"js-pjax-link\" href=\"/encyclopaedia/syndromes/all?lang=us&amp;page=1\">Syndromes</a></li></ul></div><div id=\"sort-option\" class=\"content-filter-section\"><h2 class=\"content-filter-section-heading\" data-toggle=\"collapse\" data-target=\"#sort-option .content-filter-section-options\"><a href=\"#collapse-sort-option\"><span class=\"content-filter-section-heading-icon\">+</span><span class=\"content-filter-section-heading-title\">Sort By</span></a></h2><ul class=\"content-filter-section-options collapse \"><li class=\"\"><a rel=\"nofollow\" class=\"js-pjax-link\" href=\"/encyclopaedia/all/all?lang=us&amp;page=1&amp;sort=title\">A – Z</a></li> <li class=\"\"><a rel=\"nofollow\" class=\"js-pjax-link\" href=\"/encyclopaedia/all/all?lang=us&amp;page=1&amp;sort=date_of_last_edit\">Date of Last Edit</a></li></ul></div></div></div><p class=\"text-center\">ADVERTISEMENT: Supporters see fewers/no ads</p><div class=\"ad\">  <div\n",
      "    id='snhb-radiopaedia_sidebar-0'\n",
      "    class='ad-container'\n",
      "  ></div>\n",
      "\n",
      "    <span class='bt-uid-tg' data-uid='5bae3ccf76-158' style='display: none !important'></span>\n",
      "</div><div class=\"ad\">  <div\n",
      "    id='snhb-radiopaedia_sidebar_2-0'\n",
      "    class='ad-container'\n",
      "  ></div>\n",
      "\n",
      "</div></div></div>\n",
      "\n",
      "<div class=\"col-xs-12 col-md-7 search-results-wrapper\">\n",
      "  <div class=\"row\">\n",
      "    <!-- Number of filtered results returned -->\n",
      "    <div class=\"search-content-filter-header\">\n",
      "    <a class=\"js-open-content-filter open-content-filter-link\" href=\"javascript:;\">\n",
      "      <i class=\"glyphicon glyphicon-cog open-content-filter-link-icon\"></i>\n",
      "      <span class=\"open-content-filter-link-text\">\n",
      "        Filter\n",
      "      </span>\n",
      "</a></div>\n",
      "\n",
      "\n",
      "    <!-- List of filtered results returned -->\n",
      "    \n",
      "<div class=\"col-xs-12 search-results-listing\">\n",
      "    <span class=\"search-results-count\">\n",
      "      14,543 results found\n",
      "    </span>\n",
      "    <div class=\"hidden\"></div><a class=\"search-result search-result-article\" href=\"/articles/11-13-week-antenatal-scan?lang=us\"><div class=\"col-xs-12 no-padding\"><div class=\"search-result-header\"><div class=\"search-result-type label label-article\">Article</div><div class=\"search-result-title\"><h4 class=\"search-result-title-text\">11-13 week antenatal scan</h4></div></div></div><div class=\"search-result-body\">\n",
      "11-13 week antenatal (nuchal translucency) scan is considered a routine investigation advised for the fetal well-being as well as for early screening in pregnancy (see antenatal screening).\n",
      "\n",
      "It includes multiple components and is highly dependent on the operator. Traditionally three factors are ...</div></a><div class=\"hidden\"></div><a class=\"search-result search-result-article\" href=\"/articles/11-ribs-differential?lang=us\"><div class=\"col-xs-12 no-padding\"><div class=\"search-result-header\"><div class=\"search-result-type label label-article\">Article</div><div class=\"search-result-title\"><h4 class=\"search-result-title-text\">≤11 ribs (differential)</h4></div></div></div><div class=\"search-result-body\">\n",
      "≤11 ribs is associated with a number of congenital abnormalities and skeletal dysplasias, including:\n",
      "\n",
      "Down syndrome (trisomy 21)\n",
      "\n",
      "campomelic dysplasia\n",
      "\n",
      "kyphomelic dysplasias\n",
      "\n",
      "asphyxiating thoracic dysplasia (Jeune syndrome)\n",
      "\n",
      "short rib polydactyly syndromes\n",
      "\n",
      "trisomy 18\n",
      "\n",
      "chromosome 1q21.1 deletion...</div></a><div class=\"hidden\"></div><a class=\"search-result search-result-article\" href=\"/articles/1-2-3-rule-ovary?lang=us\"><div class=\"col-xs-12 no-padding\"><div class=\"search-result-header\"><div class=\"search-result-type label label-article\">Article</div><div class=\"search-result-title\"><h4 class=\"search-result-title-text\">1-2-3 rule (ovary)</h4></div></div></div><div class=\"search-result-body\">\n",
      "The 1-2-3 rule is a simple aide-mémoire describing the nomenclature of any small simple anechoic structure in the ovary on ultrasound:\n",
      "\n",
      "&lt;1 cm = follicle\n",
      "\n",
      "1-2 cm = dominant follicle\n",
      "\n",
      "&gt;3 cm = cyst\n",
      "\n",
      "</div></a><div class=\"hidden\"></div><a class=\"search-result search-result-article\" href=\"/articles/14-3-3-protein-1?lang=us\"><div class=\"col-xs-12 no-padding\"><div class=\"search-result-header\"><div class=\"search-result-type label label-article\">Article</div><div class=\"search-result-title\"><h4 class=\"search-result-title-text\">14-3-3 protein</h4></div></div></div><div class=\"search-result-body\">\n",
      "14-3-3 proteins are found in the cerebrospinal fluid (CSF) and are currently used to help identify patients with sporadic Creutzfeldt-Jakob disease (sCJD). \n",
      "\n",
      "Seven distinct 14-3-3 proteins have been found in humans.\n",
      "\n",
      "In diagnosing sCJD, the sensitivity of 14-3-3 protein is 92%, and its specifici...</div></a><div class=\"hidden\"></div><a class=\"search-result search-result-article\" href=\"/articles/15-t-vs-30-t-2?lang=us\"><div class=\"col-xs-12 no-padding\"><div class=\"search-result-header\"><div class=\"search-result-type label label-article\">Article</div><div class=\"search-result-title\"><h4 class=\"search-result-title-text\">1.5 T vs 3.0 T</h4></div></div></div><div class=\"search-result-body\">\n",
      "Comparing 1.5 T vs 3.0 T  (1.5 tesla vs 3.0 tesla) MRI systems identifies several differences; a 3 T system has\n",
      "\n",
      "increased signal-to-noise ratio (SNR)\n",
      "\n",
      "increased spatial resolution\n",
      "\n",
      "increased temporal resolution\n",
      "\n",
      "increased specific absorption rate (SAR)\n",
      "\n",
      "increased acoustic noise\n",
      "\n",
      "Terminology\n",
      "\n",
      "It...</div></a><div class=\"hidden\"></div><a class=\"search-result search-result-article\" href=\"/articles/18q-deletion-syndrome-1?lang=us\"><div class=\"col-xs-12 no-padding\"><div class=\"search-result-header\"><div class=\"search-result-type label label-article\">Article</div><div class=\"search-result-title\"><h4 class=\"search-result-title-text\">18q-deletion syndrome</h4></div></div></div><div class=\"search-result-body\">\n",
      "18q-deletion syndrome is a rare chromosomal anomaly where there is a deletion of part of the long arm of chromosome 18. Associated symptoms and findings vary widely, as do their severity. Characteristic clinical features include short stature, intellectual disability, hypotonia, facial, and dist...</div></a><div class=\"hidden\"></div><a class=\"search-result search-result-article\" href=\"/articles/1p19q-codeletion?lang=us\"><div class=\"col-xs-12 no-padding\"><div class=\"search-result-header\"><div class=\"search-result-type label label-article\">Article</div><div class=\"search-result-title\"><h4 class=\"search-result-title-text\">1p19q codeletion</h4></div></div></div><div class=\"search-result-body\">\n",
      "1p19q codeletion stands for the combined loss of the short arm chromosome 1 (i.e. 1p) and the long arm of chromosome 19 (i.e. 19q) and is recognized as a genetic marker predictive of therapeutic response to both chemotherapy and combined chemoradiotherapy and overall longer survival in patients ...</div></a><div class=\"hidden\"></div><a class=\"search-result search-result-article\" href=\"/articles/1p36-deletion-syndrome?lang=us\"><div class=\"col-xs-12 no-padding\"><div class=\"search-result-header\"><div class=\"search-result-type label label-article\">Article</div><div class=\"search-result-title\"><h4 class=\"search-result-title-text\">1p36 deletion syndrome</h4></div></div></div><div class=\"search-result-body\">\n",
      "1p36 deletion syndrome, or monosomy 1p36, is a chromosomal abnormality characterized most commonly by a deletion in the distal segment of the short arm of chromosome one 1.\n",
      "\n",
      "Epidemiology\n",
      "\n",
      "The 1p36 deletion syndrome is present in approximately 1 in 5,000 live births. It is the most common termina...</div></a><div class=\"hidden\"></div><a class=\"search-result search-result-article\" href=\"/articles/2001-who-classification-of-hepatic-hydatid-cysts?lang=us\"><div class=\"col-xs-12 no-padding\"><div class=\"search-result-header\"><div class=\"search-result-type label label-article\">Article</div><div class=\"search-result-title\"><h4 class=\"search-result-title-text\">2001 WHO classification of hepatic hydatid cysts</h4></div></div></div><div class=\"search-result-body\">\n",
      "The 2001 World Health Organization (WHO) classification of hepatic hydatid cysts is used to assess the stage of hepatic hydatid cysts on ultrasound and is useful in deciding the appropriate management for it depending on the stage of the cyst. This classification was proposed by the WHO in 2001 ...</div></a><div class=\"hidden\"></div><a class=\"search-result search-result-article\" href=\"/articles/2014-who-classification-of-endometrial-stromal-tumours?lang=us\"><div class=\"col-xs-12 no-padding\"><div class=\"search-result-header\"><div class=\"search-result-type label label-article\">Article</div><div class=\"search-result-title\"><h4 class=\"search-result-title-text\">2014 WHO classification of endometrial stromal tumors</h4></div></div></div><div class=\"search-result-body\">\n",
      "The 2014 WHO classification is one of the classification systems for endometrial stromal tumors (EST).\n",
      "\n",
      "Endometrial stromal tumors constitute &lt;2% of all uterine tumors and &lt;10% of uterine mesenchymal neoplasms 1. \n",
      "\n",
      "Over the past four decades, EST classification has gone through various modificat...</div></a><div class=\"hidden\"></div><a class=\"search-result search-result-article\" href=\"/articles/20-oblique-projection?lang=us\"><div class=\"col-xs-12 no-padding\"><div class=\"search-result-header\"><div class=\"search-result-type label label-article\">Article</div><div class=\"search-result-title\"><h4 class=\"search-result-title-text\">20° oblique projection</h4></div></div></div><div class=\"search-result-body\">\n",
      "20° oblique projection is a troubleshooting projection used in mammography, especially in young women and in follow-up patients.\n",
      "\n",
      "Technique\n",
      "\n",
      "The C-arm is turned approximately 20° for a superomedial-inferolateral oblique. With the patient&#39;s feet pointing towards the unit and her torso turned slig...</div></a><div class=\"hidden\"></div><a class=\"search-result search-result-article\" href=\"/articles/22q112-deletion-syndrome-1?lang=us\"><div class=\"col-xs-12 no-padding\"><div class=\"search-result-header\"><div class=\"search-result-type label label-article\">Article</div><div class=\"search-result-title\"><h4 class=\"search-result-title-text\">22q11.2 deletion syndrome</h4></div></div></div><div class=\"search-result-body\">\n",
      "22q11.2 deletion syndrome, also known as the DiGeorge syndrome or velocardiofacial syndrome, is a syndrome where a small portion of the chromosome 22 is lost and results in a variable but a recognisable pattern of physical and behavioral features.\n",
      "\n",
      "Epidemiology\n",
      "\n",
      "The estimated incidence is at ~ 1...</div></a><div class=\"hidden\"></div><a class=\"search-result search-result-article\" href=\"/articles/2-hydroxyglutarate?lang=us\"><div class=\"col-xs-12 no-padding\"><div class=\"search-result-header\"><div class=\"search-result-type label label-article\">Article</div><div class=\"search-result-title\"><h4 class=\"search-result-title-text\">2-hydroxyglutarate</h4></div></div></div><div class=\"search-result-body\">\n",
      "2-hydroxyglutarate is a metabolite that accumulates in the brains of patients with IDH-1 mutated (IDH-1 positive) brain tumors, particularly diffuse low-grade gliomas. Although not in widespread clinical use, it is likely that 2-hydroxyglutarate, which resonates at 2.25 ppm, will be able to be d...</div></a><div class=\"hidden\"></div><a class=\"search-result search-result-article\" href=\"/articles/3-6-9-rule-bowel?lang=us\"><div class=\"col-xs-12 no-padding\"><div class=\"search-result-header\"><div class=\"search-result-type label label-article\">Article</div><div class=\"search-result-title\"><h4 class=\"search-result-title-text\">3-6-9 rule (bowel)</h4></div></div></div><div class=\"search-result-body\">\n",
      "The 3-6-9 rule is a simple aide-memoire describing the normal bowel caliber:\n",
      "\n",
      "small bowel: &lt;3 cm\n",
      "\n",
      "large bowel: &lt;6 cm\n",
      "\n",
      "appendix: &lt;6 mm\n",
      "\n",
      "cecum: &lt;9 cm\n",
      "\n",
      "Above these dimensions, the bowel is generally considered dilated, and obstruction or an adynamic ileus should be considered.\n",
      "</div></a><div class=\"hidden\"></div><a class=\"search-result search-result-article\" href=\"/articles/3d-conformal-radiation-therapy?lang=us\"><div class=\"col-xs-12 no-padding\"><div class=\"search-result-header\"><div class=\"search-result-type label label-article\">Article</div><div class=\"search-result-title\"><h4 class=\"search-result-title-text\">3D conformal radiation therapy</h4></div></div></div><div class=\"search-result-body\">\n",
      "3D conformal radiation therapy (3D-CRT) is a radiation therapy technique that involves CT planning where the volume to be treated is defined on a 3D data set. Therefore, organs at risk can also be delineated to shield these and reduce treatment side effects. Radiotherapy planning software is use...</div></a><div class=\"hidden\"></div><a class=\"search-result search-result-article\" href=\"/articles/3d-fast-spin-echo-mri-sequence-1?lang=us\"><div class=\"col-xs-12 no-padding\"><div class=\"search-result-header\"><div class=\"search-result-type label label-article\">Article</div><div class=\"search-result-title\"><h4 class=\"search-result-title-text\">3D fast spin echo (MRI sequence)</h4></div></div></div><div class=\"search-result-body\">\n",
      "3D fast spin-echo sequences are relatively recent MRI pulse sequences that are able to rapidly image relatively large volumes of tissue with high resolution whilst retaining many of the advantages of fast spin-echo sequences. \n",
      "\n",
      "They are able to create the same weightings as traditional 2D sequen...</div></a><div class=\"hidden\"></div><a class=\"search-result search-result-article\" href=\"/articles/3d-printing?lang=us\"><div class=\"col-xs-12 no-padding\"><div class=\"search-result-header\"><div class=\"search-result-type label label-article\">Article</div><div class=\"search-result-title\"><h4 class=\"search-result-title-text\">3D printing</h4></div></div></div><div class=\"search-result-body\">\n",
      "3D printing, a term often used synonymously with additive manufacturing, is a process of creating objects from three-dimensional digital information. In most cases, 3D printing is, in fact, additive manufacturing, a process in which objects are built by adding material layer by layer. This proce...</div></a><div class=\"hidden\"></div><a class=\"search-result search-result-article\" href=\"/articles/3d-ultrasound?lang=us\"><div class=\"col-xs-12 no-padding\"><div class=\"search-result-header\"><div class=\"search-result-type label label-article\">Article</div><div class=\"search-result-title\"><h4 class=\"search-result-title-text\">3D ultrasound</h4></div></div></div><div class=\"search-result-body\">\n",
      "Three-dimensional (3D) ultrasound is a technique that converts standard 2D grayscale ultrasound images into a volumetric dataset. The 3D image can then be reviewed retrospectively. The technique was developed for problem-solving (particularly in obstetric/gynecologic exams) and to potentially re...</div></a><div class=\"hidden\"></div><a class=\"search-result search-result-article\" href=\"/articles/4d-syndrome-1?lang=us\"><div class=\"col-xs-12 no-padding\"><div class=\"search-result-header\"><div class=\"search-result-type label label-article\">Article</div><div class=\"search-result-title\"><h4 class=\"search-result-title-text\">4D syndrome</h4></div></div></div><div class=\"search-result-body\">\n",
      "4D syndrome is a term used to describe a manifestation of syndromic glucagonomas, a type of pancreatic endocrine tumor.\n",
      "\n",
      "D: dermatitis 2\n",
      "\n",
      "necrolytic migratory erythema - a widespread rash, tending to involve perioral and perigenital regions\n",
      "\n",
      "oral rashes (angular stomatitis, cheilitis)\n",
      "\n",
      "tend to r...</div></a><div class=\"hidden\"></div><a class=\"search-result search-result-article\" href=\"/articles/5-f-risk-factors-for-cholelithiasis-mnemonic?lang=us\"><div class=\"col-xs-12 no-padding\"><div class=\"search-result-header\"><div class=\"search-result-type label label-article\">Article</div><div class=\"search-result-title\"><h4 class=\"search-result-title-text\">5-F risk factors for cholelithiasis (mnemonic)</h4></div></div></div><div class=\"search-result-body\">\n",
      "The 5-F rule refers to risk factors for the development of cholelithiasis in the event of upper abdominal pain:\n",
      "\n",
      "fair: more prevalent in the Caucasian population 1\n",
      "\n",
      "fat: BMI &gt;30 kg/m2 and hyperlipidemia 3\n",
      "\n",
      "female\n",
      "\n",
      "fertile: one or more children\n",
      "\n",
      "forty: age ≥40 years\n",
      "\n",
      "cholelithiasis can occur in y...</div></a><div class=\"hidden\"></div><a class=\"search-result search-result-article\" href=\"/articles/5-gauss-line?lang=us\"><div class=\"col-xs-12 no-padding\"><div class=\"search-result-header\"><div class=\"search-result-type label label-article\">Article</div><div class=\"search-result-title\"><h4 class=\"search-result-title-text\">5 Gauss Line</h4></div></div></div><div class=\"search-result-body\">\n",
      "The 5 Gauss line is the safety line drawn around the perimeter of the main magnet of the MR scanner, specifying the distance at which the stray magnetic field is equivalent to 5 Gauss (0.5 mT).\n",
      "\n",
      "5 Gauss and below are considered &#39;safe&#39; levels of static magnetic field exposure for the general publ...</div></a><div class=\"hidden\"></div><a class=\"search-result search-result-article\" href=\"/articles/5th-metacarpal-pit?lang=us\"><div class=\"col-xs-12 no-padding\"><div class=\"search-result-header\"><div class=\"search-result-type label label-article\">Article</div><div class=\"search-result-title\"><h4 class=\"search-result-title-text\">5th metacarpal pit</h4></div></div></div><div class=\"search-result-body\">\n",
      "The 5th metacarpal pit refers to the normal exaggeration of the pit-like depression in the head of fifth metacarpal. \n",
      "\n",
      "Differential diagnosis\n",
      "\n",
      "It should not be mistaken for a boxer fracture (old or new) or an erosion.\n",
      "</div></a><div class=\"hidden\"></div><a class=\"search-result search-result-article\" href=\"/articles/5-tier-acr-system-of-radiologic-breast-findings?lang=us\"><div class=\"col-xs-12 no-padding\"><div class=\"search-result-header\"><div class=\"search-result-type label label-article\">Article</div><div class=\"search-result-title\"><h4 class=\"search-result-title-text\">5-tier ACR system of radiologic breast findings</h4></div></div></div><div class=\"search-result-body\">\n",
      "The 5-tier ACR system was a previously used system for classification of radiologic breast findings, proposed by the American College of Radiology (ACR). It is no longer in widespread use, having been gradually superseded by the 6-tier BI-RADS classification system first published in 1992. Inter...</div></a><div class=\"hidden\"></div><a class=\"search-result search-result-article\" href=\"/articles/6060-sign-echocardiography?lang=us\"><div class=\"col-xs-12 no-padding\"><div class=\"search-result-header\"><div class=\"search-result-type label label-article\">Article</div><div class=\"search-result-title\"><h4 class=\"search-result-title-text\">60/60 sign (echocardiography)</h4></div></div></div><div class=\"search-result-body\">\n",
      "The 60/60 sign in echocardiography refers to the coexistence of a truncated right ventricular outflow tract acceleration time (AT &lt;60 ms) with a pulmonary arterial systolic pressure (PASP) of less than 60 mmHg (but more than 30 mmHg). In the presence of right ventricular failure, it is consisten...</div></a><div class=\"hidden\"></div><a class=\"search-result search-result-article\" href=\"/articles/aarskog-syndrome?lang=us\"><div class=\"col-xs-12 no-padding\"><div class=\"search-result-header\"><div class=\"search-result-type label label-article\">Article</div><div class=\"search-result-title\"><h4 class=\"search-result-title-text\">Aarskog syndrome</h4></div></div></div><div class=\"search-result-body\">\n",
      "Aarskog syndrome or Aarskog–Scott syndrome (also known as the facio-digito-genital syndrome) is a rare anomaly characterized by short stature in association with a variety of structural anomalies involving mainly the face, distal extremities, and external genitalia.\n",
      "\n",
      "Epidemiology\n",
      "\n",
      "Population pre...</div></a><div class=\"hidden\"></div><a class=\"search-result search-result-article\" href=\"/articles/aase-smith-syndrome-1?lang=us\"><div class=\"col-xs-12 no-padding\"><div class=\"search-result-header\"><div class=\"search-result-type label label-article\">Article</div><div class=\"search-result-title\"><h4 class=\"search-result-title-text\">Aase-Smith syndrome</h4></div></div></div><div class=\"search-result-body\">\n",
      "Aase-Smith syndrome (or Aase syndrome) is an extremely rare congenital disorder characterized by anemia and skeletal deformity.\n",
      "\n",
      "Epidemiology\n",
      "\n",
      "Aase-Smith syndrome has a prevalence of less than 1 per 1,000,000 persons. There have only been 20 reported cases\n",
      "\n",
      "Clinical presentation\n",
      "\n",
      "congenital hypo...</div></a><div class=\"hidden\"></div><a class=\"search-result search-result-article\" href=\"/articles/aast-injury-scoring-scales?lang=us\"><div class=\"col-xs-12 no-padding\"><div class=\"search-result-header\"><div class=\"search-result-type label label-article\">Article</div><div class=\"search-result-title\"><h4 class=\"search-result-title-text\">AAST injury scoring scales</h4></div></div></div><div class=\"search-result-body\">\n",
      "The American Association for the Surgery of Trauma (AAST) injury scoring scales are the most widely accepted and used system of classifying and categorizing traumatic injuries. Injury grade reflects severity, guides management, and aids in prognosis. Currently (early 2019), 32 different injury s...</div></a><div class=\"hidden\"></div><a class=\"search-result search-result-article\" href=\"/articles/aast-kidney-injury-scale?lang=us\"><div class=\"col-xs-12 no-padding\"><div class=\"search-result-header\"><div class=\"search-result-type label label-article\">Article</div><div class=\"search-result-title\"><h4 class=\"search-result-title-text\">AAST kidney injury scale</h4></div></div></div><div class=\"search-result-body\">\n",
      "The American Association for the Surgery of Trauma (AAST) renal injury scale, most recently updated in 2018, is the most widely used grading system for renal trauma.\n",
      "\n",
      "The 2018 update incorporates &quot;vascular injury&quot; (i.e. pseudoaneurysm, arteriovenous fistula) into the imaging criteria for viscera...</div></a><div class=\"hidden\"></div><a class=\"search-result search-result-article\" href=\"/articles/aast-liver-injury-scale?lang=us\"><div class=\"col-xs-12 no-padding\"><div class=\"search-result-header\"><div class=\"search-result-type label label-article\">Article</div><div class=\"search-result-title\"><h4 class=\"search-result-title-text\">AAST liver injury scale</h4></div></div></div><div class=\"search-result-body\">\n",
      "The AAST (American Association for the Surgery of Trauma) liver injury scale, most recently revised in 2018, is the most widely used liver injury grading system 3.\n",
      "\n",
      "The 2018 update incorporates &quot;vascular injury&quot; (i.e. pseudoaneurysm, arteriovenous fistula) into the imaging criteria for visceral ...</div></a><div class=\"hidden\"></div><a class=\"search-result search-result-article\" href=\"/articles/aast-spleen-injury-scale?lang=us\"><div class=\"col-xs-12 no-padding\"><div class=\"search-result-header\"><div class=\"search-result-type label label-article\">Article</div><div class=\"search-result-title\"><h4 class=\"search-result-title-text\">AAST spleen injury scale</h4></div></div></div><div class=\"search-result-body\">\n",
      "The American Association for the Surgery of Trauma (AAST) splenic injury scale, most recently revised in 2018, is currently the most widely used grading system for splenic trauma.\n",
      "\n",
      "The 2018 update incorporates &quot;vascular injury&quot; (i.e. pseudoaneurysm, arteriovenous fistula) into the imaging criter...</div></a><div class=\"hidden\"></div><a class=\"search-result search-result-article\" href=\"/articles/abc2?lang=us\"><div class=\"col-xs-12 no-padding\"><div class=\"search-result-header\"><div class=\"search-result-type label label-article\">Article</div><div class=\"search-result-title\"><h4 class=\"search-result-title-text\">ABC/2</h4></div></div></div><div class=\"search-result-body\">\n",
      "ABC/2, also confusingly written as 1/2ABC in some literature, is a fast and simple method for estimating the volume of intracerebral hemorrhage (or any other ellipsoid lesion for that matter) which does not require volumetric 3D analysis or software.\n",
      "\n",
      "Intracerebral hemorrhage volume is an import...</div></a><div class=\"hidden\"></div><a class=\"search-result search-result-article\" href=\"/articles/abdomen-ap-supine-view-1?lang=us\"><div class=\"col-xs-12 no-padding\"><div class=\"search-result-header\"><div class=\"search-result-type label label-article\">Article</div><div class=\"search-result-title\"><h4 class=\"search-result-title-text\">Abdomen (AP supine view)</h4></div></div></div><div class=\"search-result-body\">\n",
      "The AP supine abdominal radiograph can be performed as a standalone projection or as part of an acute abdominal series, depending on the clinical question posed, local protocol and the availability of other imaging modalities.\n",
      "\n",
      "Indications\n",
      "\n",
      "This view is useful in assessing abdominal pathologies,...</div></a><div class=\"hidden\"></div><a class=\"search-result search-result-article\" href=\"/articles/abdomen-dorsal-decubitus-view?lang=us\"><div class=\"col-xs-12 no-padding\"><div class=\"search-result-header\"><div class=\"search-result-type label label-article\">Article</div><div class=\"search-result-title\"><h4 class=\"search-result-title-text\">Abdomen (dorsal decubitus view)</h4></div></div></div><div class=\"search-result-body\">\n",
      "The dorsal decubitus view is a supplementary projection often replacing the lateral decubitus view in the context of an unstable patient who is unable to roll nor stand. Used to identify free intraperitoneal gas (pneumoperitoneum). It can be performed when the patient is unable to be transferred...</div></a><div class=\"hidden\"></div><a class=\"search-result search-result-article\" href=\"/articles/abdomen-kub-view?lang=us\"><div class=\"col-xs-12 no-padding\"><div class=\"search-result-header\"><div class=\"search-result-type label label-article\">Article</div><div class=\"search-result-title\"><h4 class=\"search-result-title-text\">Abdomen (KUB view)</h4></div></div></div><div class=\"search-result-body\">\n",
      "The kidneys, ureters, bladder (KUB) radiograph is optimized for assessment of the urogenital system, and should not be confused with the AP supine abdomen view. However, in cases where the patient may have both gastrointestinal and urogenital abnormalities, all pathologies will still be reported...</div></a><div class=\"hidden\"></div><a class=\"search-result search-result-article\" href=\"/articles/abdomen-lateral-decubitus-view-1?lang=us\"><div class=\"col-xs-12 no-padding\"><div class=\"search-result-header\"><div class=\"search-result-type label label-article\">Article</div><div class=\"search-result-title\"><h4 class=\"search-result-title-text\">Abdomen (lateral decubitus view)</h4></div></div></div><div class=\"search-result-body\">\n",
      "The lateral decubitus abdominal radiograph is used to identify free intraperitoneal gas (pneumoperitoneum). It can be performed when the patient is unable to be transferred to, or other imaging modalities (e.g. CT) are not available. The most useful position for detecting free intraperitoneal ai...</div></a><div class=\"hidden\"></div><a class=\"search-result search-result-article\" href=\"/articles/abdomen-oblique-view?lang=us\"><div class=\"col-xs-12 no-padding\"><div class=\"search-result-header\"><div class=\"search-result-type label label-article\">Article</div><div class=\"search-result-title\"><h4 class=\"search-result-title-text\">Abdomen (oblique view)</h4></div></div></div><div class=\"search-result-body\">\n",
      "AP oblique supine radiograph is a projection often used in barium studies and foreign body localization.\n",
      "\n",
      "Indications\n",
      "\n",
      "This view is normally performed when localizing foreign bodies or lines within the abdominal cavity. Additionally, the oblique abdominal series can be utilized in the assessment...</div></a><div class=\"hidden\"></div><a class=\"search-result search-result-article\" href=\"/articles/abdomen-pa-erect-view-1?lang=us\"><div class=\"col-xs-12 no-padding\"><div class=\"search-result-header\"><div class=\"search-result-type label label-article\">Article</div><div class=\"search-result-title\"><h4 class=\"search-result-title-text\">Abdomen (PA erect view)</h4></div></div></div><div class=\"search-result-body\">\n",
      "The PA erect abdominal radiograph is often obtained in conjunction with the AP supine abdominal view in the acute abdominal series of radiographs.\n",
      "\n",
      "The erect abdominal radiograph has virtually disappeared from clinical practice in the United Kingdom, with studies dating back to the 1980s affirmi...</div></a><div class=\"hidden\"></div><a class=\"search-result search-result-article\" href=\"/articles/abdomen-pa-prone-view?lang=us\"><div class=\"col-xs-12 no-padding\"><div class=\"search-result-header\"><div class=\"search-result-type label label-article\">Article</div><div class=\"search-result-title\"><h4 class=\"search-result-title-text\">Abdomen (PA prone view)</h4></div></div></div><div class=\"search-result-body\">\n",
      "The PA prone radiograph is rarely performed and is often utilized when a patient is unable to lay supine. The projection is adequate for the examination of the abdominal cavity, however, not as practical for the renal structures due to magnification.\n",
      "\n",
      "Indications\n",
      "\n",
      "This view is useful in visualiz...</div></a><div class=\"hidden\"></div><a class=\"search-result search-result-article\" href=\"/articles/abdomen-radiograph-paediatric?lang=us\"><div class=\"col-xs-12 no-padding\"><div class=\"search-result-header\"><div class=\"search-result-type label label-article\">Article</div><div class=\"search-result-title\"><h4 class=\"search-result-title-text\">Abdomen radiograph (pediatric)</h4></div></div></div><div class=\"search-result-body\">\n",
      "The abdomen radiograph is a commonly requested examination in the pediatric patient. Children that present for abdominal x-rays are often very unwell, therefore specialized techniques and appropriate communication are essential for gaining the child&#39;s cooperation. \n",
      "\n",
      "Indications\n",
      "\n",
      "Performing abdom...</div></a><div class=\"hidden\"></div><a class=\"search-result search-result-article\" href=\"/articles/abdominal-adhesions?lang=us\"><div class=\"col-xs-12 no-padding\"><div class=\"search-result-header\"><div class=\"search-result-type label label-article\">Article</div><div class=\"search-result-title\"><h4 class=\"search-result-title-text\">Abdominal adhesions</h4></div></div></div><div class=\"search-result-body\">\n",
      "Abdominal adhesions are bands of scar tissue (ﬁbrous or ﬁbrofatty), most often occurring as a complication of previous abdominal surgery.\n",
      "\n",
      "Pathology\n",
      "\n",
      "Adhesions often occur with\n",
      "\n",
      "multiple abdominal operations or previous postoperative intra-abdominal complications\n",
      "\n",
      "history of intra-abdominal inﬂa...</div></a><div class=\"hidden\"></div><a class=\"search-result search-result-article\" href=\"/articles/abdominal-and-pelvic-anatomy?lang=us\"><div class=\"col-xs-12 no-padding\"><div class=\"search-result-header\"><div class=\"search-result-type label label-article\">Article</div><div class=\"search-result-title\"><h4 class=\"search-result-title-text\">Abdominal and pelvic anatomy</h4></div></div></div><div class=\"search-result-body\">\n",
      "Abdominal and pelvic anatomy encompasses the anatomy of all structures of the abdominal and pelvic cavities.\n",
      "\n",
      "This anatomy section promotes the use of the Terminologia Anatomica, the international standard of anatomical nomenclature. \n",
      "</div></a><div class=\"hidden\"></div><a class=\"search-result search-result-article\" href=\"/articles/abdominal-aorta-1?lang=us\"><div class=\"col-xs-12 no-padding\"><div class=\"search-result-header\"><div class=\"search-result-type label label-article\">Article</div><div class=\"search-result-title\"><h4 class=\"search-result-title-text\">Abdominal aorta</h4></div></div></div><div class=\"search-result-body\">\n",
      "The abdominal aorta (plural: aortas or aortae 4) is the main blood vessel in the abdominal cavity that transmits oxygenated blood from the thoracic cavity to the organs within the abdomen and to the lower limbs.\n",
      "\n",
      "Summary\n",
      "\n",
      "origin: continuation of descending thoracic aorta at T12 \n",
      "\n",
      "course: descend...</div></a><div class=\"hidden\"></div><a class=\"search-result search-result-article\" href=\"/articles/abdominal-aortic-aneurysm?lang=us\"><div class=\"col-xs-12 no-padding\"><div class=\"search-result-header\"><div class=\"search-result-type label label-article\">Article</div><div class=\"search-result-title\"><h4 class=\"search-result-title-text\">Abdominal aortic aneurysm</h4></div></div></div><div class=\"search-result-body\">\n",
      "Abdominal aortic aneurysms (AAA) are focal dilatations of the abdominal aorta measuring 50% greater than the proximal normal segment, or &gt;3 cm in maximum diameter.\n",
      "\n",
      "Epidemiology\n",
      "\n",
      "represent the tenth most common cause of death in the Western world\n",
      "\n",
      "prevalence increases with age\n",
      "\n",
      "~10% patients old...</div></a><div class=\"hidden\"></div><a class=\"search-result search-result-article\" href=\"/articles/abdominal-aortic-aneurysm-rupture-2?lang=us\"><div class=\"col-xs-12 no-padding\"><div class=\"search-result-header\"><div class=\"search-result-type label label-article\">Article</div><div class=\"search-result-title\"><h4 class=\"search-result-title-text\">Abdominal aortic aneurysm rupture</h4></div></div></div><div class=\"search-result-body\">\n",
      "Abdominal aortic aneurysm (AAA) rupture is a feared complication of abdominal aortic aneurysm and is a surgical emergency. It is part of the acute aortic syndrome spectrum.\n",
      "\n",
      "Epidemiology\n",
      "\n",
      "Abdominal aortic aneurysms are common and affect ~7.5% of patients aged over 65 years 6.\n",
      "\n",
      "Clinical presentat...</div></a><div class=\"hidden\"></div><a class=\"search-result search-result-article\" href=\"/articles/abdominal-aortic-aneurysm-summary?lang=us\"><div class=\"col-xs-12 no-padding\"><div class=\"search-result-header\"><div class=\"search-result-type label label-article\">Article</div><div class=\"search-result-title\"><h4 class=\"search-result-title-text\">Abdominal aortic aneurysm (summary)</h4></div></div></div><div class=\"search-result-body\">\n",
      "This is a basic article for medical students and other non-radiologists\n",
      "\n",
      "Abdominal aortic aneurysms (AAA) are focal dilatations of the abdominal aorta that are 50% greater than the proximal normal segment or &gt;3 cm in maximum diameter.\n",
      "\n",
      "Reference article\n",
      "\n",
      "This is a summary article; read more in o...</div></a><div class=\"hidden\"></div><a class=\"search-result search-result-article\" href=\"/articles/abdominal-aortic-injury?lang=us\"><div class=\"col-xs-12 no-padding\"><div class=\"search-result-header\"><div class=\"search-result-type label label-article\">Article</div><div class=\"search-result-title\"><h4 class=\"search-result-title-text\">Abdominal aortic injury</h4></div></div></div><div class=\"search-result-body\">\n",
      "Abdominal aortic injuries are a very rare form of traumatic aortic injury and are much less common than thoracic aortic injury. \n",
      "\n",
      "Epidemiology\n",
      "\n",
      "Aortic injury occurs in &lt;1% of blunt trauma patients, with abdominal aortic injury representing only ~5% of all aortic injuries 1. Males are more freque...</div></a><div class=\"hidden\"></div><a class=\"search-result search-result-article\" href=\"/articles/abdominal-cavity?lang=us\"><div class=\"col-xs-12 no-padding\"><div class=\"search-result-header\"><div class=\"search-result-type label label-article\">Article</div><div class=\"search-result-title\"><h4 class=\"search-result-title-text\">Abdominal cavity</h4></div></div></div><div class=\"search-result-body\">\n",
      "The abdominal cavity is divided into two major compartments, the peritoneum and retroperitoneum, early in fetal development.\n",
      "\n",
      "The parietal peritoneum is reflected over the peritoneal organs to form a series of supporting peritoneal ligaments, mesenteries and omenta. The peritoneal reflections ca...</div></a><div class=\"hidden\"></div><a class=\"search-result search-result-article\" href=\"/articles/abdominal-compartment-syndrome?lang=us\"><div class=\"col-xs-12 no-padding\"><div class=\"search-result-header\"><div class=\"search-result-type label label-article\">Article</div><div class=\"search-result-title\"><h4 class=\"search-result-title-text\">Abdominal compartment syndrome</h4></div></div></div><div class=\"search-result-body\">\n",
      "Abdominal compartment syndrome (ACS) is a life-threatening clinical state of increased intra-abdominal compartment pressure (IAP) of more than 20 mmHg. Radiological diagnosis is difficult and usually suggested when a collection of imaging findings are present in the appropriate clinical setting ...</div></a><div class=\"hidden\"></div><a class=\"search-result search-result-article\" href=\"/articles/abdominal-distension-mnemonic?lang=us\"><div class=\"col-xs-12 no-padding\"><div class=\"search-result-header\"><div class=\"search-result-type label label-article\">Article</div><div class=\"search-result-title\"><h4 class=\"search-result-title-text\">Abdominal distension (mnemonic)</h4></div></div></div><div class=\"search-result-body\">\n",
      "A mnemonic for causes of abdominal distension (6 Fs) is:\n",
      "\n",
      "F: fat\n",
      "\n",
      "F: fluid \n",
      "\n",
      "F: flatus\n",
      "\n",
      "F: feces \n",
      "\n",
      "F: fetus\n",
      "\n",
      "F: fulminant mass\n",
      "\n",
      "</div></a><div class=\"hidden\"></div><a class=\"search-result search-result-article\" href=\"/articles/abdominal-ectopic-pregnancy?lang=us\"><div class=\"col-xs-12 no-padding\"><div class=\"search-result-header\"><div class=\"search-result-type label label-article\">Article</div><div class=\"search-result-title\"><h4 class=\"search-result-title-text\">Abdominal ectopic pregnancy</h4></div></div></div><div class=\"search-result-body\">\n",
      "Abdominal ectopic pregnancies are an extremely rare type of ectopic pregnancy.\n",
      "\n",
      "Epidemiology\n",
      "\n",
      "They are thought to represent ~1% of all ectopic pregnancies 6 with an estimated incidence of 1:1000-10,000 births.\n",
      "\n",
      "Pathology\n",
      "\n",
      "It is often thought that they most frequently result from a tubal rupture ...</div></a><div class=\"hidden\"></div><a class=\"search-result search-result-article\" href=\"/articles/abdominal-hernia?lang=us\"><div class=\"col-xs-12 no-padding\"><div class=\"search-result-header\"><div class=\"search-result-type label label-article\">Article</div><div class=\"search-result-title\"><h4 class=\"search-result-title-text\">Abdominal hernia</h4></div></div></div><div class=\"search-result-body\">\n",
      "Abdominal hernias (herniae also used) may be congenital or acquired and come with varying eponyms. They are distinguished primarily based on location and content. 75-80% of all hernias are inguinal.\n",
      "\n",
      "Content of the hernia is variable, and may include:\n",
      "\n",
      "small bowel loops\n",
      "\n",
      "mobile colon segments (s...</div></a><div class=\"hidden\"></div><a class=\"search-result search-result-article\" href=\"/articles/abdominal-imaging-dual-energy-ct-1?lang=us\"><div class=\"col-xs-12 no-padding\"><div class=\"search-result-header\"><div class=\"search-result-type label label-article\">Article</div><div class=\"search-result-title\"><h4 class=\"search-result-title-text\">Abdominal imaging (dual-energy CT)</h4></div></div></div><div class=\"search-result-body\">\n",
      "The role of dual energy CT is becoming increasingly more prevalent abdominal imaging due to the availability of scanners and increasing field of research.\n",
      "\n",
      "Acute bowel ischemia\n",
      "\n",
      "The addition of iodine maps and 40-keV monoenergetic images to standard single energy CT images was found to increase ...</div></a><div class=\"hidden\"></div><a class=\"search-result search-result-article\" href=\"/articles/abdominal-lateral-view?lang=us\"><div class=\"col-xs-12 no-padding\"><div class=\"search-result-header\"><div class=\"search-result-type label label-article\">Article</div><div class=\"search-result-title\"><h4 class=\"search-result-title-text\">Abdominal (lateral view)</h4></div></div></div><div class=\"search-result-body\">\n",
      "The lateral view abdominal radiograph is a less common projection of the abdomen, it is different from the lateral decubitus view of the abdomen and looks more like a lateral lumbar spine view.\n",
      "\n",
      "Indications\n",
      "\n",
      "This projection is often requested as a useful problem-solving view that can complement ...</div></a><div class=\"hidden\"></div><a class=\"search-result search-result-article\" href=\"/articles/abdominal-migraine?lang=us\"><div class=\"col-xs-12 no-padding\"><div class=\"search-result-header\"><div class=\"search-result-type label label-article\">Article</div><div class=\"search-result-title\"><h4 class=\"search-result-title-text\">Abdominal migraine</h4></div></div></div><div class=\"search-result-body\">\n",
      "Abdominal migraine is a syndrome which presents as recurrent episodes of severe abdominal pain, coupled with vasomotor symptoms, nausea, and emesis. Historically it has tended to be a pediatric diagnosis, but it is now increasingly seen in adults. It is one of the functional gastrointestinal dis...</div></a><div class=\"hidden\"></div><a class=\"search-result search-result-article\" href=\"/articles/abdominal-opacities?lang=us\"><div class=\"col-xs-12 no-padding\"><div class=\"search-result-header\"><div class=\"search-result-type label label-article\">Article</div><div class=\"search-result-title\"><h4 class=\"search-result-title-text\">Abdominal opacities</h4></div></div></div><div class=\"search-result-body\">\n",
      "An opacity projecting over the abdomen has a broad differential. Possibilities to consider include:\n",
      "\n",
      "foreign bodies\n",
      "\n",
      "ingested, e.g. coins, batteries, bones, etc\n",
      "\n",
      "artifacts, e.g. object attached to the cloth of the patient like a safety pin or button\n",
      "\n",
      "iatrogenic, e.g. hemostatic clips, gastric ba...</div></a><div class=\"hidden\"></div><a class=\"search-result search-result-article\" href=\"/articles/abdominal-organ-echogenicity-mnemonic?lang=us\"><div class=\"col-xs-12 no-padding\"><div class=\"search-result-header\"><div class=\"search-result-type label label-article\">Article</div><div class=\"search-result-title\"><h4 class=\"search-result-title-text\">Abdominal organ echogenicity (mnemonic)</h4></div></div></div><div class=\"search-result-body\">\n",
      "This mnemonic helps to remember the relative echogenicity of abdominal organs on ultrasound:\n",
      "\n",
      "Darling Parents So Love Kids\n",
      "\n",
      "Mnemonic\n",
      "\n",
      "From most to least echogenic:\n",
      "\n",
      "D: diaphragm\n",
      "\n",
      "P: pancreas\n",
      "\n",
      "S: spleen\n",
      "\n",
      "L: liver\n",
      "\n",
      "K: kidneys (cortex)\n",
      "\n",
      "</div></a><div class=\"hidden\"></div><a class=\"search-result search-result-article\" href=\"/articles/abdominal-paracentesis?lang=us\"><div class=\"col-xs-12 no-padding\"><div class=\"search-result-header\"><div class=\"search-result-type label label-article\">Article</div><div class=\"search-result-title\"><h4 class=\"search-result-title-text\">Abdominal paracentesis</h4></div></div></div><div class=\"search-result-body\">\n",
      "An abdominal paracentesis (plural: paracenteses), more commonly referred to as an ascitic tap, is a procedure that can be performed to collect peritoneal fluid for analysis or as a therapeutic intervention.\n",
      "\n",
      "Indications\n",
      "\n",
      "diagnostic: especially for newly-diagnosed ascites\n",
      "\n",
      "determine etiology of a...</div></a><div class=\"hidden\"></div><a class=\"search-result search-result-article\" href=\"/articles/abdominal-radiography?lang=us\"><div class=\"col-xs-12 no-padding\"><div class=\"search-result-header\"><div class=\"search-result-type label label-article\">Article</div><div class=\"search-result-title\"><h4 class=\"search-result-title-text\">Abdominal radiography</h4></div></div></div><div class=\"search-result-body\">\n",
      "Abdominal radiography can be useful in many settings. Before the advent of computed tomography (CT) imaging, it was a primary means of investigating gastrointestinal pathology and often allowed indirect evaluation of other abdominal viscera.\n",
      "\n",
      "Indications\n",
      "\n",
      "Although abdominal radiography has lower...</div></a><div class=\"hidden\"></div><a class=\"search-result search-result-article\" href=\"/articles/abdominal-radiology-for-students-curriculum?lang=us\"><div class=\"col-xs-12 no-padding\"><div class=\"search-result-header\"><div class=\"search-result-type label label-article\">Article</div><div class=\"search-result-title\"><h4 class=\"search-result-title-text\">Abdominal radiology for students (curriculum)</h4></div></div></div><div class=\"search-result-body\">\n",
      "This is a basic article for medical students and other non-radiologists\n",
      "\n",
      "Abdominal radiology curriculum for medical students is broadly split into content that refers to imaging (the test and findings) and conditions that are considered key for this stage of training.\n",
      "\n",
      "Some non-abdominal conditi...</div></a><div class=\"hidden\"></div><a class=\"search-result search-result-article\" href=\"/articles/abdominal-surface-anatomy-2?lang=us\"><div class=\"col-xs-12 no-padding\"><div class=\"search-result-header\"><div class=\"search-result-type label label-article\">Article</div><div class=\"search-result-title\"><h4 class=\"search-result-title-text\">Abdominal surface anatomy</h4></div></div></div><div class=\"search-result-body\">\n",
      "Abdominal surface anatomy can be described when viewed from in front of the abdomen in 2 ways:\n",
      "\n",
      "divided into 9 regions by two vertical and two horizontal imaginary planes\n",
      "\n",
      "divided into 4 quadrants by single vertical and horizontal imaginary planes\n",
      "\n",
      "These regions and quadrants are of clinical imp...</div></a><div class=\"hidden\"></div><a class=\"search-result search-result-article\" href=\"/articles/abdominal-trauma?lang=us\"><div class=\"col-xs-12 no-padding\"><div class=\"search-result-header\"><div class=\"search-result-type label label-article\">Article</div><div class=\"search-result-title\"><h4 class=\"search-result-title-text\">Abdominal trauma</h4></div></div></div><div class=\"search-result-body\">\n",
      "Abdominal trauma is usually divided into blunt and penetrating trauma.\n",
      "\n",
      "Findings of abdominal trauma\n",
      "\n",
      "haemoperitoneum\n",
      "\n",
      "splenic trauma: most common\n",
      "\n",
      "hepatic trauma\n",
      "\n",
      "renal trauma\n",
      "\n",
      "pancreatic trauma\n",
      "\n",
      "gastrointestinal tract (bowel) trauma:\n",
      "\n",
      "proximal jejunum is most commonly affected by blunt trauma,...</div></a><div class=\"hidden\"></div><a class=\"search-result search-result-article\" href=\"/articles/abdominal-tuberculosis?lang=us\"><div class=\"col-xs-12 no-padding\"><div class=\"search-result-header\"><div class=\"search-result-type label label-article\">Article</div><div class=\"search-result-title\"><h4 class=\"search-result-title-text\">Abdominal tuberculosis</h4></div></div></div><div class=\"search-result-body\">\n",
      "Abdominal tuberculous can manifest in almost every abdominopelvic organ:\n",
      "\n",
      "gastrointestinal tuberculosis\n",
      "\n",
      "esophageal tuberculosis\n",
      "\n",
      "gastric tuberculosis\n",
      "\n",
      "duodenal tuberculosis\n",
      "\n",
      "jejunal and ileal tuberculosis\n",
      "\n",
      "ileocecal tuberculosis\n",
      "\n",
      "colorectal tuberculosis\n",
      "\n",
      "tuberculous peritonitis\n",
      "\n",
      "tubercular lymp...</div></a><div class=\"hidden\"></div><a class=\"search-result search-result-article\" href=\"/articles/abdominal-wall-injury?lang=us\"><div class=\"col-xs-12 no-padding\"><div class=\"search-result-header\"><div class=\"search-result-type label label-article\">Article</div><div class=\"search-result-title\"><h4 class=\"search-result-title-text\">Abdominal wall injury</h4></div></div></div><div class=\"search-result-body\">\n",
      "Abdominal wall injuries comprise a set of injuries of the abdominal wall and include different forms of muscle injuries, traumatic hernias and injuries to the subcutaneous tissue.  They are often overshadowed by the attention to associated “more severe” abdominal visceral injuries.\n",
      "\n",
      "Epidemiology...</div></a><div class=\"hidden\"></div><a class=\"search-result search-result-article\" href=\"/articles/abdominal-x-ray-air-summary?lang=us\"><div class=\"col-xs-12 no-padding\"><div class=\"search-result-header\"><div class=\"search-result-type label label-article\">Article</div><div class=\"search-result-title\"><h4 class=\"search-result-title-text\">Abdominal x-ray air (summary)</h4></div></div></div><div class=\"search-result-body\">\n",
      "This is a basic article for medical students and other non-radiologists\n",
      "\n",
      "Abdominal x-ray review is a key competency for medical students, junior doctors and other allied health professionals. Using ABDO X is a helpful and systematic method for abdominal x-ray review, where A refers to the assess...</div></a><div class=\"hidden\"></div><a class=\"search-result search-result-article\" href=\"/articles/abdominal-x-ray-an-approach-summary?lang=us\"><div class=\"col-xs-12 no-padding\"><div class=\"search-result-header\"><div class=\"search-result-type label label-article\">Article</div><div class=\"search-result-title\"><h4 class=\"search-result-title-text\">Abdominal x-ray - an approach (summary)</h4></div></div></div><div class=\"search-result-body\">\n",
      "This is a basic article for medical students and other non-radiologists\n",
      "\n",
      "Abdominal radiographs can be challenging examinations to look at. It is always best to approach radiographs in a systematic way.\n",
      "\n",
      "Bowel gas pattern\n",
      "\n",
      "Gas within the bowel forms a natural contrast with surrounding tissues sin...</div></a><div class=\"hidden\"></div><a class=\"search-result search-result-article\" href=\"/articles/abdominal-x-ray-artifacts-summary?lang=us\"><div class=\"col-xs-12 no-padding\"><div class=\"search-result-header\"><div class=\"search-result-type label label-article\">Article</div><div class=\"search-result-title\"><h4 class=\"search-result-title-text\">Abdominal x-ray artifacts (summary)</h4></div></div></div><div class=\"search-result-body\">\n",
      "This is a basic article for medical students and other non-radiologists\n",
      "\n",
      "Abdominal x-ray review is a key competency for medical students, junior doctors and other allied health professionals. Using ABDO X is a helpful and systematic method for abdominal x-ray review, where X refers to the assess...</div></a><div class=\"hidden\"></div><a class=\"search-result search-result-article\" href=\"/articles/abdominal-x-ray-bowel-summary?lang=us\"><div class=\"col-xs-12 no-padding\"><div class=\"search-result-header\"><div class=\"search-result-type label label-article\">Article</div><div class=\"search-result-title\"><h4 class=\"search-result-title-text\">Abdominal x-ray bowel (summary)</h4></div></div></div><div class=\"search-result-body\">\n",
      "This is a basic article for medical students and other non-radiologists\n",
      "\n",
      "Abdominal x-ray review is a key competency for medical students, junior doctors and other allied health professionals. Using ABDO X is a helpful and systematic method for abdominal x-ray review, where B refers to the assess...</div></a><div class=\"hidden\"></div><a class=\"search-result search-result-article\" href=\"/articles/abdominal-x-ray-densities-summary?lang=us\"><div class=\"col-xs-12 no-padding\"><div class=\"search-result-header\"><div class=\"search-result-type label label-article\">Article</div><div class=\"search-result-title\"><h4 class=\"search-result-title-text\">Abdominal x-ray densities (summary)</h4></div></div></div><div class=\"search-result-body\">\n",
      "This is a basic article for medical students and other non-radiologists\n",
      "\n",
      "Abdominal x-ray review is a key competency for medical students, junior doctors and other allied health professionals. Using ABDO X is a helpful and systematic method for abdominal x-ray review, where D refers to the assess...</div></a><div class=\"hidden\"></div><a class=\"search-result search-result-article\" href=\"/articles/abdominal-x-ray-organs-summary?lang=us\"><div class=\"col-xs-12 no-padding\"><div class=\"search-result-header\"><div class=\"search-result-type label label-article\">Article</div><div class=\"search-result-title\"><h4 class=\"search-result-title-text\">Abdominal x-ray organs (summary)</h4></div></div></div><div class=\"search-result-body\">\n",
      "This is a basic article for medical students and other non-radiologists\n",
      "\n",
      "Abdominal x-ray review is a key competency for medical students, junior doctors and other allied health professionals. Using ABDO X is a helpful and systematic method for abdominal x-ray review, where O refers to the assess...</div></a><div class=\"hidden\"></div><a class=\"search-result search-result-article\" href=\"/articles/abdominal-x-ray-review-abdo-x-summary?lang=us\"><div class=\"col-xs-12 no-padding\"><div class=\"search-result-header\"><div class=\"search-result-type label label-article\">Article</div><div class=\"search-result-title\"><h4 class=\"search-result-title-text\">Abdominal x-ray review: ABDO X (summary)</h4></div></div></div><div class=\"search-result-body\">\n",
      "Abdominal x-ray review is a key competency for medical students, junior doctors and other allied health professionals. Using ABDO X is a helpful and systematic method for abdominal x-ray review:\n",
      "\n",
      "A: air - where it should and shouldn&#39;t be\n",
      "\n",
      "B: bowel - position, size and wall thickness\n",
      "\n",
      "D: dense st...</div></a><div class=\"hidden\"></div><a class=\"search-result search-result-article\" href=\"/articles/abdominal-x-ray-summary?lang=us\"><div class=\"col-xs-12 no-padding\"><div class=\"search-result-header\"><div class=\"search-result-type label label-article\">Article</div><div class=\"search-result-title\"><h4 class=\"search-result-title-text\">Abdominal x-ray (summary)</h4></div></div></div><div class=\"search-result-body\">\n",
      "This is a basic article for medical students and other non-radiologists\n",
      "\n",
      "Abdominal radiographs can be a useful examination, but you need to think about the question you are asking before getting the test. Before the advent of computerized tomography (CT) imaging, it was a primary means of invest...</div></a><div class=\"hidden\"></div><a class=\"search-result search-result-article\" href=\"/articles/abdominoschisis?lang=us\"><div class=\"col-xs-12 no-padding\"><div class=\"search-result-header\"><div class=\"search-result-type label label-article\">Article</div><div class=\"search-result-title\"><h4 class=\"search-result-title-text\">Abdominoschisis</h4></div></div></div><div class=\"search-result-body\">\n",
      "Abdominoschisis (plural: abdominoschises) refers to a split or defect in the abdominal wall. Some authors use the term synonymously with a gastroschisis. When the defect continues into the thoracic region it is termed a thoracoabdominoschisis. A large abdominoschisis is considered part of the li...</div></a><div class=\"hidden\"></div><a class=\"search-result search-result-article\" href=\"/articles/abducens-nerve?lang=us\"><div class=\"col-xs-12 no-padding\"><div class=\"search-result-header\"><div class=\"search-result-type label label-article\">Article</div><div class=\"search-result-title\"><h4 class=\"search-result-title-text\">Abducens nerve</h4></div></div></div><div class=\"search-result-body\">\n",
      "The abducens nerve is the sixth cranial nerve. It courses from its nucleus located in the dorsal pons to its innervation of the lateral rectus muscle and can be divided into four parts:\n",
      "\n",
      "nucleus and intraparenchymal portion\n",
      "\n",
      "cisternal portion\n",
      "\n",
      "cavernous sinus portion\n",
      "\n",
      "orbital portion\n",
      "\n",
      "Gross anat...</div></a><div class=\"hidden\"></div><a class=\"search-result search-result-article\" href=\"/articles/abducens-nerve-palsy-1?lang=us\"><div class=\"col-xs-12 no-padding\"><div class=\"search-result-header\"><div class=\"search-result-type label label-article\">Article</div><div class=\"search-result-title\"><h4 class=\"search-result-title-text\">Abducens nerve palsy</h4></div></div></div><div class=\"search-result-body\">\n",
      "Abducens nerve palsy, or sixth nerve palsy, results in weakness of the ipsilateral lateral rectus muscle.\n",
      "\n",
      "Clinical presentation\n",
      "\n",
      "Patients present with horizontal diplopia with an inability to abduct the ipsilateral eye, thereby resulting in an esotropia (nasal deviation of the eye).\n",
      "\n",
      "Pathology\n",
      "...</div></a><div class=\"hidden\"></div><a class=\"search-result search-result-article\" href=\"/articles/abducentnucleus?lang=us\"><div class=\"col-xs-12 no-padding\"><div class=\"search-result-header\"><div class=\"search-result-type label label-article\">Article</div><div class=\"search-result-title\"><h4 class=\"search-result-title-text\">Abducent nucleus</h4></div></div></div><div class=\"search-result-body\">\n",
      "The abducent or abducens nucleus is a small motor nucleus in the pons for the abducens nerve.\n",
      "\n",
      "Gross Anatomy\n",
      "\n",
      "The nucleus is located in the paramedian dorsal lower pons in the floor of the fourth ventricle lateral to the medial longitudinal fasciculus. The nucleus forms a longitudinal paramedian...</div></a><div class=\"hidden\"></div><a class=\"search-result search-result-article\" href=\"/articles/abductor-digiti-minimi-foot?lang=us\"><div class=\"col-xs-12 no-padding\"><div class=\"search-result-header\"><div class=\"search-result-type label label-article\">Article</div><div class=\"search-result-title\"><h4 class=\"search-result-title-text\">Abductor digiti minimi (foot)</h4></div></div></div><div class=\"search-result-body\">\n",
      "The abductor digiti minimi muscle is on the lateral side of the foot and contributes to the large lateral plantar eminence on the sole.\n",
      "\n",
      "Summary\n",
      "\n",
      "origin: lateral and medial processes of calcaneal tuberosity, and band of connective tissue connecting calcaneus with base of metatarsal V\n",
      "\n",
      "insertion:...</div></a><div class=\"hidden\"></div><a class=\"search-result search-result-article\" href=\"/articles/abductor-digiti-minimi-muscle-hand?lang=us\"><div class=\"col-xs-12 no-padding\"><div class=\"search-result-header\"><div class=\"search-result-type label label-article\">Article</div><div class=\"search-result-title\"><h4 class=\"search-result-title-text\">Abductor digiti minimi muscle (hand)</h4></div></div></div><div class=\"search-result-body\">\n",
      "The abductor digiti minimi muscle overlies the opponens digiti minimi muscle, within the hypothenar eminence, and is one of the intrinsic muscles of the hand. Occasionally an accessory abductor digiti minimi muscle of the hand is present.\n",
      "\n",
      "Summary\n",
      "\n",
      "origin: pisiform, pisohamate ligament, and tend...</div></a><div class=\"hidden\"></div><a class=\"search-result search-result-article\" href=\"/articles/abductor-hallucis-muscle?lang=us\"><div class=\"col-xs-12 no-padding\"><div class=\"search-result-header\"><div class=\"search-result-type label label-article\">Article</div><div class=\"search-result-title\"><h4 class=\"search-result-title-text\">Abductor hallucis muscle</h4></div></div></div><div class=\"search-result-body\">\n",
      "The abductor hallucis muscle forms the medial margin of the foot and contributes to a soft tissue bulge on the medial side of the sole.\n",
      "\n",
      "Summary\n",
      "\n",
      "origin: medial process of calcaneal tuberosity\n",
      "\n",
      "insertion: medial side of base of proximal phalanx of great toe\n",
      "\n",
      "action: abducts and flexes great toe ...</div></a><div class=\"hidden\"></div><a class=\"search-result search-result-article\" href=\"/articles/abductor-pollicis-brevis-muscle?lang=us\"><div class=\"col-xs-12 no-padding\"><div class=\"search-result-header\"><div class=\"search-result-type label label-article\">Article</div><div class=\"search-result-title\"><h4 class=\"search-result-title-text\">Abductor pollicis brevis muscle</h4></div></div></div><div class=\"search-result-body\">\n",
      "The abductor pollicis brevis muscle is a thin subcutaneous muscle located laterally in the thenar eminence of the hand, and is one of the intrinsic muscles of the hand.\n",
      "\n",
      "Summary\n",
      "\n",
      "origin: mainly from the flexor retinaculum\n",
      "\n",
      "few fibers originate from the tubercles of scaphoid and trapezium and ten...</div></a><div class=\"hidden\"></div><a class=\"search-result search-result-article\" href=\"/articles/abductor-pollicis-longus?lang=us\"><div class=\"col-xs-12 no-padding\"><div class=\"search-result-header\"><div class=\"search-result-type label label-article\">Article</div><div class=\"search-result-title\"><h4 class=\"search-result-title-text\">Abductor pollicis longus</h4></div></div></div><div class=\"search-result-body\">\n",
      "The abductor pollicis longus (APL) is a muscle found in the deep layer of the posterior compartment of the forearm. As it descends, it becomes superficial and passes under the extensor retinaculum and through the 1st extensor compartment of the wrist before attaching distally. It is one of the e...</div></a><div class=\"hidden\"></div><a class=\"search-result search-result-article\" href=\"/articles/abernethy-malformation?lang=us\"><div class=\"col-xs-12 no-padding\"><div class=\"search-result-header\"><div class=\"search-result-type label label-article\">Article</div><div class=\"search-result-title\"><h4 class=\"search-result-title-text\">Abernethy malformation</h4></div></div></div><div class=\"search-result-body\">\n",
      "Abernethy malformations are rare vascular anomalies of the splanchnic venous system. They consist of congenital portosystemic shunts and result from persistence of the embryonic vessels. \n",
      "\n",
      "Epidemiology\n",
      "\n",
      "Type I malformations are thought to occur only in females, while type II have a male predomin...</div></a><div class=\"hidden\"></div><a class=\"search-result search-result-article\" href=\"/articles/aber-position?lang=us\"><div class=\"col-xs-12 no-padding\"><div class=\"search-result-header\"><div class=\"search-result-type label label-article\">Article</div><div class=\"search-result-title\"><h4 class=\"search-result-title-text\">ABER position</h4></div></div></div><div class=\"search-result-body\">\n",
      "The ABER position relates to MR arthrography of the shoulder joint and is a mnemonic for ABduction and External Rotation.\n",
      "\n",
      "In this position, labral tears are made conspicuous by tightening the inferior glenohumeral labroligamentous complex (which are also the most important glenohumeral ligament...</div></a><div class=\"hidden\"></div><a class=\"search-result search-result-article\" href=\"/articles/aberrant-arachnoid-granulations?lang=us\"><div class=\"col-xs-12 no-padding\"><div class=\"search-result-header\"><div class=\"search-result-type label label-article\">Article</div><div class=\"search-result-title\"><h4 class=\"search-result-title-text\">Aberrant arachnoid granulations</h4></div></div></div><div class=\"search-result-body\">\n",
      "Aberrant arachnoid granulations are arachnoid granulations that penetrated the dura but failed to migrate normally in the venous sinus. They are most often located in the greater wing of the sphenoid bone and may be seen in idiopathic intracranial hypertension. Occasionally, they are seen in the...</div></a><div class=\"hidden\"></div><a class=\"search-result search-result-article\" href=\"/articles/aberrant-internal-carotid-artery?lang=us\"><div class=\"col-xs-12 no-padding\"><div class=\"search-result-header\"><div class=\"search-result-type label label-article\">Article</div><div class=\"search-result-title\"><h4 class=\"search-result-title-text\">Aberrant internal carotid artery</h4></div></div></div><div class=\"search-result-body\">\n",
      "Aberrant internal carotid artery is a variant of the internal carotid artery and represents a collateral pathway resulting from involution of the normal cervical portion (first embryonic segment) of the internal carotid artery 5.\n",
      "\n",
      "Gross anatomy\n",
      "\n",
      "There is consequent enlargement of the usually sma...</div></a><div class=\"hidden\"></div><a class=\"search-result search-result-article\" href=\"/articles/aberrant-left-pulmonary-artery-1?lang=us\"><div class=\"col-xs-12 no-padding\"><div class=\"search-result-header\"><div class=\"search-result-type label label-article\">Article</div><div class=\"search-result-title\"><h4 class=\"search-result-title-text\">Aberrant left pulmonary artery</h4></div></div></div><div class=\"search-result-body\">\n",
      "Aberrant left pulmonary artery, also known as pulmonary sling, represents an anatomical variant characterized by the left pulmonary artery arising from the right pulmonary artery and passing above the right main bronchus and in between the trachea and esophagus to reach the left lung. It may lea...</div></a><div class=\"hidden\"></div><a class=\"search-result search-result-article\" href=\"/articles/aberrant-right-subclavian-artery?lang=us\"><div class=\"col-xs-12 no-padding\"><div class=\"search-result-header\"><div class=\"search-result-type label label-article\">Article</div><div class=\"search-result-title\"><h4 class=\"search-result-title-text\">Aberrant right subclavian artery</h4></div></div></div><div class=\"search-result-body\">\n",
      "Aberrant right subclavian arteries (ARSA), also known as arteria lusoria, are one of the commonest of the aortic arch anomalies. \n",
      "\n",
      "Epidemiology\n",
      "\n",
      "The estimated incidence is 0.5-2%.\n",
      "\n",
      "Clinical presentation\n",
      "\n",
      "They are often asymptomatic, but around 10% of people may complain of tracheo-esophageal sym...</div></a><div class=\"hidden\"></div><a class=\"search-result search-result-article\" href=\"/articles/aberrations-in-the-normal-development-and-involution-of-the-breast?lang=us\"><div class=\"col-xs-12 no-padding\"><div class=\"search-result-header\"><div class=\"search-result-type label label-article\">Article</div><div class=\"search-result-title\"><h4 class=\"search-result-title-text\">Aberrations in the normal development and involution of the breast</h4></div></div></div><div class=\"search-result-body\">\n",
      "Aberrations in the Normal Development and Involution of the breast (ANDI) is an all-encompassing term that is used to describe a wide spectrum of the benign breast diseases. As the name suggests, it is based on the theory that most of the encountered benign breast disorders are essentially minor...</div></a><div class=\"hidden\"></div><a class=\"search-result search-result-article\" href=\"/articles/abnormal-bowel-wall-attenuation-patterns?lang=us\"><div class=\"col-xs-12 no-padding\"><div class=\"search-result-header\"><div class=\"search-result-type label label-article\">Article</div><div class=\"search-result-title\"><h4 class=\"search-result-title-text\">Abnormal bowel wall attenuation patterns</h4></div></div></div><div class=\"search-result-body\">\n",
      "Abnormal bowel wall attenuation patterns on CT scan can be grouped under five categories:\n",
      "\n",
      "white enhancement\n",
      "\n",
      "gray enhancement\n",
      "\n",
      "water halo sign\n",
      "\n",
      "fat halo sign\n",
      "\n",
      "black attenuation\n",
      "\n",
      "The first three patterns are seen on contrast studies.\n",
      "\n",
      "White enhancement\n",
      "\n",
      "It is defined as uniform enhancement of th...</div></a><div class=\"hidden\"></div><a class=\"search-result search-result-article\" href=\"/articles/abnormal-collection-of-barium-anywhere-mnemonic?lang=us\"><div class=\"col-xs-12 no-padding\"><div class=\"search-result-header\"><div class=\"search-result-type label label-article\">Article</div><div class=\"search-result-title\"><h4 class=\"search-result-title-text\">Abnormal collection of barium anywhere (mnemonic)</h4></div></div></div><div class=\"search-result-body\">\n",
      "A mnemonic used for abnormal collection of barium anywhere in the body:\n",
      "\n",
      "FED UP\n",
      "\n",
      "Mnemonic\n",
      "\n",
      "F: fistula\n",
      "\n",
      "E: extravasation\n",
      "\n",
      "D: diverticulum\n",
      "\n",
      "U: ulcer\n",
      "\n",
      "P: perforation\n",
      "\n",
      "</div></a><div class=\"hidden\"></div><a class=\"search-result search-result-article\" href=\"/articles/abnormal-ductus-venosus-waveforms?lang=us\"><div class=\"col-xs-12 no-padding\"><div class=\"search-result-header\"><div class=\"search-result-type label label-article\">Article</div><div class=\"search-result-title\"><h4 class=\"search-result-title-text\">Abnormal ductus venosus waveforms</h4></div></div></div><div class=\"search-result-body\">\n",
      "Abnormal ductus venosus waveforms can arise in a number of conditions ranging from aneuploidy to vascular malformations and fetal tumors. &quot;A wave&quot; reversal can be seen in 5% of euploid fetuses 9.\n",
      "\n",
      "Pathology\n",
      "\n",
      "Abnormal waveforms in fetal ductus venosus flow assessment can occur in a number of situ...</div></a><div class=\"hidden\"></div><a class=\"search-result search-result-article\" href=\"/articles/abnormal-intra-abdominal-gas-1?lang=us\"><div class=\"col-xs-12 no-padding\"><div class=\"search-result-header\"><div class=\"search-result-type label label-article\">Article</div><div class=\"search-result-title\"><h4 class=\"search-result-title-text\">Abnormal intra-abdominal gas</h4></div></div></div><div class=\"search-result-body\">\n",
      "Abnormal intra-abdominal gas is an important radiologic finding with many potential causes. It may be seen on a chest radiograph, abdominal radiograph, CT or MRI.\n",
      "\n",
      "pneumoperitoneum\n",
      "\n",
      "retropneumoperitoneum\n",
      "\n",
      "pseudopneumoperitoneum\n",
      "\n",
      "abnormally located bowel, e.g. Chilaiditi syndrome (bowel interpose...</div></a><div class=\"hidden\"></div><a class=\"search-result search-result-article\" href=\"/articles/abnormally-eccentric-gestational-sac?lang=us\"><div class=\"col-xs-12 no-padding\"><div class=\"search-result-header\"><div class=\"search-result-type label label-article\">Article</div><div class=\"search-result-title\"><h4 class=\"search-result-title-text\">Abnormally eccentric gestational sac</h4></div></div></div><div class=\"search-result-body\">\n",
      "An eccentrically-located gestational sac towards the fundus of the uterus is the normal sonographic appearance; however, an abnormally eccentric gestational sac on ultrasound may be apparent due to a number of causes\n",
      "\n",
      "They include\n",
      "\n",
      "interstitial ectopic pregnancy 1\n",
      "\n",
      "normally implanted pregnancy i...</div></a><div class=\"hidden\"></div><a class=\"search-result search-result-article\" href=\"/articles/abnormally-low-sac-position?lang=us\"><div class=\"col-xs-12 no-padding\"><div class=\"search-result-header\"><div class=\"search-result-type label label-article\">Article</div><div class=\"search-result-title\"><h4 class=\"search-result-title-text\">Abnormally low sac position</h4></div></div></div><div class=\"search-result-body\">\n",
      "An abnormally low sac position can result from several possibilities which include\n",
      "\n",
      "impending/ongoing miscarriage\n",
      "\n",
      "cervical ectopic pregnancy\n",
      "\n",
      "Cesarean scar ectopic pregnancy  \n",
      "\n",
      "fundal fibroid or other mass compressing the sac downward\n",
      "\n",
      "</div></a>\n",
      "</div>\n",
      "\n",
      "  </div>\n",
      "</div>\n",
      "</div><div id=\"pager\"><div class=\"pagination clear\"><span class=\"previous_page disabled\">&#8592; Previous</span> <em class=\"current\">1</em> <a rel=\"next\" href=\"/encyclopaedia/all/all?lang=us&amp;page=2\">2</a> <a href=\"/encyclopaedia/all/all?lang=us&amp;page=3\">3</a> <a href=\"/encyclopaedia/all/all?lang=us&amp;page=4\">4</a> <a href=\"/encyclopaedia/all/all?lang=us&amp;page=5\">5</a> <a href=\"/encyclopaedia/all/all?lang=us&amp;page=6\">6</a> <a href=\"/encyclopaedia/all/all?lang=us&amp;page=7\">7</a> <a href=\"/encyclopaedia/all/all?lang=us&amp;page=8\">8</a> <a href=\"/encyclopaedia/all/all?lang=us&amp;page=9\">9</a> <span class=\"gap\">&hellip;</span> <a href=\"/encyclopaedia/all/all?lang=us&amp;page=156\">156</a> <a href=\"/encyclopaedia/all/all?lang=us&amp;page=157\">157</a> <a class=\"next_page\" rel=\"next\" href=\"/encyclopaedia/all/all?lang=us&amp;page=2\">Next &#8594;</a></div></div></div>\n",
      "      </div>\n",
      "    </div>\n",
      "\n",
      "    <div class=\"row\">\n",
      "      <div class=\"site-footer wrapper col-md-12\">\n",
      "        <div class=\"accent-gradient\"></div>\n",
      "        <div class=\"site-footer-bottom\"><div class=\"site-footer-links clearfix\"><div class=\"footer-links-encyclopaedia col-xs-6 col-md-6\"><div class=\"row\"><div class=\"col-md-12\"><h2><a href=\"/encyclopaedia/all/all?lang=us\">Encyclopaedia</a></h2></div></div><div class=\"row\"><div class=\"col-md-4 site-footer-section-col\"><h3>By Section:</h3><ul><li><a href=\"/encyclopaedia/anatomy/all?lang=us\">Anatomy</a></li><li><a href=\"/encyclopaedia/approach/all?lang=us\">Approach</a></li><li><a href=\"/encyclopaedia/artificial-intelligence/all?lang=us\">Artificial Intelligence</a></li><li><a href=\"/encyclopaedia/classifications/all?lang=us\">Classifications</a></li><li><a href=\"/encyclopaedia/gamuts/all?lang=us\">Gamuts</a></li><li><a href=\"/encyclopaedia/physics/all?lang=us\">Imaging Technology</a></li><li><a href=\"/encyclopaedia/interventional-radiology/all?lang=us\">Interventional Radiology</a></li><li><a href=\"/encyclopaedia/mnemonics/all?lang=us\">Mnemonics</a></li><li><a href=\"/encyclopaedia/pathology/all?lang=us\">Pathology</a></li><li><a href=\"/encyclopaedia/radiography/all?lang=us\">Radiography</a></li><li><a href=\"/encyclopaedia/signs/all?lang=us\">Signs</a></li><li><a href=\"/encyclopaedia/staging/all?lang=us\">Staging</a></li><li><a href=\"/encyclopaedia/syndromes/all?lang=us\">Syndromes</a></li></ul></div><div class=\"col-md-8 col-margin-10-top-bottom\"><div class=\"row\"><div class=\"col-md-12\"><h3>By System:</h3></div><div class=\"col-md-6\"><ul><li><a href=\"/encyclopaedia/all/breast?lang=us\">Breast</a></li><li><a href=\"/encyclopaedia/all/cardiac?lang=us\">Cardiac</a></li><li><a href=\"/encyclopaedia/all/central-nervous-system?lang=us\">Central Nervous System</a></li><li><a href=\"/encyclopaedia/all/chest?lang=us\">Chest</a></li><li><a href=\"/encyclopaedia/all/forensic?lang=us\">Forensic</a></li><li><a href=\"/encyclopaedia/all/gastrointestinal?lang=us\">Gastrointestinal</a></li><li><a href=\"/encyclopaedia/all/gynaecology?lang=us\">Gynaecology</a></li><li><a href=\"/encyclopaedia/all/haematology?lang=us\">Haematology</a></li><li><a href=\"/encyclopaedia/all/head-neck?lang=us\">Head &amp; Neck</a></li><li><a href=\"/encyclopaedia/all/hepatobiliary?lang=us\">Hepatobiliary</a></li></ul></div><div class=\"col-md-6\"><ul><li><a href=\"/encyclopaedia/all/interventional?lang=us\">Interventional</a></li><li><a href=\"/encyclopaedia/all/musculoskeletal?lang=us\">Musculoskeletal</a></li><li><a href=\"/encyclopaedia/all/obstetrics?lang=us\">Obstetrics</a></li><li><a href=\"/encyclopaedia/all/oncology?lang=us\">Oncology</a></li><li><a href=\"/encyclopaedia/all/paediatrics?lang=us\">Paediatrics</a></li><li><a href=\"/encyclopaedia/all/spine?lang=us\">Spine</a></li><li><a href=\"/encyclopaedia/all/trauma?lang=us\">Trauma</a></li><li><a href=\"/encyclopaedia/all/urogenital?lang=us\">Urogenital</a></li><li><a href=\"/encyclopaedia/all/vascular?lang=us\">Vascular</a></li></ul></div></div></div></div></div><div class=\"footer-links-cases col-xs-6 col-md-4\"><div class=\"row\"><div class=\"col-md-12\"><h2><a href=\"/cases?lang=us\">Patient Cases</a></h2></div></div><div class=\"row\"><div class=\"col-md-6\"><ul><li><a href=\"/encyclopaedia/cases/breast?lang=us\">Breast</a></li><li><a href=\"/encyclopaedia/cases/cardiac?lang=us\">Cardiac</a></li><li><a href=\"/encyclopaedia/cases/central-nervous-system?lang=us\">Central Nervous System</a></li><li><a href=\"/encyclopaedia/cases/chest?lang=us\">Chest</a></li><li><a href=\"/encyclopaedia/cases/forensic?lang=us\">Forensic</a></li><li><a href=\"/encyclopaedia/cases/gastrointestinal?lang=us\">Gastrointestinal</a></li><li><a href=\"/encyclopaedia/cases/gynaecology?lang=us\">Gynaecology</a></li><li><a href=\"/encyclopaedia/cases/haematology?lang=us\">Haematology</a></li><li><a href=\"/encyclopaedia/cases/head-neck?lang=us\">Head &amp; Neck</a></li><li><a href=\"/encyclopaedia/cases/hepatobiliary?lang=us\">Hepatobiliary</a></li></ul></div><div class=\"col-md-6\"><ul><li><a href=\"/encyclopaedia/cases/interventional?lang=us\">Interventional</a></li><li><a href=\"/encyclopaedia/cases/musculoskeletal?lang=us\">Musculoskeletal</a></li><li><a href=\"/encyclopaedia/cases/obstetrics?lang=us\">Obstetrics</a></li><li><a href=\"/encyclopaedia/cases/oncology?lang=us\">Oncology</a></li><li><a href=\"/encyclopaedia/cases/paediatrics?lang=us\">Paediatrics</a></li><li><a href=\"/encyclopaedia/cases/spine?lang=us\">Spine</a></li><li><a href=\"/encyclopaedia/cases/trauma?lang=us\">Trauma</a></li><li><a href=\"/encyclopaedia/cases/urogenital?lang=us\">Urogenital</a></li><li><a href=\"/encyclopaedia/cases/vascular?lang=us\">Vascular</a></li><li><a href=\"/encyclopaedia/cases/not-applicable?lang=us\">Not Applicable</a></li></ul></div></div></div><div class=\"footer-links-about col-xs-6 col-md-2\"><div class=\"row\"><div class=\"col-md-12\"><h2><a href=\"/?lang=us\">Radiopaedia.org</a></h2></div></div><div class=\"row\"><div class=\"col-md-12\"><ul><li><a class=\"footer-links-about-primary\" href=\"/about?lang=us\">About</a></li><li><a class=\"footer-links-about-primary\" href=\"/blog?lang=us\">Blog</a></li><li><a class=\"footer-links-about-primary\" href=\"/feature-sponsor?lang=us\">Feature Sponsor</a></li><li><a class=\"footer-links-about-primary\" href=\"/supporters?lang=us\">Donate</a></li><li> </li><li><a href=\"/editors?lang=us\">Editors</a></li><li><a href=\"/expert-advisers?lang=us\">Expert advisers</a></li><li><a href=\"/articles/style-guide-and-help?lang=us\">Help</a></li><li> </li><li><a href=\"https://www.facebook.com/Radiopaedia.org\" target=\"_blank\"><img class=\"social-presence-button\" src=\"https://prod-assets-static.radiopaedia.org/assets/social/facebook-4e32412681c53477172fb1b16eb7152017cef71ae138f22513ce7d20f311728e.png\" /> <span>Facebook</span></a></li><li><a href=\"https://twitter.com/Radiopaedia\" target=\"_blank\"><img class=\"social-presence-button\" src=\"https://prod-assets-static.radiopaedia.org/assets/social/twitter-7a81edd38ca1d93d3b37114bd19c396ce8a41d81c6fc3b80cf0683f5f13a7707.png\" /> <span>Twitter</span></a></li><li><a target=\"_blank\" href=\"http://eepurl.com/ltOWf\"><img class=\"social-presence-button\" src=\"https://prod-assets-static.radiopaedia.org/assets/social/email-59ada0766bfbd651f55e6e1c1d784446f833bd425df58273dd1d9d16d96efd7e.png\" /> <span>Newsletter</span></a></li><li><a class=\"hidden\" id=\"ccpa_optout\">Do not share my Personal Information.</a><script>('__uspapi' in window) && __uspapi('setUSPLink', 1, function() { $('#ccpa_optout').removeClass('hidden') }, \"ccpa_optout\");</script></li></ul></div></div></div><div class=\"footer-links-fine-print col-xs-12 horizontally-centered-xs\"><div class=\"row\"><div class=\"col-md-2\"><a href=\"/contact?lang=us\">Contact Us</a></div><div class=\"col-md-2\"><a href=\"/terms?lang=us\">Terms of Use</a></div><div class=\"col-md-2\"><a href=\"/terms?lang=us#privacy-policy\">Privacy Policy</a></div><div class=\"col-md-2\"><a href=\"/licence?lang=us\">Licensing</a></div><div class=\"col-md-2\"><a href=\"/sponsorship?lang=us\">Sponsorship</a></div><div class=\"col-md-2\"><a href=\"/developers?lang=us\">Developers</a></div></div></div></div></div>\n",
      "      </div>\n",
      "      <div class=\"ajax-form-widgets\">\n",
      "  <div class=\"ajax-form-cover\">\n",
      "    <p class=\"updating\">Updating… Please wait.<br /><img src=\"https://prod-assets-static.radiopaedia.org/assets/loadingAnimation-1da817fd12a97dcdd18f98984dd1fc44dc490890e146bbda2a34c3c51d1da58a.gif\" /></p>\n",
      "    <p class=\"success\"><img src=\"https://prod-assets-static.radiopaedia.org/assets/form/alert_accept-1f6de24cc1a0f2c85a6a44c4c6204e42de09421ef1a2876b1b18af12b0c670e6.png\" /></p>\n",
      "    <p class=\"error\"><img src=\"https://prod-assets-static.radiopaedia.org/assets/error-525764a3f25ba0ed9d3c1d74a54d1c391198308c9979c8deb2b45ee791a899e8.png\" />&nbsp;Unable to process the form. Check for errors and try again.</p>\n",
      "  </div>\n",
      "  <p class=\"ajax-form-success\">\n",
      "    <img src=\"https://prod-assets-static.radiopaedia.org/assets/form/alert_accept-1f6de24cc1a0f2c85a6a44c4c6204e42de09421ef1a2876b1b18af12b0c670e6.png\" />&nbsp;Thank you for updating your details.\n",
      "  </p>\n",
      "</div>\n",
      "\n",
      "\n",
      "        \n",
      "\n",
      "          <div id=\"div-gpt-ad-interstitial\" class=\"ad-container\" style=\"width:0; height:0;\">\n",
      "            <script type='text/javascript'>\n",
      "              googletag.cmd.push(function() { googletag.display('div-gpt-ad-interstitial'); });\n",
      "            </script>\n",
      "</div>\n",
      "        \n",
      "    </div>\n",
      "  </div>\n",
      "  <div class=\"container\">\n",
      "    <div class=\"site-footer-notes horizontally-centered-xs\">\n",
      "      <span class=\"site-footer-notes-copyright\">&copy; 2005&ndash;2020 Radiopaedia.org</span>\n",
      "    </div>\n",
      "  </div>\n",
      "\n",
      "  <footer class=\"footer fixed-footer navbar-fixed-bottom js-terms-of-use-disclaimer\"><div class=\"vertically-centered-wrapper\"><div class=\"fixed-footer-content\"><div class=\"vertically-centered-element fixed-footer-button\"><button class=\"btn btn-flat js-terms-of-use-disclaimer-accept-button\" type=\"button\">Accept</button></div><div class=\"vertically-centered-element fixed-footer-text\"><span>This site is for use by&nbsp;</span><span class=\"inline-block\"><a class=\"link-inverse\" href=\"/terms?lang=us#medical-disclaimer\">medical professionals</a>.</span><span> To continue you must accept our&nbsp;</span><span class=\"inline-block\"><a class=\"link-inverse\" href=\"/terms?lang=us#cookies\">use of cookies</a></span><span> and the site's&nbsp;</span><span class=\"inline-block\"><a class=\"link-inverse\" href=\"/terms?lang=us\">Terms of Use</a>.</span></div></div></div></footer>\n",
      "  \n",
      "  <script src=https://prod-assets-static.radiopaedia.org/assets/ads-b5f3b0169b7afe0b41fb68943ec0694f687e934c0975ddaa7ecabc2594dc8659.js type=\"application/javascript\"></script>\n",
      "<script type=\"text/javascript\">\n",
      "\n",
      "  // detect if dummy ad exists (created in ads.js)\n",
      "  if(document.getElementById('OkJlPWEFTgIK')){\n",
      "    // these log statements can be removed once adblock detection is verified\n",
      "    console.log('Blocking Ads: No');\n",
      "    OkJlPWEFTgIK='No';\n",
      "  } else {\n",
      "    // these log statements can be removed once adblock detection is verified\n",
      "    console.log('Blocking Ads: Yes');\n",
      "    OkJlPWEFTgIK='Yes';\n",
      "  }\n",
      "\n",
      "  // send data to google analytics\n",
      "  if(typeof ga !=='undefined'){\n",
      "    ga('send','event','Blocking Ads',OkJlPWEFTgIK,{'nonInteraction':1});\n",
      "  } else if(typeof _gaq !=='undefined'){\n",
      "    _gaq.push(['_trackEvent','Blocking Ads',OkJlPWEFTgIK,undefined,undefined,true]);\n",
      "  }\n",
      "</script>\n",
      "<script src=\"https://snigelweb-com.videoplayerhub.com/videoloader.js\"></script>\n",
      "\n",
      "  <script src=\"https://prod-assets-static.radiopaedia.org/packs/js/runtime~signup_modal-3079254613dd5c964a7e.js\"></script>\n",
      "<script src=\"https://prod-assets-static.radiopaedia.org/packs/js/0-50339c5e326769e2eedd.chunk.js\"></script>\n",
      "<script src=\"https://prod-assets-static.radiopaedia.org/packs/js/1-6debc795881e6383a0d2.chunk.js\"></script>\n",
      "<script src=\"https://prod-assets-static.radiopaedia.org/packs/js/signup_modal-16fa3d95ef2d1016af43.chunk.js\"></script>\n",
      "<script src=\"https://prod-assets-static.radiopaedia.org/packs/js/runtime~inline_multiple_choice_question-b8e038bff1370237325c.js\"></script>\n",
      "<script src=\"https://prod-assets-static.radiopaedia.org/packs/js/inline_multiple_choice_question-002ab02e9f276ccb2b56.chunk.js\"></script>\n",
      "<script src=\"https://prod-assets-static.radiopaedia.org/packs/js/runtime~stack_video-ea31ff483cf6b28daed3.js\"></script>\n",
      "<script src=\"https://prod-assets-static.radiopaedia.org/packs/js/2-b123ef3ff5e429a478d6.chunk.js\"></script>\n",
      "<script src=\"https://prod-assets-static.radiopaedia.org/packs/js/stack_video-05e3a7a2d90d080559bd.chunk.js\"></script>\n",
      "\n",
      "<link rel=\"stylesheet\" media=\"screen\" href=\"https://prod-assets-static.radiopaedia.org/packs/css/1-11ab4c24.chunk.css\" />\n",
      "<link rel=\"stylesheet\" media=\"screen\" href=\"https://prod-assets-static.radiopaedia.org/packs/css/signup_modal-47ccf1ab.chunk.css\" />\n",
      "<link rel=\"stylesheet\" media=\"screen\" href=\"https://prod-assets-static.radiopaedia.org/packs/css/stack_video-bfb8a18e.chunk.css\" />\n",
      "\n",
      "  <div id='floorad-wrapper'>\n",
      "  <a\n",
      "    id='close-floorad-btn'\n",
      "    style=\"display: none;\"\n",
      "  >&#10006;</a>\n",
      "  <div id='sticky-ad-background'></div>\n",
      "  <div\n",
      "    id='snhb-radiopaedia_footer_desktop-0'\n",
      "    style=\"margin: 0 auto !important;position:fixed;bottom:0;left:0;right:0;\"\n",
      "  ></div>\n",
      "</div>\n",
      "<script async type=\"text/javascript\">\n",
      "  googletag.cmd.push(function() {\n",
      "    googletag.pubads().addEventListener('slotRenderEnded', function(event){\n",
      "      if(event.slot.getSlotElementId() === 'snhb-radiopaedia_footer_desktop-0') {\n",
      "        var elementId = event.slot.getSlotElementId();\n",
      "        if (document.getElementById(elementId).offsetHeight > 0 && event.isEmpty === false) {\n",
      "          var stickyAdHeight = document.getElementById(elementId).offsetHeight;\n",
      "          var wrapperHeight = stickyAdHeight + 25;\n",
      "          var innerWrapperHeight = stickyAdHeight + 3;\n",
      "\n",
      "          document.getElementById(\"floorad-wrapper\").setAttribute(\"style\", \"text-align:center;z-index:9999;position:fixed;left:0;right:0;display:block;bottom:0;height:\"+wrapperHeight+\"px;width:100%\");\n",
      "          document.getElementById(\"close-floorad-btn\").setAttribute(\"style\", \"display:inline-block;height:18px;;padding:2px;background:#fff;cursor:pointer;float:right;box-shadow: 0 0 4px rgba(0, 0, 0, 0.8);border-radius: 8px 0 0 0;\");\n",
      "          document.getElementById(\"sticky-ad-background\").setAttribute(\"style\", \"background:#2a292a;height:\"+innerWrapperHeight+\"px;width:100%;bottom:0;position:fixed;box-shadow: 0 0 4px rgba(0, 0, 0, 0.8);\");\n",
      "\n",
      "          var footer = document.querySelector('.navbar-fixed-bottom')\n",
      "          footer.style.bottom = \"\" + stickyAdHeight + \"px\";\n",
      "\n",
      "          document.getElementById('close-floorad-btn').onclick = function(){\n",
      "              document.getElementById(\"floorad-wrapper\").setAttribute(\"style\", \"display:none;\");\n",
      "              document.getElementById(\"close-floorad-btn\").setAttribute(\"style\", \"display:none;\");\n",
      "              document.getElementById(\"sticky-ad-background\").setAttribute(\"style\", \"display:none;\");\n",
      "              footer.style.bottom = \"\";\n",
      "          };\n",
      "         } else {\n",
      "          document.getElementById(\"floorad-wrapper\").setAttribute(\"style\", \"display:none;\");\n",
      "          document.getElementById(\"close-floorad-btn\").setAttribute(\"style\", \"display:none;\");\n",
      "          document.getElementById(\"sticky-ad-background\").setAttribute(\"style\", \"display:none;\");\n",
      "         }\n",
      "      }\n",
      "    });\n",
      "  });\n",
      "</script>\n",
      "\n",
      "\n",
      "</body>\n",
      "</html>\n",
      "\n"
     ]
    }
   ],
   "source": [
    "import requests\n",
    "URL='https://radiopaedia.org//encyclopaedia/all/all?lang=us'  #https://radiopaedia.org/encyclopaedia/all/\n",
    "req = requests.get(URL)\n",
    "\n",
    "print(req.text)"
   ]
  },
  {
   "cell_type": "markdown",
   "metadata": {},
   "source": [
    "As you can see it appears. Although the code is very long there is a structure that organizes how it appears in a browser. The web has come a long way since it's old days back when I would write web pages by hand. "
   ]
  },
  {
   "cell_type": "markdown",
   "metadata": {},
   "source": [
    "Imagine I just needed to check for a word...easy task. Use the re library. In the specific case let's look for anything that starts with antenatal:"
   ]
  },
  {
   "cell_type": "code",
   "execution_count": 8,
   "metadata": {},
   "outputs": [
    {
     "name": "stdout",
     "output_type": "stream",
     "text": [
      "The number of times a word that start with antenatal appears are: 4\n",
      "The antenatal appears as : ['antenatal-scan', 'antenatal scan', 'antenatal ', 'antenatal screening']\n"
     ]
    }
   ],
   "source": [
    "# example with antenatal as word\n",
    "req_text = requests.get(URL).text\n",
    "found_FOAM = re.findall('antenatal[\\w \\- \\%]*',req_text)\n",
    "print(\"The number of times a word that start with antenatal appears are:\",len(found_FOAM))\n",
    "print(\"The antenatal appears as :\",found_FOAM)"
   ]
  },
  {
   "cell_type": "markdown",
   "metadata": {},
   "source": [
    "OK, so pulling words off one by one is laborious. We can use a structure to find things. This is what BeautifulSoup is all about."
   ]
  },
  {
   "cell_type": "markdown",
   "metadata": {},
   "source": [
    "<a id='the_destination2'></a>\n",
    "## Step 2: Scraping\n",
    "\n"
   ]
  },
  {
   "cell_type": "markdown",
   "metadata": {},
   "source": [
    "Time to get information out of the web, or at least a page in an orderly fashion. This is where we use beautifull soup. I'll just scrape a random div tag to show my point. "
   ]
  },
  {
   "cell_type": "code",
   "execution_count": 69,
   "metadata": {},
   "outputs": [
    {
     "name": "stdout",
     "output_type": "stream",
     "text": [
      "                                    pathology_details\n",
      "88  \\nA mnemonic used for abnormal collection of b...\n",
      "89  \\nAbnormal ductus venosus waveforms can arise ...\n",
      "90  \\nAbnormal intra-abdominal gas is an important...\n",
      "91  \\nAn eccentrically-located gestational sac tow...\n",
      "92  \\nAn abnormally low sac position can result fr...\n"
     ]
    }
   ],
   "source": [
    "soup = BeautifulSoup(req.text, 'lxml')\n",
    "path_info = []\n",
    "for row in soup.find_all('div', attrs ={'class':'search-result-body'}):\n",
    "    path_info.append(row.text)\n",
    "    \n",
    "scraped_pathologies= pd.DataFrame( path_info, columns=['pathology_details']) # DataFrame with the data on product names and prices\n",
    "#products_data = products_data.reset_index()# name_products, price,\n",
    "\n",
    "print(scraped_pathologies.tail(5))   "
   ]
  },
  {
   "cell_type": "markdown",
   "metadata": {},
   "source": [
    "So we got stuff on the web, and organized it. We can put it into a csv for other or us to do analysis of."
   ]
  },
  {
   "cell_type": "code",
   "execution_count": 10,
   "metadata": {},
   "outputs": [],
   "source": [
    "scraped_pathologies.to_csv('scraped_pathologies.csv')"
   ]
  },
  {
   "cell_type": "markdown",
   "metadata": {},
   "source": [
    "Ok, but it stopped where the webpage stops...this is a synamic list and we would probably want to scrape more. We can. "
   ]
  },
  {
   "cell_type": "markdown",
   "metadata": {},
   "source": [
    "<a id='the_destination3'></a>\n",
    "## Step 3: So what anyways?"
   ]
  },
  {
   "cell_type": "markdown",
   "metadata": {},
   "source": [
    "<div class=\"alert alert-warning\">There is a LOT of data online, but not neccesarily organized in a convenient way. Lets say I want to buy filament for my 3D printer. I go to a website that has 29 types listed. I want the best one for my machine at the best price with a few other conditions. I can read all 29 entries, or I can scrape the data, throw it in a csv and do some anaytics. Big companies use these technologies of scraping and NLP to pull data from forums and social media for thier own nefarious purposes. But it's notable right now that social media may help us fight infectious disease or in the worst cases spread disiniformation. COVID spawned an 'infodemic' of nonsense anti-information. It is in everyone's interest to understand how this happened so we can stop it next time. And really, next time is already here. Every day people spread disinformation about health and medicine. Could webscraping help us stop it? It dould provide raw data to understand the problem. </div>"
   ]
  },
  {
   "cell_type": "markdown",
   "metadata": {},
   "source": [
    "<a id='the_destination4'></a>\n",
    "## Step 4: Multiple page scraping"
   ]
  },
  {
   "cell_type": "code",
   "execution_count": 52,
   "metadata": {},
   "outputs": [
    {
     "name": "stdout",
     "output_type": "stream",
     "text": [
      "                                   pathology_details\n",
      "0  \\n11-13 week antenatal (nuchal translucency) s...\n",
      "1  \\n≤11 ribs is associated with a number of cong...\n",
      "2  \\nThe 1-2-3 rule is a simple aide-mémoire desc...\n",
      "3  \\n14-3-3 proteins are found in the cerebrospin...\n",
      "4  \\nComparing 1.5 T vs 3.0 T  (1.5 tesla vs 3.0 ...\n",
      "5  \\n18q-deletion syndrome is a rare chromosomal ...\n"
     ]
    }
   ],
   "source": [
    "pages = range(1,158,1)\n",
    "path_info_all= []\n",
    "for page in pages:\n",
    "\n",
    "    page = requests.get(\"https://radiopaedia.org/encyclopaedia/all/all?lang=us&page=\" + str(page))\n",
    "\n",
    "    soup = BeautifulSoup(page.text, 'html.parser')\n",
    "\n",
    "    \n",
    " \n",
    "\n",
    "    for row in soup.find_all('div', attrs ={'class':'search-result-body'}):\n",
    "        path_info_all.append(row.text)\n",
    "    \n",
    "        scraped_all_pathologies= pd.DataFrame( path_info_all, columns=['pathology_details']) # DataFrame with the data on product names and prices\n",
    "#products_data = products_data.reset_index()# name_products, price,\n",
    "\n",
    "print(scraped_all_pathologies.head(6))   "
   ]
  },
  {
   "cell_type": "code",
   "execution_count": 53,
   "metadata": {},
   "outputs": [
    {
     "name": "stdout",
     "output_type": "stream",
     "text": [
      "                                       pathology_details\n",
      "14538  \\nThe zygomaticomaxillary suture is between th...\n",
      "14539  \\nThe zygomaticotemporal foramen is a small fo...\n",
      "14540  \\nThe zygomaticotemporal nerve is the larger o...\n",
      "14541  \\nThe zygomaticus major muscle is a member of ...\n",
      "14542  \\n\\nThe zygomaticus minor muscle is a member o...\n"
     ]
    }
   ],
   "source": [
    " print(scraped_all_pathologies.tail(5))   "
   ]
  },
  {
   "cell_type": "markdown",
   "metadata": {},
   "source": [
    "<a id='the_destination5'></a>\n",
    "## Step 5: Explore through NLP, stats and visualization"
   ]
  },
  {
   "cell_type": "code",
   "execution_count": 54,
   "metadata": {},
   "outputs": [],
   "source": [
    "scraped_all_pathologies.to_csv('scraped_all_pathologies.csv')"
   ]
  },
  {
   "cell_type": "code",
   "execution_count": 55,
   "metadata": {},
   "outputs": [
    {
     "data": {
      "text/markdown": [
       "**Tweet info(original csv file)**"
      ],
      "text/plain": [
       "<IPython.core.display.Markdown object>"
      ]
     },
     "metadata": {},
     "output_type": "display_data"
    },
    {
     "data": {
      "text/html": [
       "<style  type=\"text/css\" >\n",
       "    #T_9dd208b8_1284_11eb_bb86_48a472734820row0_col0 {\n",
       "            background-color:  pink;\n",
       "            color:  blue;\n",
       "            border-color:  white;\n",
       "        }    #T_9dd208b8_1284_11eb_bb86_48a472734820row0_col1 {\n",
       "            background-color:  pink;\n",
       "            color:  blue;\n",
       "            border-color:  white;\n",
       "        }    #T_9dd208b8_1284_11eb_bb86_48a472734820row1_col0 {\n",
       "            background-color:  pink;\n",
       "            color:  blue;\n",
       "            border-color:  white;\n",
       "        }    #T_9dd208b8_1284_11eb_bb86_48a472734820row1_col1 {\n",
       "            background-color:  pink;\n",
       "            color:  blue;\n",
       "            border-color:  white;\n",
       "        }    #T_9dd208b8_1284_11eb_bb86_48a472734820row2_col0 {\n",
       "            background-color:  pink;\n",
       "            color:  blue;\n",
       "            border-color:  white;\n",
       "        }    #T_9dd208b8_1284_11eb_bb86_48a472734820row2_col1 {\n",
       "            background-color:  pink;\n",
       "            color:  blue;\n",
       "            border-color:  white;\n",
       "        }    #T_9dd208b8_1284_11eb_bb86_48a472734820row3_col0 {\n",
       "            background-color:  pink;\n",
       "            color:  blue;\n",
       "            border-color:  white;\n",
       "        }    #T_9dd208b8_1284_11eb_bb86_48a472734820row3_col1 {\n",
       "            background-color:  pink;\n",
       "            color:  blue;\n",
       "            border-color:  white;\n",
       "        }    #T_9dd208b8_1284_11eb_bb86_48a472734820row4_col0 {\n",
       "            background-color:  pink;\n",
       "            color:  blue;\n",
       "            border-color:  white;\n",
       "        }    #T_9dd208b8_1284_11eb_bb86_48a472734820row4_col1 {\n",
       "            background-color:  pink;\n",
       "            color:  blue;\n",
       "            border-color:  white;\n",
       "        }</style>  \n",
       "<table id=\"T_9dd208b8_1284_11eb_bb86_48a472734820\" > \n",
       "<thead>    <tr> \n",
       "        <th class=\"blank level0\" ></th> \n",
       "        <th class=\"col_heading level0 col0\" >Unnamed: 0</th> \n",
       "        <th class=\"col_heading level0 col1\" >pathology_details</th> \n",
       "    </tr></thead> \n",
       "<tbody>    <tr> \n",
       "        <th id=\"T_9dd208b8_1284_11eb_bb86_48a472734820level0_row0\" class=\"row_heading level0 row0\" >14538</th> \n",
       "        <td id=\"T_9dd208b8_1284_11eb_bb86_48a472734820row0_col0\" class=\"data row0 col0\" >14538</td> \n",
       "        <td id=\"T_9dd208b8_1284_11eb_bb86_48a472734820row0_col1\" class=\"data row0 col1\" >\r\n",
       "The zygomaticomaxillary suture is between the zygomatic process of the maxilla and the maxillary process of the zygomatic bone. They are often involved in zygomaticomaxillary complex (ZMC) fractures.\r\n",
       "</td> \n",
       "    </tr>    <tr> \n",
       "        <th id=\"T_9dd208b8_1284_11eb_bb86_48a472734820level0_row1\" class=\"row_heading level0 row1\" >14539</th> \n",
       "        <td id=\"T_9dd208b8_1284_11eb_bb86_48a472734820row1_col0\" class=\"data row1 col0\" >14539</td> \n",
       "        <td id=\"T_9dd208b8_1284_11eb_bb86_48a472734820row1_col1\" class=\"data row1 col1\" >\r\n",
       "The zygomaticotemporal foramen is a small foramen in the anteromedial surface of the zygomatic bone that transmits the zygomaticotemporal nerve (a branch of the zygomatic nerve from the maxillary division of the trigeminal nerve) and zygomaticotemporal vessels.\r\n",
       "</td> \n",
       "    </tr>    <tr> \n",
       "        <th id=\"T_9dd208b8_1284_11eb_bb86_48a472734820level0_row2\" class=\"row_heading level0 row2\" >14540</th> \n",
       "        <td id=\"T_9dd208b8_1284_11eb_bb86_48a472734820row2_col0\" class=\"data row2 col0\" >14540</td> \n",
       "        <td id=\"T_9dd208b8_1284_11eb_bb86_48a472734820row2_col1\" class=\"data row2 col1\" >\r\n",
       "The zygomaticotemporal nerve is the larger of the two branches of the zygomatic nerve, from the maxillary division of the trigeminal nerve. It is primarily sensory but also relays parasympathetic fibers to the lacrimal nerve from the pterygopalatine ganglion which reach the lacrimal gland. Along...</td> \n",
       "    </tr>    <tr> \n",
       "        <th id=\"T_9dd208b8_1284_11eb_bb86_48a472734820level0_row3\" class=\"row_heading level0 row3\" >14541</th> \n",
       "        <td id=\"T_9dd208b8_1284_11eb_bb86_48a472734820row3_col0\" class=\"data row3 col0\" >14541</td> \n",
       "        <td id=\"T_9dd208b8_1284_11eb_bb86_48a472734820row3_col1\" class=\"data row3 col1\" >\r\n",
       "The zygomaticus major muscle is a member of the buccolabial muscle group of the upper lip1. It joins with the fibers of levator anguli oris, orbicularis oris and the more deeply placed muscular bands to move the side of the mouth upwards and sideways during facial movements such as laughing.\r\n",
       "\r\n",
       "Su...</td> \n",
       "    </tr>    <tr> \n",
       "        <th id=\"T_9dd208b8_1284_11eb_bb86_48a472734820level0_row4\" class=\"row_heading level0 row4\" >14542</th> \n",
       "        <td id=\"T_9dd208b8_1284_11eb_bb86_48a472734820row4_col0\" class=\"data row4 col0\" >14542</td> \n",
       "        <td id=\"T_9dd208b8_1284_11eb_bb86_48a472734820row4_col1\" class=\"data row4 col1\" >\r\n",
       "\r\n",
       "The zygomaticus minor muscle is a member of the buccolabial muscle group of the muscles of facial expression. Together with the levator labii superioris alaeque nasi and levator labii superioris muscles it is one of the main elevators of the lip, exposing the maxillary teeth 1. Along with its o...</td> \n",
       "    </tr></tbody> \n",
       "</table> "
      ],
      "text/plain": [
       "<pandas.io.formats.style.Styler at 0x1918f7e1390>"
      ]
     },
     "execution_count": 55,
     "metadata": {},
     "output_type": "execute_result"
    }
   ],
   "source": [
    "data_for_nlp= pd.read_csv('scraped_all_pathologies.csv')\n",
    "def printmd(string):\n",
    "    display(Markdown(string))\n",
    "    \n",
    "printmd('**Tweet info(original csv file)**')\n",
    "data_for_nlp.tail(5).style.set_properties(**{'background-color': 'pink',                                                   \n",
    "                                    'color': 'blue',                       \n",
    "                                    'border-color': 'white'})"
   ]
  },
  {
   "cell_type": "code",
   "execution_count": 56,
   "metadata": {},
   "outputs": [
    {
     "name": "stdout",
     "output_type": "stream",
     "text": [
      "This dataframe is 14543 rows long\n"
     ]
    }
   ],
   "source": [
    "print(\"This dataframe is\", len(data_for_nlp), \"rows long\")"
   ]
  },
  {
   "cell_type": "code",
   "execution_count": 57,
   "metadata": {},
   "outputs": [],
   "source": [
    "english_stemmer = SnowballStemmer('english') "
   ]
  },
  {
   "cell_type": "code",
   "execution_count": 58,
   "metadata": {},
   "outputs": [
    {
     "name": "stdout",
     "output_type": "stream",
     "text": [
      "['The', '5', 'Gauss', 'line', 'is', 'the', 'safety', 'line', 'drawn', 'around', 'the', 'perimeter', 'of', 'the', 'main', 'magnet', 'of', 'the', 'MR', 'scanner', ',', 'specifying', 'the', 'distance', 'at', 'which', 'the', 'stray', 'magnetic', 'field', 'is', 'equivalent', 'to', '5', 'Gauss', '(', '0.5', 'mT', ')', '.', '5', 'Gauss', 'and', 'below', 'are', 'considered', \"'safe\", \"'\", 'levels', 'of', 'static', 'magnetic', 'field', 'exposure', 'for', 'the', 'general', 'publ', '...']\n"
     ]
    }
   ],
   "source": [
    "text = data_for_nlp.pathology_details[20]\n",
    "\n",
    "words_in_sample = nltk.word_tokenize(text)\n",
    "print(words_in_sample) "
   ]
  },
  {
   "cell_type": "code",
   "execution_count": 59,
   "metadata": {},
   "outputs": [
    {
     "name": "stdout",
     "output_type": "stream",
     "text": [
      "                     words  count\n",
      "0                    11-13      2\n",
      "1                     week     33\n",
      "2                antenatal     32\n",
      "3                        (   9936\n",
      "4                   nuchal     14\n",
      "5             translucency      3\n",
      "6                        )   9381\n",
      "7                     scan     86\n",
      "8                       is  18588\n",
      "9               considered    534\n",
      "10                       a  15737\n",
      "11                 routine     53\n",
      "12           investigation     42\n",
      "13                 advised      3\n",
      "14                     for   3200\n",
      "15                     the  38151\n",
      "16                   fetal    389\n",
      "17              well-being      4\n",
      "18                      as   5204\n",
      "19                    well    272\n",
      "20                   early    192\n",
      "21               screening     50\n",
      "22                      in  10999\n",
      "23               pregnancy    246\n",
      "24                     see    165\n",
      "25                       .  23893\n",
      "26                      It   4636\n",
      "27                includes    167\n",
      "28                multiple    426\n",
      "29              components    121\n",
      "...                    ...    ...\n",
      "37101            zincalism      1\n",
      "37102            excreting      1\n",
      "37103             competes      1\n",
      "37104               Zinner      1\n",
      "37105                  ZES      2\n",
      "37106             Kleinart      1\n",
      "37107               Verdan      1\n",
      "37108           vertebrate      2\n",
      "37109              Viruses      1\n",
      "37110              bacteri      1\n",
      "37111                 Xbar      2\n",
      "37112                    σ      2\n",
      "37113       Zuelzer-Wilson      1\n",
      "37114          aganglionic      1\n",
      "37115               Zurich      1\n",
      "37116                  ZPS      2\n",
      "37117               Zygoma      1\n",
      "37118             Surfaces      1\n",
      "37119     zygomaticofacial      4\n",
      "37120  Zygomaticomaxillary      1\n",
      "37121                  ZMC      2\n",
      "37122             tetrapod      1\n",
      "37123            quadripod      1\n",
      "37124             trimalar      1\n",
      "37125               relays      1\n",
      "37126          zygomaticus      2\n",
      "37127          buccolabial      2\n",
      "37128                 lip1      1\n",
      "37129             sideways      1\n",
      "37130             laughing      1\n",
      "\n",
      "[37131 rows x 2 columns]\n"
     ]
    }
   ],
   "source": [
    "# word count will be an object created by calling constructor of class Counter\n",
    "word_count = Counter()\n",
    "for row in data_for_nlp[['pathology_details']].iterrows():\n",
    "    tokenized = nltk.word_tokenize(row[1][0])\n",
    "    word_count += Counter(tokenized)\n",
    "#print(word_count)\n",
    "word_count_dict = dict(word_count)\n",
    "word_count_df = pd.DataFrame.from_dict({\n",
    "    'words': list(word_count_dict.keys()), \n",
    "    'count': list(word_count_dict.values())\n",
    "})\n",
    "print(word_count_df)"
   ]
  },
  {
   "cell_type": "code",
   "execution_count": 60,
   "metadata": {},
   "outputs": [
    {
     "name": "stdout",
     "output_type": "stream",
     "text": [
      "            words  count\n",
      "15            the  38151\n",
      "45             of  28826\n",
      "25              .  23893\n",
      "50              ,  18779\n",
      "8              is  18588\n",
      "10              a  15737\n",
      "30            and  14251\n",
      "39            ...  13599\n",
      "102            to  11698\n",
      "22             in  10999\n",
      "3               (   9936\n",
      "6               )   9381\n",
      "71            The   8046\n",
      "38            are   6365\n",
      "52              :   5774\n",
      "18             as   5204\n",
      "43           with   5130\n",
      "200            or   4975\n",
      "26             It   4636\n",
      "344            an   3572\n",
      "324            be   3358\n",
      "303          that   3268\n",
      "14            for   3200\n",
      "405          from   3008\n",
      "206            by   2868\n",
      "365           can   2826\n",
      "33             on   2678\n",
      "283          also   2540\n",
      "319         which   2248\n",
      "210  Epidemiology   1895\n"
     ]
    }
   ],
   "source": [
    "words_by_number = word_count_df.sort_values('count', ascending = False)\n",
    "print(words_by_number.head(35))"
   ]
  },
  {
   "cell_type": "code",
   "execution_count": 61,
   "metadata": {},
   "outputs": [],
   "source": [
    "all_data_inside_row = ''\n",
    "for data_inside_row in data_for_nlp[['pathology_details']].iterrows():\n",
    "    redo_row = re.sub(r'[^\\w\\s]', '', data_inside_row[1][0])\n",
    "    all_data_inside_row += redo_row\n",
    "    \n",
    "\n",
    "#word_count1 = Counter()\n",
    "\n",
    "tokenized_new = nltk.word_tokenize(all_data_inside_row)"
   ]
  },
  {
   "cell_type": "code",
   "execution_count": 62,
   "metadata": {},
   "outputs": [
    {
     "data": {
      "image/png": "[encoded data removed]",
      "text/plain": [
       "<Figure size 936x936 with 1 Axes>"
      ]
     },
     "metadata": {
      "needs_background": "light"
     },
     "output_type": "display_data"
    }
   ],
   "source": [
    "\n",
    "\n",
    "def showWordCloud(data):\n",
    "    words = ' '.join(data)\n",
    "    cleaned_word = \" \".join([word for word in words.split()])\n",
    "    wordcloud = WordCloud(stopwords = STOPWORDS,\n",
    "                         background_color = 'black',\n",
    "                         width = 2500,\n",
    "                         height = 2500\n",
    "                         ).generate(cleaned_word)\n",
    "    plt.figure(1,figsize = (13,13))\n",
    "    plt.imshow(wordcloud)\n",
    "    plt.axis('off')\n",
    "    plt.show()\n",
    "    \n",
    "\n",
    "showWordCloud(tokenized_new)    "
   ]
  },
  {
   "cell_type": "markdown",
   "metadata": {},
   "source": [
    "Looks pretty but, very imprecise...Let's put all the text together, then count up words, the bar graph it in style."
   ]
  },
  {
   "cell_type": "code",
   "execution_count": 63,
   "metadata": {},
   "outputs": [],
   "source": [
    "\n",
    "def word_count(str):\n",
    "    counts = dict()\n",
    "    words_here = str.split()\n",
    "\n",
    "    for word in words_here:\n",
    "        if word in counts:\n",
    "            counts[word] += 1\n",
    "        else:\n",
    "            counts[word] = 1\n",
    "\n",
    "    return counts\n",
    "punct_free =  word_count(all_data_inside_row)\n",
    "#print( word_count(all_data_inside_row))"
   ]
  },
  {
   "cell_type": "markdown",
   "metadata": {},
   "source": [
    "We can isolate the top words by using head if we put the list in reverse ascending order by value of count."
   ]
  },
  {
   "cell_type": "code",
   "execution_count": 73,
   "metadata": {},
   "outputs": [],
   "source": [
    "word_count_dict_no_punct = dict(punct_free)\n",
    "word_count_df_no_punct = pd.DataFrame.from_dict({\n",
    "    'words': list(word_count_dict_no_punct.keys()), \n",
    "    'count': list(word_count_dict_no_punct.values())\n",
    "})\n",
    "\n",
    "\n",
    "sorted = word_count_df_no_punct.sort_values('count', ascending= False)\n",
    "top_sorted= sorted.head(50)\n"
   ]
  },
  {
   "cell_type": "code",
   "execution_count": 75,
   "metadata": {},
   "outputs": [
    {
     "data": {
      "application/vnd.plotly.v1+json": {
       "config": {
        "linkText": "Export to plot.ly",
        "plotlyServerURL": "https://plot.ly",
        "showLink": false
       },
       "data": [
        {
         "type": "bar",
         "x": [
          "the",
          "of",
          "is",
          "a",
          "and",
          "to",
          "in",
          "The",
          "are",
          "as",
          "with",
          "or",
          "It",
          "an",
          "be",
          "that",
          "for",
          "from",
          "by",
          "can",
          "on",
          "also",
          "which",
          "Epidemiology",
          "most",
          "common",
          "1",
          "known",
          "syndrome",
          "may",
          "refers",
          "rare",
          "one",
          "disease",
          "it",
          "used",
          "sign",
          "at",
          "artery",
          "They",
          "usually",
          "A",
          "seen",
          "has",
          "This",
          "anterior",
          "Pathology",
          "type",
          "bone",
          "imaging"
         ],
         "y": [
          38153,
          28826,
          18587,
          15737,
          14251,
          11698,
          10998,
          8047,
          6365,
          5204,
          5130,
          4977,
          4634,
          3573,
          3358,
          3267,
          3201,
          3008,
          2868,
          2791,
          2678,
          2540,
          2248,
          1895,
          1883,
          1829,
          1802,
          1779,
          1605,
          1604,
          1531,
          1521,
          1500,
          1499,
          1475,
          1412,
          1391,
          1338,
          1326,
          1304,
          1276,
          1249,
          1229,
          1223,
          1205,
          1120,
          1118,
          1097,
          1080,
          1068
         ]
        }
       ],
       "layout": {
        "template": {
         "data": {
          "bar": [
           {
            "error_x": {
             "color": "#2a3f5f"
            },
            "error_y": {
             "color": "#2a3f5f"
            },
            "marker": {
             "line": {
              "color": "#E5ECF6",
              "width": 0.5
             }
            },
            "type": "bar"
           }
          ],
          "barpolar": [
           {
            "marker": {
             "line": {
              "color": "#E5ECF6",
              "width": 0.5
             }
            },
            "type": "barpolar"
           }
          ],
          "carpet": [
           {
            "aaxis": {
             "endlinecolor": "#2a3f5f",
             "gridcolor": "white",
             "linecolor": "white",
             "minorgridcolor": "white",
             "startlinecolor": "#2a3f5f"
            },
            "baxis": {
             "endlinecolor": "#2a3f5f",
             "gridcolor": "white",
             "linecolor": "white",
             "minorgridcolor": "white",
             "startlinecolor": "#2a3f5f"
            },
            "type": "carpet"
           }
          ],
          "choropleth": [
           {
            "colorbar": {
             "outlinewidth": 0,
             "ticks": ""
            },
            "type": "choropleth"
           }
          ],
          "contour": [
           {
            "colorbar": {
             "outlinewidth": 0,
             "ticks": ""
            },
            "colorscale": [
             [
              0,
              "#0d0887"
             ],
             [
              0.1111111111111111,
              "#46039f"
             ],
             [
              0.2222222222222222,
              "#7201a8"
             ],
             [
              0.3333333333333333,
              "#9c179e"
             ],
             [
              0.4444444444444444,
              "#bd3786"
             ],
             [
              0.5555555555555556,
              "#d8576b"
             ],
             [
              0.6666666666666666,
              "#ed7953"
             ],
             [
              0.7777777777777778,
              "#fb9f3a"
             ],
             [
              0.8888888888888888,
              "#fdca26"
             ],
             [
              1,
              "#f0f921"
             ]
            ],
            "type": "contour"
           }
          ],
          "contourcarpet": [
           {
            "colorbar": {
             "outlinewidth": 0,
             "ticks": ""
            },
            "type": "contourcarpet"
           }
          ],
          "heatmap": [
           {
            "colorbar": {
             "outlinewidth": 0,
             "ticks": ""
            },
            "colorscale": [
             [
              0,
              "#0d0887"
             ],
             [
              0.1111111111111111,
              "#46039f"
             ],
             [
              0.2222222222222222,
              "#7201a8"
             ],
             [
              0.3333333333333333,
              "#9c179e"
             ],
             [
              0.4444444444444444,
              "#bd3786"
             ],
             [
              0.5555555555555556,
              "#d8576b"
             ],
             [
              0.6666666666666666,
              "#ed7953"
             ],
             [
              0.7777777777777778,
              "#fb9f3a"
             ],
             [
              0.8888888888888888,
              "#fdca26"
             ],
             [
              1,
              "#f0f921"
             ]
            ],
            "type": "heatmap"
           }
          ],
          "heatmapgl": [
           {
            "colorbar": {
             "outlinewidth": 0,
             "ticks": ""
            },
            "colorscale": [
             [
              0,
              "#0d0887"
             ],
             [
              0.1111111111111111,
              "#46039f"
             ],
             [
              0.2222222222222222,
              "#7201a8"
             ],
             [
              0.3333333333333333,
              "#9c179e"
             ],
             [
              0.4444444444444444,
              "#bd3786"
             ],
             [
              0.5555555555555556,
              "#d8576b"
             ],
             [
              0.6666666666666666,
              "#ed7953"
             ],
             [
              0.7777777777777778,
              "#fb9f3a"
             ],
             [
              0.8888888888888888,
              "#fdca26"
             ],
             [
              1,
              "#f0f921"
             ]
            ],
            "type": "heatmapgl"
           }
          ],
          "histogram": [
           {
            "marker": {
             "colorbar": {
              "outlinewidth": 0,
              "ticks": ""
             }
            },
            "type": "histogram"
           }
          ],
          "histogram2d": [
           {
            "colorbar": {
             "outlinewidth": 0,
             "ticks": ""
            },
            "colorscale": [
             [
              0,
              "#0d0887"
             ],
             [
              0.1111111111111111,
              "#46039f"
             ],
             [
              0.2222222222222222,
              "#7201a8"
             ],
             [
              0.3333333333333333,
              "#9c179e"
             ],
             [
              0.4444444444444444,
              "#bd3786"
             ],
             [
              0.5555555555555556,
              "#d8576b"
             ],
             [
              0.6666666666666666,
              "#ed7953"
             ],
             [
              0.7777777777777778,
              "#fb9f3a"
             ],
             [
              0.8888888888888888,
              "#fdca26"
             ],
             [
              1,
              "#f0f921"
             ]
            ],
            "type": "histogram2d"
           }
          ],
          "histogram2dcontour": [
           {
            "colorbar": {
             "outlinewidth": 0,
             "ticks": ""
            },
            "colorscale": [
             [
              0,
              "#0d0887"
             ],
             [
              0.1111111111111111,
              "#46039f"
             ],
             [
              0.2222222222222222,
              "#7201a8"
             ],
             [
              0.3333333333333333,
              "#9c179e"
             ],
             [
              0.4444444444444444,
              "#bd3786"
             ],
             [
              0.5555555555555556,
              "#d8576b"
             ],
             [
              0.6666666666666666,
              "#ed7953"
             ],
             [
              0.7777777777777778,
              "#fb9f3a"
             ],
             [
              0.8888888888888888,
              "#fdca26"
             ],
             [
              1,
              "#f0f921"
             ]
            ],
            "type": "histogram2dcontour"
           }
          ],
          "mesh3d": [
           {
            "colorbar": {
             "outlinewidth": 0,
             "ticks": ""
            },
            "type": "mesh3d"
           }
          ],
          "parcoords": [
           {
            "line": {
             "colorbar": {
              "outlinewidth": 0,
              "ticks": ""
             }
            },
            "type": "parcoords"
           }
          ],
          "pie": [
           {
            "automargin": true,
            "type": "pie"
           }
          ],
          "scatter": [
           {
            "marker": {
             "colorbar": {
              "outlinewidth": 0,
              "ticks": ""
             }
            },
            "type": "scatter"
           }
          ],
          "scatter3d": [
           {
            "line": {
             "colorbar": {
              "outlinewidth": 0,
              "ticks": ""
             }
            },
            "marker": {
             "colorbar": {
              "outlinewidth": 0,
              "ticks": ""
             }
            },
            "type": "scatter3d"
           }
          ],
          "scattercarpet": [
           {
            "marker": {
             "colorbar": {
              "outlinewidth": 0,
              "ticks": ""
             }
            },
            "type": "scattercarpet"
           }
          ],
          "scattergeo": [
           {
            "marker": {
             "colorbar": {
              "outlinewidth": 0,
              "ticks": ""
             }
            },
            "type": "scattergeo"
           }
          ],
          "scattergl": [
           {
            "marker": {
             "colorbar": {
              "outlinewidth": 0,
              "ticks": ""
             }
            },
            "type": "scattergl"
           }
          ],
          "scattermapbox": [
           {
            "marker": {
             "colorbar": {
              "outlinewidth": 0,
              "ticks": ""
             }
            },
            "type": "scattermapbox"
           }
          ],
          "scatterpolar": [
           {
            "marker": {
             "colorbar": {
              "outlinewidth": 0,
              "ticks": ""
             }
            },
            "type": "scatterpolar"
           }
          ],
          "scatterpolargl": [
           {
            "marker": {
             "colorbar": {
              "outlinewidth": 0,
              "ticks": ""
             }
            },
            "type": "scatterpolargl"
           }
          ],
          "scatterternary": [
           {
            "marker": {
             "colorbar": {
              "outlinewidth": 0,
              "ticks": ""
             }
            },
            "type": "scatterternary"
           }
          ],
          "surface": [
           {
            "colorbar": {
             "outlinewidth": 0,
             "ticks": ""
            },
            "colorscale": [
             [
              0,
              "#0d0887"
             ],
             [
              0.1111111111111111,
              "#46039f"
             ],
             [
              0.2222222222222222,
              "#7201a8"
             ],
             [
              0.3333333333333333,
              "#9c179e"
             ],
             [
              0.4444444444444444,
              "#bd3786"
             ],
             [
              0.5555555555555556,
              "#d8576b"
             ],
             [
              0.6666666666666666,
              "#ed7953"
             ],
             [
              0.7777777777777778,
              "#fb9f3a"
             ],
             [
              0.8888888888888888,
              "#fdca26"
             ],
             [
              1,
              "#f0f921"
             ]
            ],
            "type": "surface"
           }
          ],
          "table": [
           {
            "cells": {
             "fill": {
              "color": "#EBF0F8"
             },
             "line": {
              "color": "white"
             }
            },
            "header": {
             "fill": {
              "color": "#C8D4E3"
             },
             "line": {
              "color": "white"
             }
            },
            "type": "table"
           }
          ]
         },
         "layout": {
          "annotationdefaults": {
           "arrowcolor": "#2a3f5f",
           "arrowhead": 0,
           "arrowwidth": 1
          },
          "coloraxis": {
           "colorbar": {
            "outlinewidth": 0,
            "ticks": ""
           }
          },
          "colorscale": {
           "diverging": [
            [
             0,
             "#8e0152"
            ],
            [
             0.1,
             "#c51b7d"
            ],
            [
             0.2,
             "#de77ae"
            ],
            [
             0.3,
             "#f1b6da"
            ],
            [
             0.4,
             "#fde0ef"
            ],
            [
             0.5,
             "#f7f7f7"
            ],
            [
             0.6,
             "#e6f5d0"
            ],
            [
             0.7,
             "#b8e186"
            ],
            [
             0.8,
             "#7fbc41"
            ],
            [
             0.9,
             "#4d9221"
            ],
            [
             1,
             "#276419"
            ]
           ],
           "sequential": [
            [
             0,
             "#0d0887"
            ],
            [
             0.1111111111111111,
             "#46039f"
            ],
            [
             0.2222222222222222,
             "#7201a8"
            ],
            [
             0.3333333333333333,
             "#9c179e"
            ],
            [
             0.4444444444444444,
             "#bd3786"
            ],
            [
             0.5555555555555556,
             "#d8576b"
            ],
            [
             0.6666666666666666,
             "#ed7953"
            ],
            [
             0.7777777777777778,
             "#fb9f3a"
            ],
            [
             0.8888888888888888,
             "#fdca26"
            ],
            [
             1,
             "#f0f921"
            ]
           ],
           "sequentialminus": [
            [
             0,
             "#0d0887"
            ],
            [
             0.1111111111111111,
             "#46039f"
            ],
            [
             0.2222222222222222,
             "#7201a8"
            ],
            [
             0.3333333333333333,
             "#9c179e"
            ],
            [
             0.4444444444444444,
             "#bd3786"
            ],
            [
             0.5555555555555556,
             "#d8576b"
            ],
            [
             0.6666666666666666,
             "#ed7953"
            ],
            [
             0.7777777777777778,
             "#fb9f3a"
            ],
            [
             0.8888888888888888,
             "#fdca26"
            ],
            [
             1,
             "#f0f921"
            ]
           ]
          },
          "colorway": [
           "#636efa",
           "#EF553B",
           "#00cc96",
           "#ab63fa",
           "#FFA15A",
           "#19d3f3",
           "#FF6692",
           "#B6E880",
           "#FF97FF",
           "#FECB52"
          ],
          "font": {
           "color": "#2a3f5f"
          },
          "geo": {
           "bgcolor": "white",
           "lakecolor": "white",
           "landcolor": "#E5ECF6",
           "showlakes": true,
           "showland": true,
           "subunitcolor": "white"
          },
          "hoverlabel": {
           "align": "left"
          },
          "hovermode": "closest",
          "mapbox": {
           "style": "light"
          },
          "paper_bgcolor": "white",
          "plot_bgcolor": "#E5ECF6",
          "polar": {
           "angularaxis": {
            "gridcolor": "white",
            "linecolor": "white",
            "ticks": ""
           },
           "bgcolor": "#E5ECF6",
           "radialaxis": {
            "gridcolor": "white",
            "linecolor": "white",
            "ticks": ""
           }
          },
          "scene": {
           "xaxis": {
            "backgroundcolor": "#E5ECF6",
            "gridcolor": "white",
            "gridwidth": 2,
            "linecolor": "white",
            "showbackground": true,
            "ticks": "",
            "zerolinecolor": "white"
           },
           "yaxis": {
            "backgroundcolor": "#E5ECF6",
            "gridcolor": "white",
            "gridwidth": 2,
            "linecolor": "white",
            "showbackground": true,
            "ticks": "",
            "zerolinecolor": "white"
           },
           "zaxis": {
            "backgroundcolor": "#E5ECF6",
            "gridcolor": "white",
            "gridwidth": 2,
            "linecolor": "white",
            "showbackground": true,
            "ticks": "",
            "zerolinecolor": "white"
           }
          },
          "shapedefaults": {
           "line": {
            "color": "#2a3f5f"
           }
          },
          "ternary": {
           "aaxis": {
            "gridcolor": "white",
            "linecolor": "white",
            "ticks": ""
           },
           "baxis": {
            "gridcolor": "white",
            "linecolor": "white",
            "ticks": ""
           },
           "bgcolor": "#E5ECF6",
           "caxis": {
            "gridcolor": "white",
            "linecolor": "white",
            "ticks": ""
           }
          },
          "title": {
           "x": 0.05
          },
          "xaxis": {
           "automargin": true,
           "gridcolor": "white",
           "linecolor": "white",
           "ticks": "",
           "title": {
            "standoff": 15
           },
           "zerolinecolor": "white",
           "zerolinewidth": 2
          },
          "yaxis": {
           "automargin": true,
           "gridcolor": "white",
           "linecolor": "white",
           "ticks": "",
           "title": {
            "standoff": 15
           },
           "zerolinecolor": "white",
           "zerolinewidth": 2
          }
         }
        },
        "title": {
         "text": "Common words in Radiopaedia Articles"
        },
        "yaxis": {
         "tickformat": ",",
         "title": {
          "text": "numbers"
         }
        }
       }
      },
      "text/html": [
       "<div>                            <div id=\"b56b5d22-1273-479e-bb26-c878d3784f3f\" class=\"plotly-graph-div\" style=\"height:525px; width:100%;\"></div>            <script type=\"text/javascript\">                require([\"plotly\"], function(Plotly) {                    window.PLOTLYENV=window.PLOTLYENV || {};                                    if (document.getElementById(\"b56b5d22-1273-479e-bb26-c878d3784f3f\")) {                    Plotly.newPlot(                        \"b56b5d22-1273-479e-bb26-c878d3784f3f\",                        [{\"type\": \"bar\", \"x\": [\"the\", \"of\", \"is\", \"a\", \"and\", \"to\", \"in\", \"The\", \"are\", \"as\", \"with\", \"or\", \"It\", \"an\", \"be\", \"that\", \"for\", \"from\", \"by\", \"can\", \"on\", \"also\", \"which\", \"Epidemiology\", \"most\", \"common\", \"1\", \"known\", \"syndrome\", \"may\", \"refers\", \"rare\", \"one\", \"disease\", \"it\", \"used\", \"sign\", \"at\", \"artery\", \"They\", \"usually\", \"A\", \"seen\", \"has\", \"This\", \"anterior\", \"Pathology\", \"type\", \"bone\", \"imaging\"], \"y\": [38153, 28826, 18587, 15737, 14251, 11698, 10998, 8047, 6365, 5204, 5130, 4977, 4634, 3573, 3358, 3267, 3201, 3008, 2868, 2791, 2678, 2540, 2248, 1895, 1883, 1829, 1802, 1779, 1605, 1604, 1531, 1521, 1500, 1499, 1475, 1412, 1391, 1338, 1326, 1304, 1276, 1249, 1229, 1223, 1205, 1120, 1118, 1097, 1080, 1068]}],                        {\"template\": {\"data\": {\"bar\": [{\"error_x\": {\"color\": \"#2a3f5f\"}, \"error_y\": {\"color\": \"#2a3f5f\"}, \"marker\": {\"line\": {\"color\": \"#E5ECF6\", \"width\": 0.5}}, \"type\": \"bar\"}], \"barpolar\": [{\"marker\": {\"line\": {\"color\": \"#E5ECF6\", \"width\": 0.5}}, \"type\": \"barpolar\"}], \"carpet\": [{\"aaxis\": {\"endlinecolor\": \"#2a3f5f\", \"gridcolor\": \"white\", \"linecolor\": \"white\", \"minorgridcolor\": \"white\", \"startlinecolor\": \"#2a3f5f\"}, \"baxis\": {\"endlinecolor\": \"#2a3f5f\", \"gridcolor\": \"white\", \"linecolor\": \"white\", \"minorgridcolor\": \"white\", \"startlinecolor\": \"#2a3f5f\"}, \"type\": \"carpet\"}], \"choropleth\": [{\"colorbar\": {\"outlinewidth\": 0, \"ticks\": \"\"}, \"type\": \"choropleth\"}], \"contour\": [{\"colorbar\": {\"outlinewidth\": 0, \"ticks\": \"\"}, \"colorscale\": [[0.0, \"#0d0887\"], [0.1111111111111111, \"#46039f\"], [0.2222222222222222, \"#7201a8\"], [0.3333333333333333, \"#9c179e\"], [0.4444444444444444, \"#bd3786\"], [0.5555555555555556, \"#d8576b\"], [0.6666666666666666, \"#ed7953\"], [0.7777777777777778, \"#fb9f3a\"], [0.8888888888888888, \"#fdca26\"], [1.0, \"#f0f921\"]], \"type\": \"contour\"}], \"contourcarpet\": [{\"colorbar\": {\"outlinewidth\": 0, \"ticks\": \"\"}, \"type\": \"contourcarpet\"}], \"heatmap\": [{\"colorbar\": {\"outlinewidth\": 0, \"ticks\": \"\"}, \"colorscale\": [[0.0, \"#0d0887\"], [0.1111111111111111, \"#46039f\"], [0.2222222222222222, \"#7201a8\"], [0.3333333333333333, \"#9c179e\"], [0.4444444444444444, \"#bd3786\"], [0.5555555555555556, \"#d8576b\"], [0.6666666666666666, \"#ed7953\"], [0.7777777777777778, \"#fb9f3a\"], [0.8888888888888888, \"#fdca26\"], [1.0, \"#f0f921\"]], \"type\": \"heatmap\"}], \"heatmapgl\": [{\"colorbar\": {\"outlinewidth\": 0, \"ticks\": \"\"}, \"colorscale\": [[0.0, \"#0d0887\"], [0.1111111111111111, \"#46039f\"], [0.2222222222222222, \"#7201a8\"], [0.3333333333333333, \"#9c179e\"], [0.4444444444444444, \"#bd3786\"], [0.5555555555555556, \"#d8576b\"], [0.6666666666666666, \"#ed7953\"], [0.7777777777777778, \"#fb9f3a\"], [0.8888888888888888, \"#fdca26\"], [1.0, \"#f0f921\"]], \"type\": \"heatmapgl\"}], \"histogram\": [{\"marker\": {\"colorbar\": {\"outlinewidth\": 0, \"ticks\": \"\"}}, \"type\": \"histogram\"}], \"histogram2d\": [{\"colorbar\": {\"outlinewidth\": 0, \"ticks\": \"\"}, \"colorscale\": [[0.0, \"#0d0887\"], [0.1111111111111111, \"#46039f\"], [0.2222222222222222, \"#7201a8\"], [0.3333333333333333, \"#9c179e\"], [0.4444444444444444, \"#bd3786\"], [0.5555555555555556, \"#d8576b\"], [0.6666666666666666, \"#ed7953\"], [0.7777777777777778, \"#fb9f3a\"], [0.8888888888888888, \"#fdca26\"], [1.0, \"#f0f921\"]], \"type\": \"histogram2d\"}], \"histogram2dcontour\": [{\"colorbar\": {\"outlinewidth\": 0, \"ticks\": \"\"}, \"colorscale\": [[0.0, \"#0d0887\"], [0.1111111111111111, \"#46039f\"], [0.2222222222222222, \"#7201a8\"], [0.3333333333333333, \"#9c179e\"], [0.4444444444444444, \"#bd3786\"], [0.5555555555555556, \"#d8576b\"], [0.6666666666666666, \"#ed7953\"], [0.7777777777777778, \"#fb9f3a\"], [0.8888888888888888, \"#fdca26\"], [1.0, \"#f0f921\"]], \"type\": \"histogram2dcontour\"}], \"mesh3d\": [{\"colorbar\": {\"outlinewidth\": 0, \"ticks\": \"\"}, \"type\": \"mesh3d\"}], \"parcoords\": [{\"line\": {\"colorbar\": {\"outlinewidth\": 0, \"ticks\": \"\"}}, \"type\": \"parcoords\"}], \"pie\": [{\"automargin\": true, \"type\": \"pie\"}], \"scatter\": [{\"marker\": {\"colorbar\": {\"outlinewidth\": 0, \"ticks\": \"\"}}, \"type\": \"scatter\"}], \"scatter3d\": [{\"line\": {\"colorbar\": {\"outlinewidth\": 0, \"ticks\": \"\"}}, \"marker\": {\"colorbar\": {\"outlinewidth\": 0, \"ticks\": \"\"}}, \"type\": \"scatter3d\"}], \"scattercarpet\": [{\"marker\": {\"colorbar\": {\"outlinewidth\": 0, \"ticks\": \"\"}}, \"type\": \"scattercarpet\"}], \"scattergeo\": [{\"marker\": {\"colorbar\": {\"outlinewidth\": 0, \"ticks\": \"\"}}, \"type\": \"scattergeo\"}], \"scattergl\": [{\"marker\": {\"colorbar\": {\"outlinewidth\": 0, \"ticks\": \"\"}}, \"type\": \"scattergl\"}], \"scattermapbox\": [{\"marker\": {\"colorbar\": {\"outlinewidth\": 0, \"ticks\": \"\"}}, \"type\": \"scattermapbox\"}], \"scatterpolar\": [{\"marker\": {\"colorbar\": {\"outlinewidth\": 0, \"ticks\": \"\"}}, \"type\": \"scatterpolar\"}], \"scatterpolargl\": [{\"marker\": {\"colorbar\": {\"outlinewidth\": 0, \"ticks\": \"\"}}, \"type\": \"scatterpolargl\"}], \"scatterternary\": [{\"marker\": {\"colorbar\": {\"outlinewidth\": 0, \"ticks\": \"\"}}, \"type\": \"scatterternary\"}], \"surface\": [{\"colorbar\": {\"outlinewidth\": 0, \"ticks\": \"\"}, \"colorscale\": [[0.0, \"#0d0887\"], [0.1111111111111111, \"#46039f\"], [0.2222222222222222, \"#7201a8\"], [0.3333333333333333, \"#9c179e\"], [0.4444444444444444, \"#bd3786\"], [0.5555555555555556, \"#d8576b\"], [0.6666666666666666, \"#ed7953\"], [0.7777777777777778, \"#fb9f3a\"], [0.8888888888888888, \"#fdca26\"], [1.0, \"#f0f921\"]], \"type\": \"surface\"}], \"table\": [{\"cells\": {\"fill\": {\"color\": \"#EBF0F8\"}, \"line\": {\"color\": \"white\"}}, \"header\": {\"fill\": {\"color\": \"#C8D4E3\"}, \"line\": {\"color\": \"white\"}}, \"type\": \"table\"}]}, \"layout\": {\"annotationdefaults\": {\"arrowcolor\": \"#2a3f5f\", \"arrowhead\": 0, \"arrowwidth\": 1}, \"coloraxis\": {\"colorbar\": {\"outlinewidth\": 0, \"ticks\": \"\"}}, \"colorscale\": {\"diverging\": [[0, \"#8e0152\"], [0.1, \"#c51b7d\"], [0.2, \"#de77ae\"], [0.3, \"#f1b6da\"], [0.4, \"#fde0ef\"], [0.5, \"#f7f7f7\"], [0.6, \"#e6f5d0\"], [0.7, \"#b8e186\"], [0.8, \"#7fbc41\"], [0.9, \"#4d9221\"], [1, \"#276419\"]], \"sequential\": [[0.0, \"#0d0887\"], [0.1111111111111111, \"#46039f\"], [0.2222222222222222, \"#7201a8\"], [0.3333333333333333, \"#9c179e\"], [0.4444444444444444, \"#bd3786\"], [0.5555555555555556, \"#d8576b\"], [0.6666666666666666, \"#ed7953\"], [0.7777777777777778, \"#fb9f3a\"], [0.8888888888888888, \"#fdca26\"], [1.0, \"#f0f921\"]], \"sequentialminus\": [[0.0, \"#0d0887\"], [0.1111111111111111, \"#46039f\"], [0.2222222222222222, \"#7201a8\"], [0.3333333333333333, \"#9c179e\"], [0.4444444444444444, \"#bd3786\"], [0.5555555555555556, \"#d8576b\"], [0.6666666666666666, \"#ed7953\"], [0.7777777777777778, \"#fb9f3a\"], [0.8888888888888888, \"#fdca26\"], [1.0, \"#f0f921\"]]}, \"colorway\": [\"#636efa\", \"#EF553B\", \"#00cc96\", \"#ab63fa\", \"#FFA15A\", \"#19d3f3\", \"#FF6692\", \"#B6E880\", \"#FF97FF\", \"#FECB52\"], \"font\": {\"color\": \"#2a3f5f\"}, \"geo\": {\"bgcolor\": \"white\", \"lakecolor\": \"white\", \"landcolor\": \"#E5ECF6\", \"showlakes\": true, \"showland\": true, \"subunitcolor\": \"white\"}, \"hoverlabel\": {\"align\": \"left\"}, \"hovermode\": \"closest\", \"mapbox\": {\"style\": \"light\"}, \"paper_bgcolor\": \"white\", \"plot_bgcolor\": \"#E5ECF6\", \"polar\": {\"angularaxis\": {\"gridcolor\": \"white\", \"linecolor\": \"white\", \"ticks\": \"\"}, \"bgcolor\": \"#E5ECF6\", \"radialaxis\": {\"gridcolor\": \"white\", \"linecolor\": \"white\", \"ticks\": \"\"}}, \"scene\": {\"xaxis\": {\"backgroundcolor\": \"#E5ECF6\", \"gridcolor\": \"white\", \"gridwidth\": 2, \"linecolor\": \"white\", \"showbackground\": true, \"ticks\": \"\", \"zerolinecolor\": \"white\"}, \"yaxis\": {\"backgroundcolor\": \"#E5ECF6\", \"gridcolor\": \"white\", \"gridwidth\": 2, \"linecolor\": \"white\", \"showbackground\": true, \"ticks\": \"\", \"zerolinecolor\": \"white\"}, \"zaxis\": {\"backgroundcolor\": \"#E5ECF6\", \"gridcolor\": \"white\", \"gridwidth\": 2, \"linecolor\": \"white\", \"showbackground\": true, \"ticks\": \"\", \"zerolinecolor\": \"white\"}}, \"shapedefaults\": {\"line\": {\"color\": \"#2a3f5f\"}}, \"ternary\": {\"aaxis\": {\"gridcolor\": \"white\", \"linecolor\": \"white\", \"ticks\": \"\"}, \"baxis\": {\"gridcolor\": \"white\", \"linecolor\": \"white\", \"ticks\": \"\"}, \"bgcolor\": \"#E5ECF6\", \"caxis\": {\"gridcolor\": \"white\", \"linecolor\": \"white\", \"ticks\": \"\"}}, \"title\": {\"x\": 0.05}, \"xaxis\": {\"automargin\": true, \"gridcolor\": \"white\", \"linecolor\": \"white\", \"ticks\": \"\", \"title\": {\"standoff\": 15}, \"zerolinecolor\": \"white\", \"zerolinewidth\": 2}, \"yaxis\": {\"automargin\": true, \"gridcolor\": \"white\", \"linecolor\": \"white\", \"ticks\": \"\", \"title\": {\"standoff\": 15}, \"zerolinecolor\": \"white\", \"zerolinewidth\": 2}}}, \"title\": {\"text\": \"Common words in Radiopaedia Articles\"}, \"yaxis\": {\"tickformat\": \",\", \"title\": {\"text\": \"numbers\"}}},                        {\"responsive\": true}                    ).then(function(){\n",
       "                            \n",
       "var gd = document.getElementById('b56b5d22-1273-479e-bb26-c878d3784f3f');\n",
       "var x = new MutationObserver(function (mutations, observer) {{\n",
       "        var display = window.getComputedStyle(gd).display;\n",
       "        if (!display || display === 'none') {{\n",
       "            console.log([gd, 'removed!']);\n",
       "            Plotly.purge(gd);\n",
       "            observer.disconnect();\n",
       "        }}\n",
       "}});\n",
       "\n",
       "// Listen for the removal of the full notebook cells\n",
       "var notebookContainer = gd.closest('#notebook-container');\n",
       "if (notebookContainer) {{\n",
       "    x.observe(notebookContainer, {childList: true});\n",
       "}}\n",
       "\n",
       "// Listen for the clearing of the current output cell\n",
       "var outputEl = gd.closest('.output');\n",
       "if (outputEl) {{\n",
       "    x.observe(outputEl, {childList: true});\n",
       "}}\n",
       "\n",
       "                        })                };                });            </script>        </div>"
      ]
     },
     "metadata": {},
     "output_type": "display_data"
    }
   ],
   "source": [
    "layout = dict(\n",
    "    title='Common words in Radiopaedia Articles',\n",
    "    yaxis=dict(\n",
    "        title='numbers',\n",
    "        tickformat=',',\n",
    "    )\n",
    ")\n",
    "\n",
    "fig = go.Figure(layout=layout)\n",
    "fig.add_trace(go.Bar(\n",
    "    x=top_sorted['words'],\n",
    "    y=top_sorted['count']\n",
    "))\n",
    "\n",
    "iplot(fig)"
   ]
  },
  {
   "cell_type": "code",
   "execution_count": 82,
   "metadata": {},
   "outputs": [],
   "source": [
    "refined_sorted= sorted[23:75]"
   ]
  },
  {
   "cell_type": "code",
   "execution_count": 86,
   "metadata": {},
   "outputs": [
    {
     "data": {
      "application/vnd.plotly.v1+json": {
       "config": {
        "linkText": "Export to plot.ly",
        "plotlyServerURL": "https://plot.ly",
        "showLink": false
       },
       "data": [
        {
         "type": "bar",
         "x": [
          "Epidemiology",
          "most",
          "common",
          "1",
          "known",
          "syndrome",
          "may",
          "refers",
          "rare",
          "one",
          "disease",
          "it",
          "used",
          "sign",
          "at",
          "artery",
          "They",
          "usually",
          "A",
          "seen",
          "has",
          "This",
          "anterior",
          "Pathology",
          "type",
          "bone",
          "imaging",
          "presentation",
          "between",
          "tumors",
          "posterior",
          "into",
          "not",
          "Clinical",
          "patients",
          "lateral",
          "more",
          "but",
          "anatomy",
          "pulmonary",
          "nerve",
          "often",
          "other",
          "occur",
          "have",
          "commonly",
          "Gross",
          "term",
          "within",
          "two",
          "part",
          "due"
         ],
         "y": [
          1895,
          1883,
          1829,
          1802,
          1779,
          1605,
          1604,
          1531,
          1521,
          1500,
          1499,
          1475,
          1412,
          1391,
          1338,
          1326,
          1304,
          1276,
          1249,
          1229,
          1223,
          1205,
          1120,
          1118,
          1097,
          1080,
          1068,
          1058,
          1056,
          1030,
          1027,
          1018,
          1012,
          999,
          982,
          967,
          963,
          955,
          939,
          935,
          934,
          905,
          905,
          887,
          885,
          860,
          838,
          838,
          820,
          813,
          783,
          747
         ]
        }
       ],
       "layout": {
        "template": {
         "data": {
          "bar": [
           {
            "error_x": {
             "color": "#2a3f5f"
            },
            "error_y": {
             "color": "#2a3f5f"
            },
            "marker": {
             "line": {
              "color": "#E5ECF6",
              "width": 0.5
             }
            },
            "type": "bar"
           }
          ],
          "barpolar": [
           {
            "marker": {
             "line": {
              "color": "#E5ECF6",
              "width": 0.5
             }
            },
            "type": "barpolar"
           }
          ],
          "carpet": [
           {
            "aaxis": {
             "endlinecolor": "#2a3f5f",
             "gridcolor": "white",
             "linecolor": "white",
             "minorgridcolor": "white",
             "startlinecolor": "#2a3f5f"
            },
            "baxis": {
             "endlinecolor": "#2a3f5f",
             "gridcolor": "white",
             "linecolor": "white",
             "minorgridcolor": "white",
             "startlinecolor": "#2a3f5f"
            },
            "type": "carpet"
           }
          ],
          "choropleth": [
           {
            "colorbar": {
             "outlinewidth": 0,
             "ticks": ""
            },
            "type": "choropleth"
           }
          ],
          "contour": [
           {
            "colorbar": {
             "outlinewidth": 0,
             "ticks": ""
            },
            "colorscale": [
             [
              0,
              "#0d0887"
             ],
             [
              0.1111111111111111,
              "#46039f"
             ],
             [
              0.2222222222222222,
              "#7201a8"
             ],
             [
              0.3333333333333333,
              "#9c179e"
             ],
             [
              0.4444444444444444,
              "#bd3786"
             ],
             [
              0.5555555555555556,
              "#d8576b"
             ],
             [
              0.6666666666666666,
              "#ed7953"
             ],
             [
              0.7777777777777778,
              "#fb9f3a"
             ],
             [
              0.8888888888888888,
              "#fdca26"
             ],
             [
              1,
              "#f0f921"
             ]
            ],
            "type": "contour"
           }
          ],
          "contourcarpet": [
           {
            "colorbar": {
             "outlinewidth": 0,
             "ticks": ""
            },
            "type": "contourcarpet"
           }
          ],
          "heatmap": [
           {
            "colorbar": {
             "outlinewidth": 0,
             "ticks": ""
            },
            "colorscale": [
             [
              0,
              "#0d0887"
             ],
             [
              0.1111111111111111,
              "#46039f"
             ],
             [
              0.2222222222222222,
              "#7201a8"
             ],
             [
              0.3333333333333333,
              "#9c179e"
             ],
             [
              0.4444444444444444,
              "#bd3786"
             ],
             [
              0.5555555555555556,
              "#d8576b"
             ],
             [
              0.6666666666666666,
              "#ed7953"
             ],
             [
              0.7777777777777778,
              "#fb9f3a"
             ],
             [
              0.8888888888888888,
              "#fdca26"
             ],
             [
              1,
              "#f0f921"
             ]
            ],
            "type": "heatmap"
           }
          ],
          "heatmapgl": [
           {
            "colorbar": {
             "outlinewidth": 0,
             "ticks": ""
            },
            "colorscale": [
             [
              0,
              "#0d0887"
             ],
             [
              0.1111111111111111,
              "#46039f"
             ],
             [
              0.2222222222222222,
              "#7201a8"
             ],
             [
              0.3333333333333333,
              "#9c179e"
             ],
             [
              0.4444444444444444,
              "#bd3786"
             ],
             [
              0.5555555555555556,
              "#d8576b"
             ],
             [
              0.6666666666666666,
              "#ed7953"
             ],
             [
              0.7777777777777778,
              "#fb9f3a"
             ],
             [
              0.8888888888888888,
              "#fdca26"
             ],
             [
              1,
              "#f0f921"
             ]
            ],
            "type": "heatmapgl"
           }
          ],
          "histogram": [
           {
            "marker": {
             "colorbar": {
              "outlinewidth": 0,
              "ticks": ""
             }
            },
            "type": "histogram"
           }
          ],
          "histogram2d": [
           {
            "colorbar": {
             "outlinewidth": 0,
             "ticks": ""
            },
            "colorscale": [
             [
              0,
              "#0d0887"
             ],
             [
              0.1111111111111111,
              "#46039f"
             ],
             [
              0.2222222222222222,
              "#7201a8"
             ],
             [
              0.3333333333333333,
              "#9c179e"
             ],
             [
              0.4444444444444444,
              "#bd3786"
             ],
             [
              0.5555555555555556,
              "#d8576b"
             ],
             [
              0.6666666666666666,
              "#ed7953"
             ],
             [
              0.7777777777777778,
              "#fb9f3a"
             ],
             [
              0.8888888888888888,
              "#fdca26"
             ],
             [
              1,
              "#f0f921"
             ]
            ],
            "type": "histogram2d"
           }
          ],
          "histogram2dcontour": [
           {
            "colorbar": {
             "outlinewidth": 0,
             "ticks": ""
            },
            "colorscale": [
             [
              0,
              "#0d0887"
             ],
             [
              0.1111111111111111,
              "#46039f"
             ],
             [
              0.2222222222222222,
              "#7201a8"
             ],
             [
              0.3333333333333333,
              "#9c179e"
             ],
             [
              0.4444444444444444,
              "#bd3786"
             ],
             [
              0.5555555555555556,
              "#d8576b"
             ],
             [
              0.6666666666666666,
              "#ed7953"
             ],
             [
              0.7777777777777778,
              "#fb9f3a"
             ],
             [
              0.8888888888888888,
              "#fdca26"
             ],
             [
              1,
              "#f0f921"
             ]
            ],
            "type": "histogram2dcontour"
           }
          ],
          "mesh3d": [
           {
            "colorbar": {
             "outlinewidth": 0,
             "ticks": ""
            },
            "type": "mesh3d"
           }
          ],
          "parcoords": [
           {
            "line": {
             "colorbar": {
              "outlinewidth": 0,
              "ticks": ""
             }
            },
            "type": "parcoords"
           }
          ],
          "pie": [
           {
            "automargin": true,
            "type": "pie"
           }
          ],
          "scatter": [
           {
            "marker": {
             "colorbar": {
              "outlinewidth": 0,
              "ticks": ""
             }
            },
            "type": "scatter"
           }
          ],
          "scatter3d": [
           {
            "line": {
             "colorbar": {
              "outlinewidth": 0,
              "ticks": ""
             }
            },
            "marker": {
             "colorbar": {
              "outlinewidth": 0,
              "ticks": ""
             }
            },
            "type": "scatter3d"
           }
          ],
          "scattercarpet": [
           {
            "marker": {
             "colorbar": {
              "outlinewidth": 0,
              "ticks": ""
             }
            },
            "type": "scattercarpet"
           }
          ],
          "scattergeo": [
           {
            "marker": {
             "colorbar": {
              "outlinewidth": 0,
              "ticks": ""
             }
            },
            "type": "scattergeo"
           }
          ],
          "scattergl": [
           {
            "marker": {
             "colorbar": {
              "outlinewidth": 0,
              "ticks": ""
             }
            },
            "type": "scattergl"
           }
          ],
          "scattermapbox": [
           {
            "marker": {
             "colorbar": {
              "outlinewidth": 0,
              "ticks": ""
             }
            },
            "type": "scattermapbox"
           }
          ],
          "scatterpolar": [
           {
            "marker": {
             "colorbar": {
              "outlinewidth": 0,
              "ticks": ""
             }
            },
            "type": "scatterpolar"
           }
          ],
          "scatterpolargl": [
           {
            "marker": {
             "colorbar": {
              "outlinewidth": 0,
              "ticks": ""
             }
            },
            "type": "scatterpolargl"
           }
          ],
          "scatterternary": [
           {
            "marker": {
             "colorbar": {
              "outlinewidth": 0,
              "ticks": ""
             }
            },
            "type": "scatterternary"
           }
          ],
          "surface": [
           {
            "colorbar": {
             "outlinewidth": 0,
             "ticks": ""
            },
            "colorscale": [
             [
              0,
              "#0d0887"
             ],
             [
              0.1111111111111111,
              "#46039f"
             ],
             [
              0.2222222222222222,
              "#7201a8"
             ],
             [
              0.3333333333333333,
              "#9c179e"
             ],
             [
              0.4444444444444444,
              "#bd3786"
             ],
             [
              0.5555555555555556,
              "#d8576b"
             ],
             [
              0.6666666666666666,
              "#ed7953"
             ],
             [
              0.7777777777777778,
              "#fb9f3a"
             ],
             [
              0.8888888888888888,
              "#fdca26"
             ],
             [
              1,
              "#f0f921"
             ]
            ],
            "type": "surface"
           }
          ],
          "table": [
           {
            "cells": {
             "fill": {
              "color": "#EBF0F8"
             },
             "line": {
              "color": "white"
             }
            },
            "header": {
             "fill": {
              "color": "#C8D4E3"
             },
             "line": {
              "color": "white"
             }
            },
            "type": "table"
           }
          ]
         },
         "layout": {
          "annotationdefaults": {
           "arrowcolor": "#2a3f5f",
           "arrowhead": 0,
           "arrowwidth": 1
          },
          "coloraxis": {
           "colorbar": {
            "outlinewidth": 0,
            "ticks": ""
           }
          },
          "colorscale": {
           "diverging": [
            [
             0,
             "#8e0152"
            ],
            [
             0.1,
             "#c51b7d"
            ],
            [
             0.2,
             "#de77ae"
            ],
            [
             0.3,
             "#f1b6da"
            ],
            [
             0.4,
             "#fde0ef"
            ],
            [
             0.5,
             "#f7f7f7"
            ],
            [
             0.6,
             "#e6f5d0"
            ],
            [
             0.7,
             "#b8e186"
            ],
            [
             0.8,
             "#7fbc41"
            ],
            [
             0.9,
             "#4d9221"
            ],
            [
             1,
             "#276419"
            ]
           ],
           "sequential": [
            [
             0,
             "#0d0887"
            ],
            [
             0.1111111111111111,
             "#46039f"
            ],
            [
             0.2222222222222222,
             "#7201a8"
            ],
            [
             0.3333333333333333,
             "#9c179e"
            ],
            [
             0.4444444444444444,
             "#bd3786"
            ],
            [
             0.5555555555555556,
             "#d8576b"
            ],
            [
             0.6666666666666666,
             "#ed7953"
            ],
            [
             0.7777777777777778,
             "#fb9f3a"
            ],
            [
             0.8888888888888888,
             "#fdca26"
            ],
            [
             1,
             "#f0f921"
            ]
           ],
           "sequentialminus": [
            [
             0,
             "#0d0887"
            ],
            [
             0.1111111111111111,
             "#46039f"
            ],
            [
             0.2222222222222222,
             "#7201a8"
            ],
            [
             0.3333333333333333,
             "#9c179e"
            ],
            [
             0.4444444444444444,
             "#bd3786"
            ],
            [
             0.5555555555555556,
             "#d8576b"
            ],
            [
             0.6666666666666666,
             "#ed7953"
            ],
            [
             0.7777777777777778,
             "#fb9f3a"
            ],
            [
             0.8888888888888888,
             "#fdca26"
            ],
            [
             1,
             "#f0f921"
            ]
           ]
          },
          "colorway": [
           "#636efa",
           "#EF553B",
           "#00cc96",
           "#ab63fa",
           "#FFA15A",
           "#19d3f3",
           "#FF6692",
           "#B6E880",
           "#FF97FF",
           "#FECB52"
          ],
          "font": {
           "color": "#2a3f5f"
          },
          "geo": {
           "bgcolor": "white",
           "lakecolor": "white",
           "landcolor": "#E5ECF6",
           "showlakes": true,
           "showland": true,
           "subunitcolor": "white"
          },
          "hoverlabel": {
           "align": "left"
          },
          "hovermode": "closest",
          "mapbox": {
           "style": "light"
          },
          "paper_bgcolor": "white",
          "plot_bgcolor": "#E5ECF6",
          "polar": {
           "angularaxis": {
            "gridcolor": "white",
            "linecolor": "white",
            "ticks": ""
           },
           "bgcolor": "#E5ECF6",
           "radialaxis": {
            "gridcolor": "white",
            "linecolor": "white",
            "ticks": ""
           }
          },
          "scene": {
           "xaxis": {
            "backgroundcolor": "#E5ECF6",
            "gridcolor": "white",
            "gridwidth": 2,
            "linecolor": "white",
            "showbackground": true,
            "ticks": "",
            "zerolinecolor": "white"
           },
           "yaxis": {
            "backgroundcolor": "#E5ECF6",
            "gridcolor": "white",
            "gridwidth": 2,
            "linecolor": "white",
            "showbackground": true,
            "ticks": "",
            "zerolinecolor": "white"
           },
           "zaxis": {
            "backgroundcolor": "#E5ECF6",
            "gridcolor": "white",
            "gridwidth": 2,
            "linecolor": "white",
            "showbackground": true,
            "ticks": "",
            "zerolinecolor": "white"
           }
          },
          "shapedefaults": {
           "line": {
            "color": "#2a3f5f"
           }
          },
          "ternary": {
           "aaxis": {
            "gridcolor": "white",
            "linecolor": "white",
            "ticks": ""
           },
           "baxis": {
            "gridcolor": "white",
            "linecolor": "white",
            "ticks": ""
           },
           "bgcolor": "#E5ECF6",
           "caxis": {
            "gridcolor": "white",
            "linecolor": "white",
            "ticks": ""
           }
          },
          "title": {
           "x": 0.05
          },
          "xaxis": {
           "automargin": true,
           "gridcolor": "white",
           "linecolor": "white",
           "ticks": "",
           "title": {
            "standoff": 15
           },
           "zerolinecolor": "white",
           "zerolinewidth": 2
          },
          "yaxis": {
           "automargin": true,
           "gridcolor": "white",
           "linecolor": "white",
           "ticks": "",
           "title": {
            "standoff": 15
           },
           "zerolinecolor": "white",
           "zerolinewidth": 2
          }
         }
        },
        "title": {
         "text": "Refined (no top stopwords) common words on Radiopaedia Articles"
        },
        "yaxis": {
         "tickformat": ",",
         "title": {
          "text": "numbers"
         }
        }
       }
      },
      "text/html": [
       "<div>                            <div id=\"b4055c9c-c86c-4471-9593-59f6921c386f\" class=\"plotly-graph-div\" style=\"height:525px; width:100%;\"></div>            <script type=\"text/javascript\">                require([\"plotly\"], function(Plotly) {                    window.PLOTLYENV=window.PLOTLYENV || {};                                    if (document.getElementById(\"b4055c9c-c86c-4471-9593-59f6921c386f\")) {                    Plotly.newPlot(                        \"b4055c9c-c86c-4471-9593-59f6921c386f\",                        [{\"type\": \"bar\", \"x\": [\"Epidemiology\", \"most\", \"common\", \"1\", \"known\", \"syndrome\", \"may\", \"refers\", \"rare\", \"one\", \"disease\", \"it\", \"used\", \"sign\", \"at\", \"artery\", \"They\", \"usually\", \"A\", \"seen\", \"has\", \"This\", \"anterior\", \"Pathology\", \"type\", \"bone\", \"imaging\", \"presentation\", \"between\", \"tumors\", \"posterior\", \"into\", \"not\", \"Clinical\", \"patients\", \"lateral\", \"more\", \"but\", \"anatomy\", \"pulmonary\", \"nerve\", \"often\", \"other\", \"occur\", \"have\", \"commonly\", \"Gross\", \"term\", \"within\", \"two\", \"part\", \"due\"], \"y\": [1895, 1883, 1829, 1802, 1779, 1605, 1604, 1531, 1521, 1500, 1499, 1475, 1412, 1391, 1338, 1326, 1304, 1276, 1249, 1229, 1223, 1205, 1120, 1118, 1097, 1080, 1068, 1058, 1056, 1030, 1027, 1018, 1012, 999, 982, 967, 963, 955, 939, 935, 934, 905, 905, 887, 885, 860, 838, 838, 820, 813, 783, 747]}],                        {\"template\": {\"data\": {\"bar\": [{\"error_x\": {\"color\": \"#2a3f5f\"}, \"error_y\": {\"color\": \"#2a3f5f\"}, \"marker\": {\"line\": {\"color\": \"#E5ECF6\", \"width\": 0.5}}, \"type\": \"bar\"}], \"barpolar\": [{\"marker\": {\"line\": {\"color\": \"#E5ECF6\", \"width\": 0.5}}, \"type\": \"barpolar\"}], \"carpet\": [{\"aaxis\": {\"endlinecolor\": \"#2a3f5f\", \"gridcolor\": \"white\", \"linecolor\": \"white\", \"minorgridcolor\": \"white\", \"startlinecolor\": \"#2a3f5f\"}, \"baxis\": {\"endlinecolor\": \"#2a3f5f\", \"gridcolor\": \"white\", \"linecolor\": \"white\", \"minorgridcolor\": \"white\", \"startlinecolor\": \"#2a3f5f\"}, \"type\": \"carpet\"}], \"choropleth\": [{\"colorbar\": {\"outlinewidth\": 0, \"ticks\": \"\"}, \"type\": \"choropleth\"}], \"contour\": [{\"colorbar\": {\"outlinewidth\": 0, \"ticks\": \"\"}, \"colorscale\": [[0.0, \"#0d0887\"], [0.1111111111111111, \"#46039f\"], [0.2222222222222222, \"#7201a8\"], [0.3333333333333333, \"#9c179e\"], [0.4444444444444444, \"#bd3786\"], [0.5555555555555556, \"#d8576b\"], [0.6666666666666666, \"#ed7953\"], [0.7777777777777778, \"#fb9f3a\"], [0.8888888888888888, \"#fdca26\"], [1.0, \"#f0f921\"]], \"type\": \"contour\"}], \"contourcarpet\": [{\"colorbar\": {\"outlinewidth\": 0, \"ticks\": \"\"}, \"type\": \"contourcarpet\"}], \"heatmap\": [{\"colorbar\": {\"outlinewidth\": 0, \"ticks\": \"\"}, \"colorscale\": [[0.0, \"#0d0887\"], [0.1111111111111111, \"#46039f\"], [0.2222222222222222, \"#7201a8\"], [0.3333333333333333, \"#9c179e\"], [0.4444444444444444, \"#bd3786\"], [0.5555555555555556, \"#d8576b\"], [0.6666666666666666, \"#ed7953\"], [0.7777777777777778, \"#fb9f3a\"], [0.8888888888888888, \"#fdca26\"], [1.0, \"#f0f921\"]], \"type\": \"heatmap\"}], \"heatmapgl\": [{\"colorbar\": {\"outlinewidth\": 0, \"ticks\": \"\"}, \"colorscale\": [[0.0, \"#0d0887\"], [0.1111111111111111, \"#46039f\"], [0.2222222222222222, \"#7201a8\"], [0.3333333333333333, \"#9c179e\"], [0.4444444444444444, \"#bd3786\"], [0.5555555555555556, \"#d8576b\"], [0.6666666666666666, \"#ed7953\"], [0.7777777777777778, \"#fb9f3a\"], [0.8888888888888888, \"#fdca26\"], [1.0, \"#f0f921\"]], \"type\": \"heatmapgl\"}], \"histogram\": [{\"marker\": {\"colorbar\": {\"outlinewidth\": 0, \"ticks\": \"\"}}, \"type\": \"histogram\"}], \"histogram2d\": [{\"colorbar\": {\"outlinewidth\": 0, \"ticks\": \"\"}, \"colorscale\": [[0.0, \"#0d0887\"], [0.1111111111111111, \"#46039f\"], [0.2222222222222222, \"#7201a8\"], [0.3333333333333333, \"#9c179e\"], [0.4444444444444444, \"#bd3786\"], [0.5555555555555556, \"#d8576b\"], [0.6666666666666666, \"#ed7953\"], [0.7777777777777778, \"#fb9f3a\"], [0.8888888888888888, \"#fdca26\"], [1.0, \"#f0f921\"]], \"type\": \"histogram2d\"}], \"histogram2dcontour\": [{\"colorbar\": {\"outlinewidth\": 0, \"ticks\": \"\"}, \"colorscale\": [[0.0, \"#0d0887\"], [0.1111111111111111, \"#46039f\"], [0.2222222222222222, \"#7201a8\"], [0.3333333333333333, \"#9c179e\"], [0.4444444444444444, \"#bd3786\"], [0.5555555555555556, \"#d8576b\"], [0.6666666666666666, \"#ed7953\"], [0.7777777777777778, \"#fb9f3a\"], [0.8888888888888888, \"#fdca26\"], [1.0, \"#f0f921\"]], \"type\": \"histogram2dcontour\"}], \"mesh3d\": [{\"colorbar\": {\"outlinewidth\": 0, \"ticks\": \"\"}, \"type\": \"mesh3d\"}], \"parcoords\": [{\"line\": {\"colorbar\": {\"outlinewidth\": 0, \"ticks\": \"\"}}, \"type\": \"parcoords\"}], \"pie\": [{\"automargin\": true, \"type\": \"pie\"}], \"scatter\": [{\"marker\": {\"colorbar\": {\"outlinewidth\": 0, \"ticks\": \"\"}}, \"type\": \"scatter\"}], \"scatter3d\": [{\"line\": {\"colorbar\": {\"outlinewidth\": 0, \"ticks\": \"\"}}, \"marker\": {\"colorbar\": {\"outlinewidth\": 0, \"ticks\": \"\"}}, \"type\": \"scatter3d\"}], \"scattercarpet\": [{\"marker\": {\"colorbar\": {\"outlinewidth\": 0, \"ticks\": \"\"}}, \"type\": \"scattercarpet\"}], \"scattergeo\": [{\"marker\": {\"colorbar\": {\"outlinewidth\": 0, \"ticks\": \"\"}}, \"type\": \"scattergeo\"}], \"scattergl\": [{\"marker\": {\"colorbar\": {\"outlinewidth\": 0, \"ticks\": \"\"}}, \"type\": \"scattergl\"}], \"scattermapbox\": [{\"marker\": {\"colorbar\": {\"outlinewidth\": 0, \"ticks\": \"\"}}, \"type\": \"scattermapbox\"}], \"scatterpolar\": [{\"marker\": {\"colorbar\": {\"outlinewidth\": 0, \"ticks\": \"\"}}, \"type\": \"scatterpolar\"}], \"scatterpolargl\": [{\"marker\": {\"colorbar\": {\"outlinewidth\": 0, \"ticks\": \"\"}}, \"type\": \"scatterpolargl\"}], \"scatterternary\": [{\"marker\": {\"colorbar\": {\"outlinewidth\": 0, \"ticks\": \"\"}}, \"type\": \"scatterternary\"}], \"surface\": [{\"colorbar\": {\"outlinewidth\": 0, \"ticks\": \"\"}, \"colorscale\": [[0.0, \"#0d0887\"], [0.1111111111111111, \"#46039f\"], [0.2222222222222222, \"#7201a8\"], [0.3333333333333333, \"#9c179e\"], [0.4444444444444444, \"#bd3786\"], [0.5555555555555556, \"#d8576b\"], [0.6666666666666666, \"#ed7953\"], [0.7777777777777778, \"#fb9f3a\"], [0.8888888888888888, \"#fdca26\"], [1.0, \"#f0f921\"]], \"type\": \"surface\"}], \"table\": [{\"cells\": {\"fill\": {\"color\": \"#EBF0F8\"}, \"line\": {\"color\": \"white\"}}, \"header\": {\"fill\": {\"color\": \"#C8D4E3\"}, \"line\": {\"color\": \"white\"}}, \"type\": \"table\"}]}, \"layout\": {\"annotationdefaults\": {\"arrowcolor\": \"#2a3f5f\", \"arrowhead\": 0, \"arrowwidth\": 1}, \"coloraxis\": {\"colorbar\": {\"outlinewidth\": 0, \"ticks\": \"\"}}, \"colorscale\": {\"diverging\": [[0, \"#8e0152\"], [0.1, \"#c51b7d\"], [0.2, \"#de77ae\"], [0.3, \"#f1b6da\"], [0.4, \"#fde0ef\"], [0.5, \"#f7f7f7\"], [0.6, \"#e6f5d0\"], [0.7, \"#b8e186\"], [0.8, \"#7fbc41\"], [0.9, \"#4d9221\"], [1, \"#276419\"]], \"sequential\": [[0.0, \"#0d0887\"], [0.1111111111111111, \"#46039f\"], [0.2222222222222222, \"#7201a8\"], [0.3333333333333333, \"#9c179e\"], [0.4444444444444444, \"#bd3786\"], [0.5555555555555556, \"#d8576b\"], [0.6666666666666666, \"#ed7953\"], [0.7777777777777778, \"#fb9f3a\"], [0.8888888888888888, \"#fdca26\"], [1.0, \"#f0f921\"]], \"sequentialminus\": [[0.0, \"#0d0887\"], [0.1111111111111111, \"#46039f\"], [0.2222222222222222, \"#7201a8\"], [0.3333333333333333, \"#9c179e\"], [0.4444444444444444, \"#bd3786\"], [0.5555555555555556, \"#d8576b\"], [0.6666666666666666, \"#ed7953\"], [0.7777777777777778, \"#fb9f3a\"], [0.8888888888888888, \"#fdca26\"], [1.0, \"#f0f921\"]]}, \"colorway\": [\"#636efa\", \"#EF553B\", \"#00cc96\", \"#ab63fa\", \"#FFA15A\", \"#19d3f3\", \"#FF6692\", \"#B6E880\", \"#FF97FF\", \"#FECB52\"], \"font\": {\"color\": \"#2a3f5f\"}, \"geo\": {\"bgcolor\": \"white\", \"lakecolor\": \"white\", \"landcolor\": \"#E5ECF6\", \"showlakes\": true, \"showland\": true, \"subunitcolor\": \"white\"}, \"hoverlabel\": {\"align\": \"left\"}, \"hovermode\": \"closest\", \"mapbox\": {\"style\": \"light\"}, \"paper_bgcolor\": \"white\", \"plot_bgcolor\": \"#E5ECF6\", \"polar\": {\"angularaxis\": {\"gridcolor\": \"white\", \"linecolor\": \"white\", \"ticks\": \"\"}, \"bgcolor\": \"#E5ECF6\", \"radialaxis\": {\"gridcolor\": \"white\", \"linecolor\": \"white\", \"ticks\": \"\"}}, \"scene\": {\"xaxis\": {\"backgroundcolor\": \"#E5ECF6\", \"gridcolor\": \"white\", \"gridwidth\": 2, \"linecolor\": \"white\", \"showbackground\": true, \"ticks\": \"\", \"zerolinecolor\": \"white\"}, \"yaxis\": {\"backgroundcolor\": \"#E5ECF6\", \"gridcolor\": \"white\", \"gridwidth\": 2, \"linecolor\": \"white\", \"showbackground\": true, \"ticks\": \"\", \"zerolinecolor\": \"white\"}, \"zaxis\": {\"backgroundcolor\": \"#E5ECF6\", \"gridcolor\": \"white\", \"gridwidth\": 2, \"linecolor\": \"white\", \"showbackground\": true, \"ticks\": \"\", \"zerolinecolor\": \"white\"}}, \"shapedefaults\": {\"line\": {\"color\": \"#2a3f5f\"}}, \"ternary\": {\"aaxis\": {\"gridcolor\": \"white\", \"linecolor\": \"white\", \"ticks\": \"\"}, \"baxis\": {\"gridcolor\": \"white\", \"linecolor\": \"white\", \"ticks\": \"\"}, \"bgcolor\": \"#E5ECF6\", \"caxis\": {\"gridcolor\": \"white\", \"linecolor\": \"white\", \"ticks\": \"\"}}, \"title\": {\"x\": 0.05}, \"xaxis\": {\"automargin\": true, \"gridcolor\": \"white\", \"linecolor\": \"white\", \"ticks\": \"\", \"title\": {\"standoff\": 15}, \"zerolinecolor\": \"white\", \"zerolinewidth\": 2}, \"yaxis\": {\"automargin\": true, \"gridcolor\": \"white\", \"linecolor\": \"white\", \"ticks\": \"\", \"title\": {\"standoff\": 15}, \"zerolinecolor\": \"white\", \"zerolinewidth\": 2}}}, \"title\": {\"text\": \"Refined (no top stopwords) common words on Radiopaedia Articles\"}, \"yaxis\": {\"tickformat\": \",\", \"title\": {\"text\": \"numbers\"}}},                        {\"responsive\": true}                    ).then(function(){\n",
       "                            \n",
       "var gd = document.getElementById('b4055c9c-c86c-4471-9593-59f6921c386f');\n",
       "var x = new MutationObserver(function (mutations, observer) {{\n",
       "        var display = window.getComputedStyle(gd).display;\n",
       "        if (!display || display === 'none') {{\n",
       "            console.log([gd, 'removed!']);\n",
       "            Plotly.purge(gd);\n",
       "            observer.disconnect();\n",
       "        }}\n",
       "}});\n",
       "\n",
       "// Listen for the removal of the full notebook cells\n",
       "var notebookContainer = gd.closest('#notebook-container');\n",
       "if (notebookContainer) {{\n",
       "    x.observe(notebookContainer, {childList: true});\n",
       "}}\n",
       "\n",
       "// Listen for the clearing of the current output cell\n",
       "var outputEl = gd.closest('.output');\n",
       "if (outputEl) {{\n",
       "    x.observe(outputEl, {childList: true});\n",
       "}}\n",
       "\n",
       "                        })                };                });            </script>        </div>"
      ]
     },
     "metadata": {},
     "output_type": "display_data"
    }
   ],
   "source": [
    "layout = dict(\n",
    "    title='Refined (no top stopwords) common words on Radiopaedia Articles',\n",
    "    yaxis=dict(\n",
    "        title='numbers',\n",
    "        tickformat=',',\n",
    "    )\n",
    ")\n",
    "\n",
    "fig = go.Figure(layout=layout)\n",
    "fig.add_trace(go.Bar(\n",
    "    x=refined_sorted['words'],\n",
    "    y=refined_sorted['count']\n",
    "))\n",
    "\n",
    "iplot(fig)"
   ]
  },
  {
   "cell_type": "code",
   "execution_count": null,
   "metadata": {},
   "outputs": [],
   "source": []
  },
  {
   "cell_type": "code",
   "execution_count": null,
   "metadata": {},
   "outputs": [],
   "source": []
  }
 ],
 "metadata": {
  "kernelspec": {
   "display_name": "Python 3",
   "language": "python",
   "name": "python3"
  },
  "language_info": {
   "codemirror_mode": {
    "name": "ipython",
    "version": 3
   },
   "file_extension": ".py",
   "mimetype": "text/x-python",
   "name": "python",
   "nbconvert_exporter": "python",
   "pygments_lexer": "ipython3",
   "version": "3.7.1"
  }
 },
 "nbformat": 4,
 "nbformat_minor": 2
}
